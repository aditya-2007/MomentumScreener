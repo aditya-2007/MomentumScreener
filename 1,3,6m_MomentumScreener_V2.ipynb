{
  "nbformat": 4,
  "nbformat_minor": 0,
  "metadata": {
    "colab": {
      "provenance": [],
      "include_colab_link": true
    },
    "kernelspec": {
      "name": "python3",
      "display_name": "Python 3"
    },
    "language_info": {
      "name": "python"
    }
  },
  "cells": [
    {
      "cell_type": "markdown",
      "metadata": {
        "id": "view-in-github",
        "colab_type": "text"
      },
      "source": [
        "<a href=\"https://colab.research.google.com/github/aditya-2007/MomentumScreener/blob/develop/1%2C3%2C6m_MomentumScreener_V2.ipynb\" target=\"_parent\"><img src=\"https://colab.research.google.com/assets/colab-badge.svg\" alt=\"Open In Colab\"/></a>"
      ]
    },
    {
      "cell_type": "code",
      "execution_count": null,
      "metadata": {
        "id": "wxp6ZqGnyJWD"
      },
      "outputs": [],
      "source": [
        "!pip install pandas numpy yfinance pytesseract pillow"
      ]
    },
    {
      "cell_type": "code",
      "source": [
        "\n",
        "import yfinance as yf\n",
        "import pandas as pd\n",
        "import numpy as np\n",
        "from datetime import datetime, timedelta\n",
        "import matplotlib.pyplot as plt\n",
        "from matplotlib.table import Table\n",
        "\n",
        "# List of tickers - Nifty 200 list\n",
        "'''tickers = ['ABB.NS','ACC.NS','APLAPOLLO.NS','AUBANK.NS','ADANIENSOL.NS','ADANIENT.NS','ADANIGREEN.NS','ADANIPORTS.NS','ADANIPOWER.NS','ATGL.NS','ABCAPITAL.NS','ABFRL.NS','ALKEM.NS','AMBUJACEM.NS','APOLLOHOSP.NS','APOLLOTYRE.NS',\n",
        "           'ASHOKLEY.NS','ASIANPAINT.NS','ASTRAL.NS','AUROPHARMA.NS','DMART.NS','AXISBANK.NS','BSE.NS','BAJAJ-AUTO.NS','BAJFINANCE.NS','BAJAJFINSV.NS','BAJAJHLDNG.NS','BALKRISIND.NS','BANDHANBNK.NS','BANKBARODA.NS','BANKINDIA.NS'\n",
        "           ,'MAHABANK.NS','BDL.NS','BEL.NS','BHARATFORG.NS','BHEL.NS','BPCL.NS','BHARTIARTL.NS','BHARTIHEXA.NS','BIOCON.NS','BOSCHLTD.NS','BRITANNIA.NS','CGPOWER.NS','CANBK.NS','CHOLAFIN.NS','CIPLA.NS','COALINDIA.NS','COCHINSHIP.NS',\n",
        "           'COFORGE.NS','COLPAL.NS','CONCOR.NS','CUMMINSIND.NS','DLF.NS','DABUR.NS','DELHIVERY.NS','DIVISLAB.NS','DIXON.NS','DRREDDY.NS','EICHERMOT.NS','ESCORTS.NS','EXIDEIND.NS','NYKAA.NS','FEDERALBNK.NS','FACT.NS','GAIL.NS',\n",
        "           'GMRAIRPORT.NS','GODREJCP.NS','GODREJPROP.NS','GRASIM.NS','HCLTECH.NS','HDFCAMC.NS','HDFCBANK.NS','HDFCLIFE.NS','HAVELLS.NS','HEROMOTOCO.NS','HINDALCO.NS','HAL.NS','HINDPETRO.NS','HINDUNILVR.NS','HINDZINC.NS','HUDCO.NS',\n",
        "           'ICICIBANK.NS','ICICIGI.NS','ICICIPRULI.NS','IDBI.NS','IDFCFIRSTB.NS','IRB.NS','ITC.NS','INDIANB.NS','INDHOTEL.NS','IOC.NS','IOB.NS','IRCTC.NS','IRFC.NS','IREDA.NS','IGL.NS','INDUSTOWER.NS','INDUSINDBK.NS','NAUKRI.NS','INFY.NS',\n",
        "           'INDIGO.NS','JSWENERGY.NS','JSWINFRA.NS','JSWSTEEL.NS','JINDALSTEL.NS','JIOFIN.NS','JUBLFOOD.NS','KPITTECH.NS','KALYANKJIL.NS','KOTAKBANK.NS','LTF.NS','LICHSGFIN.NS','LTIM.NS','LT.NS','LICI.NS','LUPIN.NS','MRF.NS','LODHA.NS',\n",
        "           'M&MFIN.NS','M&M.NS','MRPL.NS','MANKIND.NS','MARICO.NS','MARUTI.NS','MFSL.NS','MAXHEALTH.NS','MAZDOCK.NS','MPHASIS.NS','MUTHOOTFIN.NS','NHPC.NS','NLCINDIA.NS','NMDC.NS','NTPC.NS','NESTLEIND.NS','OBEROIRLTY.NS','ONGC.NS','OIL.NS',\n",
        "           'PAYTM.NS','OFSS.NS','POLICYBZR.NS','PIIND.NS','PAGEIND.NS','PATANJALI.NS','PERSISTENT.NS','PETRONET.NS','PHOENIXLTD.NS','PIDILITIND.NS','POLYCAB.NS','POONAWALLA.NS','PFC.NS','POWERGRID.NS','PRESTIGE.NS','PNB.NS','RECLTD.NS',\n",
        "           'RVNL.NS','RELIANCE.NS','SBICARD.NS','SBILIFE.NS','SJVN.NS','SRF.NS','MOTHERSON.NS','SHREECEM.NS','SHRIRAMFIN.NS','SIEMENS.NS','SOLARINDS.NS','SONACOMS.NS','SBIN.NS','SAIL.NS','SUNPHARMA.NS','SUNDARMFIN.NS','SUPREMEIND.NS','SUZLON.NS',\n",
        "           'TVSMOTOR.NS','TATACHEM.NS','TATACOMM.NS','TCS.NS','TATACONSUM.NS','TATAELXSI.NS','TATAMOTORS.NS','TATAPOWER.NS','TATASTEEL.NS','TATATECH.NS','TECHM.NS','TITAN.NS','TORNTPHARM.NS','TORNTPOWER.NS','TRENT.NS','TIINDIA.NS','UPL.NS',\n",
        "           'ULTRACEMCO.NS','UNIONBANK.NS','UNITDSPR.NS','VBL.NS','VEDL.NS','IDEA.NS','VOLTAS.NS','WIPRO.NS','YESBANK.NS','ZOMATO.NS','ZYDUSLIFE.NS']'''\n",
        "tickers = ['ABB.NS','ACC.NS']\n",
        "\n",
        "# Function to fetch historical data\n",
        "def get_data(ticker, start_date, end_date):\n",
        "    return yf.download(ticker, start=start_date, end=end_date, multi_level_index=False)\n",
        "\n",
        "# Set dates\n",
        "end_date = datetime.today()\n",
        "start_date = end_date - timedelta(days=365 * 2)  # 2 years of data for moving averages\n",
        "\n",
        "# Data dictionary to hold stock data\n",
        "data = {}\n",
        "\n",
        "# Fetch data for all tickers\n",
        "for ticker in tickers:\n",
        "    try:\n",
        "        stock_data = get_data(ticker, start_date, end_date)\n",
        "        print(stock_data.columns)\n",
        "        if len(stock_data) > 0:\n",
        "            data[ticker] = stock_data\n",
        "    except Exception as e:\n",
        "        print(f\"Error fetching data for {ticker}: {e}\")\n",
        "\n",
        "# Create a DataFrame for summary\n",
        "summary = []\n",
        "\n",
        "# Analyze each stock\n",
        "for ticker, df in data.items():\n",
        "    try:\n",
        "        # Calculate EMAs\n",
        "        df['EMA100'] = df['Adj Close'].ewm(span=100).mean()\n",
        "\n",
        "        # Last 1-year return\n",
        "        one_year_return = (df['Adj Close'].iloc[-1] / df['Adj Close'].iloc[-252] - 1) * 100\n",
        "\n",
        "        # 52-week high\n",
        "        high_52_week = df['Adj Close'].iloc[-252:].max()\n",
        "        within_20_pct_high = df['Adj Close'].iloc[-1] >= high_52_week * 0.8\n",
        "\n",
        "        # More than 45% up days in the last 6 months (126 trading days)\n",
        "        six_month_data = df['Adj Close'].iloc[-126:]\n",
        "        up_days = (six_month_data.pct_change() > 0).sum()\n",
        "        up_days_pct = up_days / len(six_month_data) * 100\n",
        "\n",
        "        # Filtering criteria\n",
        "        if (df['Adj Close'].iloc[-1] >= df['EMA100'].iloc[-1] and\n",
        "            one_year_return >= 6.5 and\n",
        "            within_20_pct_high and\n",
        "            up_days_pct > 45):\n",
        "\n",
        "            # Calculate returns\n",
        "            return_6m = (df['Adj Close'].iloc[-1] / df['Adj Close'].iloc[-126] - 1) * 100\n",
        "            return_3m = (df['Adj Close'].iloc[-1] / df['Adj Close'].iloc[-63] - 1) * 100\n",
        "            return_1m = (df['Adj Close'].iloc[-1] / df['Adj Close'].iloc[-21] - 1) * 100\n",
        "\n",
        "            summary.append({\n",
        "                'Ticker': ticker,\n",
        "                'Return_6M': return_6m,\n",
        "                'Return_3M': return_3m,\n",
        "                'Return_1M': return_1m,\n",
        "            })\n",
        "    except Exception as e:\n",
        "        print(f\"Error analyzing {ticker}: {e}\")\n",
        "\n",
        "# Convert summary to DataFrame\n",
        "df_summary = pd.DataFrame(summary)\n",
        "print(df_summary)\n",
        "\n",
        "# Round off returns to 1 decimal place\n",
        "df_summary['Return_6M'] = df_summary['Return_6M'].round(1)\n",
        "df_summary['Return_3M'] = df_summary['Return_3M'].round(1)\n",
        "df_summary['Return_1M'] = df_summary['Return_1M'].round(1)\n",
        "\n",
        "# Ranking based on returns\n",
        "df_summary['Rank_6M'] = df_summary['Return_6M'].rank(ascending=False)\n",
        "df_summary['Rank_3M'] = df_summary['Return_3M'].rank(ascending=False)\n",
        "df_summary['Rank_1M'] = df_summary['Return_1M'].rank(ascending=False)\n",
        "\n",
        "# Calculate final rank\n",
        "df_summary['Final_Rank'] = df_summary['Rank_6M'] + df_summary['Rank_3M'] + df_summary['Rank_1M']\n",
        "\n",
        "# Sort by final rank and get top 30\n",
        "df_summary_sorted = df_summary.sort_values('Final_Rank').head(40)\n",
        "\n",
        "# Assign position based on final rank\n",
        "df_summary_sorted['Position'] = np.arange(1, len(df_summary_sorted) + 1)\n",
        "\n",
        "# Separate top 15 and next 15\n",
        "top_15 = df_summary_sorted.head(15)\n",
        "next_15 = df_summary_sorted.iloc[15:30]\n",
        "\n",
        "# Prepare table data\n",
        "tbl_data = []\n",
        "for i, row in df_summary_sorted.iterrows():\n",
        "    tbl_data.append([row['Ticker'],\n",
        "                     row['Return_6M'], row['Rank_6M'],\n",
        "                     row['Return_3M'], row['Rank_3M'],\n",
        "                     row['Return_1M'], row['Rank_1M'],\n",
        "                     row['Final_Rank'], row['Position']])\n",
        "\n",
        "# Plot the results using matplotlib\n",
        "fig, ax = plt.subplots(figsize=(14, 10))\n",
        "ax.axis('tight')\n",
        "ax.axis('off')\n",
        "\n",
        "# Create a table\n",
        "col_labels = ['Ticker', 'Return_6M', 'Rank_6M', 'Return_3M', 'Rank_3M', 'Return_1M', 'Rank_1M', 'Final_Rank','Position']\n",
        "table = ax.table(cellText=tbl_data, colLabels=col_labels, cellLoc='center', loc='center')\n",
        "table.auto_set_font_size(False)\n",
        "table.set_fontsize(12)\n",
        "table.scale(1, 1.5)\n",
        "\n",
        "# Draw a red line to separate the top 15\n",
        "for i in range(len(col_labels)):\n",
        "    cell = table[(15, i)]\n",
        "    cell.set_edgecolor('red')\n",
        "    cell.set_linewidth(3)\n",
        "\n",
        "# Adjust layout\n",
        "plt.subplots_adjust(left=0.1, top=0.95)  # Adjust top parameter for title position\n",
        "#plt.title('Top 40 Stocks Momentum Ranking', fontsize=18, y=1.05)  # y parameter for title position\n",
        "plt.show()"
      ],
      "metadata": {
        "id": "WIYxuZbvyT_l",
        "colab": {
          "base_uri": "https://localhost:8080/",
          "height": 1000
        },
        "outputId": "e45d145c-778f-4a31-f33f-da04ef8bc6b6"
      },
      "execution_count": 1,
      "outputs": [
        {
          "output_type": "stream",
          "name": "stdout",
          "text": [
            "YF.download() has changed argument auto_adjust default to True\n"
          ]
        },
        {
          "output_type": "stream",
          "name": "stderr",
          "text": [
            "\r[*********************100%***********************]  1 of 1 completed\n"
          ]
        },
        {
          "output_type": "stream",
          "name": "stdout",
          "text": [
            "Index(['Close', 'High', 'Low', 'Open', 'Volume'], dtype='object')\n"
          ]
        },
        {
          "output_type": "stream",
          "name": "stderr",
          "text": [
            "\r[*********************100%***********************]  1 of 1 completed\n"
          ]
        },
        {
          "output_type": "stream",
          "name": "stdout",
          "text": [
            "Index(['Close', 'High', 'Low', 'Open', 'Volume'], dtype='object')\n"
          ]
        },
        {
          "output_type": "stream",
          "name": "stderr",
          "text": [
            "\r[*********************100%***********************]  1 of 1 completed\n"
          ]
        },
        {
          "output_type": "stream",
          "name": "stdout",
          "text": [
            "Index(['Close', 'High', 'Low', 'Open', 'Volume'], dtype='object')\n"
          ]
        },
        {
          "output_type": "stream",
          "name": "stderr",
          "text": [
            "[*********************100%***********************]  1 of 1 completed\n",
            "[*********************100%***********************]  1 of 1 completed\n"
          ]
        },
        {
          "output_type": "stream",
          "name": "stdout",
          "text": [
            "Index(['Close', 'High', 'Low', 'Open', 'Volume'], dtype='object')\n",
            "Index(['Close', 'High', 'Low', 'Open', 'Volume'], dtype='object')\n"
          ]
        },
        {
          "output_type": "stream",
          "name": "stderr",
          "text": [
            "\r[*********************100%***********************]  1 of 1 completed\n"
          ]
        },
        {
          "output_type": "stream",
          "name": "stdout",
          "text": [
            "Index(['Close', 'High', 'Low', 'Open', 'Volume'], dtype='object')\n"
          ]
        },
        {
          "output_type": "stream",
          "name": "stderr",
          "text": [
            "\r[*********************100%***********************]  1 of 1 completed\n"
          ]
        },
        {
          "output_type": "stream",
          "name": "stdout",
          "text": [
            "Index(['Close', 'High', 'Low', 'Open', 'Volume'], dtype='object')\n"
          ]
        },
        {
          "output_type": "stream",
          "name": "stderr",
          "text": [
            "\r[*********************100%***********************]  1 of 1 completed\n"
          ]
        },
        {
          "output_type": "stream",
          "name": "stdout",
          "text": [
            "Index(['Close', 'High', 'Low', 'Open', 'Volume'], dtype='object')\n"
          ]
        },
        {
          "output_type": "stream",
          "name": "stderr",
          "text": [
            "\r[*********************100%***********************]  1 of 1 completed\n"
          ]
        },
        {
          "output_type": "stream",
          "name": "stdout",
          "text": [
            "Index(['Close', 'High', 'Low', 'Open', 'Volume'], dtype='object')\n"
          ]
        },
        {
          "output_type": "stream",
          "name": "stderr",
          "text": [
            "[*********************100%***********************]  1 of 1 completed\n",
            "[*********************100%***********************]  1 of 1 completed\n"
          ]
        },
        {
          "output_type": "stream",
          "name": "stdout",
          "text": [
            "Index(['Close', 'High', 'Low', 'Open', 'Volume'], dtype='object')\n",
            "Index(['Close', 'High', 'Low', 'Open', 'Volume'], dtype='object')\n"
          ]
        },
        {
          "output_type": "stream",
          "name": "stderr",
          "text": [
            "[*********************100%***********************]  1 of 1 completed\n",
            "[*********************100%***********************]  1 of 1 completed\n"
          ]
        },
        {
          "output_type": "stream",
          "name": "stdout",
          "text": [
            "Index(['Close', 'High', 'Low', 'Open', 'Volume'], dtype='object')\n",
            "Index(['Close', 'High', 'Low', 'Open', 'Volume'], dtype='object')\n"
          ]
        },
        {
          "output_type": "stream",
          "name": "stderr",
          "text": [
            "\r[*********************100%***********************]  1 of 1 completed\n"
          ]
        },
        {
          "output_type": "stream",
          "name": "stdout",
          "text": [
            "Index(['Close', 'High', 'Low', 'Open', 'Volume'], dtype='object')\n"
          ]
        },
        {
          "output_type": "stream",
          "name": "stderr",
          "text": [
            "\r[*********************100%***********************]  1 of 1 completed\n"
          ]
        },
        {
          "output_type": "stream",
          "name": "stdout",
          "text": [
            "Index(['Close', 'High', 'Low', 'Open', 'Volume'], dtype='object')\n"
          ]
        },
        {
          "output_type": "stream",
          "name": "stderr",
          "text": [
            "\r[*********************100%***********************]  1 of 1 completed\n"
          ]
        },
        {
          "output_type": "stream",
          "name": "stdout",
          "text": [
            "Index(['Close', 'High', 'Low', 'Open', 'Volume'], dtype='object')\n"
          ]
        },
        {
          "output_type": "stream",
          "name": "stderr",
          "text": [
            "\r[*********************100%***********************]  1 of 1 completed\n"
          ]
        },
        {
          "output_type": "stream",
          "name": "stdout",
          "text": [
            "Index(['Close', 'High', 'Low', 'Open', 'Volume'], dtype='object')\n"
          ]
        },
        {
          "output_type": "stream",
          "name": "stderr",
          "text": [
            "\r[*********************100%***********************]  1 of 1 completed\n"
          ]
        },
        {
          "output_type": "stream",
          "name": "stdout",
          "text": [
            "Index(['Close', 'High', 'Low', 'Open', 'Volume'], dtype='object')\n"
          ]
        },
        {
          "output_type": "stream",
          "name": "stderr",
          "text": [
            "\r[*********************100%***********************]  1 of 1 completed\n"
          ]
        },
        {
          "output_type": "stream",
          "name": "stdout",
          "text": [
            "Index(['Close', 'High', 'Low', 'Open', 'Volume'], dtype='object')\n"
          ]
        },
        {
          "output_type": "stream",
          "name": "stderr",
          "text": [
            "[*********************100%***********************]  1 of 1 completed\n",
            "[*********************100%***********************]  1 of 1 completed\n"
          ]
        },
        {
          "output_type": "stream",
          "name": "stdout",
          "text": [
            "Index(['Close', 'High', 'Low', 'Open', 'Volume'], dtype='object')\n",
            "Index(['Close', 'High', 'Low', 'Open', 'Volume'], dtype='object')\n"
          ]
        },
        {
          "output_type": "stream",
          "name": "stderr",
          "text": [
            "\r[*********************100%***********************]  1 of 1 completed\n"
          ]
        },
        {
          "output_type": "stream",
          "name": "stdout",
          "text": [
            "Index(['Close', 'High', 'Low', 'Open', 'Volume'], dtype='object')\n"
          ]
        },
        {
          "output_type": "stream",
          "name": "stderr",
          "text": [
            "[*********************100%***********************]  1 of 1 completed\n",
            "[*********************100%***********************]  1 of 1 completed"
          ]
        },
        {
          "output_type": "stream",
          "name": "stdout",
          "text": [
            "Index(['Close', 'High', 'Low', 'Open', 'Volume'], dtype='object')\n"
          ]
        },
        {
          "output_type": "stream",
          "name": "stderr",
          "text": [
            "\n"
          ]
        },
        {
          "output_type": "stream",
          "name": "stdout",
          "text": [
            "Index(['Close', 'High', 'Low', 'Open', 'Volume'], dtype='object')\n"
          ]
        },
        {
          "output_type": "stream",
          "name": "stderr",
          "text": [
            "\r[*********************100%***********************]  1 of 1 completed\n"
          ]
        },
        {
          "output_type": "stream",
          "name": "stdout",
          "text": [
            "Index(['Close', 'High', 'Low', 'Open', 'Volume'], dtype='object')\n"
          ]
        },
        {
          "output_type": "stream",
          "name": "stderr",
          "text": [
            "\r[*********************100%***********************]  1 of 1 completed\n"
          ]
        },
        {
          "output_type": "stream",
          "name": "stdout",
          "text": [
            "Index(['Close', 'High', 'Low', 'Open', 'Volume'], dtype='object')\n"
          ]
        },
        {
          "output_type": "stream",
          "name": "stderr",
          "text": [
            "\r[*********************100%***********************]  1 of 1 completed\n"
          ]
        },
        {
          "output_type": "stream",
          "name": "stdout",
          "text": [
            "Index(['Close', 'High', 'Low', 'Open', 'Volume'], dtype='object')\n"
          ]
        },
        {
          "output_type": "stream",
          "name": "stderr",
          "text": [
            "[*********************100%***********************]  1 of 1 completed\n",
            "[*********************100%***********************]  1 of 1 completed\n"
          ]
        },
        {
          "output_type": "stream",
          "name": "stdout",
          "text": [
            "Index(['Close', 'High', 'Low', 'Open', 'Volume'], dtype='object')\n",
            "Index(['Close', 'High', 'Low', 'Open', 'Volume'], dtype='object')\n"
          ]
        },
        {
          "output_type": "stream",
          "name": "stderr",
          "text": [
            "\r[*********************100%***********************]  1 of 1 completed\n"
          ]
        },
        {
          "output_type": "stream",
          "name": "stdout",
          "text": [
            "Index(['Close', 'High', 'Low', 'Open', 'Volume'], dtype='object')\n"
          ]
        },
        {
          "output_type": "stream",
          "name": "stderr",
          "text": [
            "[*********************100%***********************]  1 of 1 completed\n",
            "[*********************100%***********************]  1 of 1 completed"
          ]
        },
        {
          "output_type": "stream",
          "name": "stdout",
          "text": [
            "Index(['Close', 'High', 'Low', 'Open', 'Volume'], dtype='object')\n",
            "Index(['Close', 'High', 'Low', 'Open', 'Volume'], dtype='object')\n"
          ]
        },
        {
          "output_type": "stream",
          "name": "stderr",
          "text": [
            "\n",
            "\r[*********************100%***********************]  1 of 1 completed\n"
          ]
        },
        {
          "output_type": "stream",
          "name": "stdout",
          "text": [
            "Index(['Close', 'High', 'Low', 'Open', 'Volume'], dtype='object')\n"
          ]
        },
        {
          "output_type": "stream",
          "name": "stderr",
          "text": [
            "[*********************100%***********************]  1 of 1 completed\n",
            "[*********************100%***********************]  1 of 1 completed\n"
          ]
        },
        {
          "output_type": "stream",
          "name": "stdout",
          "text": [
            "Index(['Close', 'High', 'Low', 'Open', 'Volume'], dtype='object')\n",
            "Index(['Close', 'High', 'Low', 'Open', 'Volume'], dtype='object')\n"
          ]
        },
        {
          "output_type": "stream",
          "name": "stderr",
          "text": [
            "\r[*********************100%***********************]  1 of 1 completed\n"
          ]
        },
        {
          "output_type": "stream",
          "name": "stdout",
          "text": [
            "Index(['Close', 'High', 'Low', 'Open', 'Volume'], dtype='object')\n"
          ]
        },
        {
          "output_type": "stream",
          "name": "stderr",
          "text": [
            "[*********************100%***********************]  1 of 1 completed\n",
            "[*********************100%***********************]  1 of 1 completed\n"
          ]
        },
        {
          "output_type": "stream",
          "name": "stdout",
          "text": [
            "Index(['Close', 'High', 'Low', 'Open', 'Volume'], dtype='object')\n",
            "Index(['Close', 'High', 'Low', 'Open', 'Volume'], dtype='object')\n"
          ]
        },
        {
          "output_type": "stream",
          "name": "stderr",
          "text": [
            "[*********************100%***********************]  1 of 1 completed\n",
            "[*********************100%***********************]  1 of 1 completed\n"
          ]
        },
        {
          "output_type": "stream",
          "name": "stdout",
          "text": [
            "Index(['Close', 'High', 'Low', 'Open', 'Volume'], dtype='object')\n",
            "Index(['Close', 'High', 'Low', 'Open', 'Volume'], dtype='object')\n"
          ]
        },
        {
          "output_type": "stream",
          "name": "stderr",
          "text": [
            "[*********************100%***********************]  1 of 1 completed\n",
            "[*********************100%***********************]  1 of 1 completed\n"
          ]
        },
        {
          "output_type": "stream",
          "name": "stdout",
          "text": [
            "Index(['Close', 'High', 'Low', 'Open', 'Volume'], dtype='object')\n",
            "Index(['Close', 'High', 'Low', 'Open', 'Volume'], dtype='object')\n"
          ]
        },
        {
          "output_type": "stream",
          "name": "stderr",
          "text": [
            "[*********************100%***********************]  1 of 1 completed\n",
            "[*********************100%***********************]  1 of 1 completed\n"
          ]
        },
        {
          "output_type": "stream",
          "name": "stdout",
          "text": [
            "Index(['Close', 'High', 'Low', 'Open', 'Volume'], dtype='object')\n",
            "Index(['Close', 'High', 'Low', 'Open', 'Volume'], dtype='object')\n"
          ]
        },
        {
          "output_type": "stream",
          "name": "stderr",
          "text": [
            "\r[*********************100%***********************]  1 of 1 completed\n"
          ]
        },
        {
          "output_type": "stream",
          "name": "stdout",
          "text": [
            "Index(['Close', 'High', 'Low', 'Open', 'Volume'], dtype='object')\n"
          ]
        },
        {
          "output_type": "stream",
          "name": "stderr",
          "text": [
            "\r[*********************100%***********************]  1 of 1 completed\n"
          ]
        },
        {
          "output_type": "stream",
          "name": "stdout",
          "text": [
            "Index(['Close', 'High', 'Low', 'Open', 'Volume'], dtype='object')\n"
          ]
        },
        {
          "output_type": "stream",
          "name": "stderr",
          "text": [
            "\r[*********************100%***********************]  1 of 1 completed\n"
          ]
        },
        {
          "output_type": "stream",
          "name": "stdout",
          "text": [
            "Index(['Close', 'High', 'Low', 'Open', 'Volume'], dtype='object')\n"
          ]
        },
        {
          "output_type": "stream",
          "name": "stderr",
          "text": [
            "[*********************100%***********************]  1 of 1 completed\n",
            "[*********************100%***********************]  1 of 1 completed\n"
          ]
        },
        {
          "output_type": "stream",
          "name": "stdout",
          "text": [
            "Index(['Close', 'High', 'Low', 'Open', 'Volume'], dtype='object')\n",
            "Index(['Close', 'High', 'Low', 'Open', 'Volume'], dtype='object')\n"
          ]
        },
        {
          "output_type": "stream",
          "name": "stderr",
          "text": [
            "\r[*********************100%***********************]  1 of 1 completed\n"
          ]
        },
        {
          "output_type": "stream",
          "name": "stdout",
          "text": [
            "Index(['Close', 'High', 'Low', 'Open', 'Volume'], dtype='object')\n"
          ]
        },
        {
          "output_type": "stream",
          "name": "stderr",
          "text": [
            "\r[*********************100%***********************]  1 of 1 completed\n"
          ]
        },
        {
          "output_type": "stream",
          "name": "stdout",
          "text": [
            "Index(['Close', 'High', 'Low', 'Open', 'Volume'], dtype='object')\n"
          ]
        },
        {
          "output_type": "stream",
          "name": "stderr",
          "text": [
            "[*********************100%***********************]  1 of 1 completed\n",
            "[*********************100%***********************]  1 of 1 completed"
          ]
        },
        {
          "output_type": "stream",
          "name": "stdout",
          "text": [
            "Index(['Close', 'High', 'Low', 'Open', 'Volume'], dtype='object')\n"
          ]
        },
        {
          "output_type": "stream",
          "name": "stderr",
          "text": [
            "\n"
          ]
        },
        {
          "output_type": "stream",
          "name": "stdout",
          "text": [
            "Index(['Close', 'High', 'Low', 'Open', 'Volume'], dtype='object')\n"
          ]
        },
        {
          "output_type": "stream",
          "name": "stderr",
          "text": [
            "[*********************100%***********************]  1 of 1 completed\n",
            "[*********************100%***********************]  1 of 1 completed\n"
          ]
        },
        {
          "output_type": "stream",
          "name": "stdout",
          "text": [
            "Index(['Close', 'High', 'Low', 'Open', 'Volume'], dtype='object')\n",
            "Index(['Close', 'High', 'Low', 'Open', 'Volume'], dtype='object')\n"
          ]
        },
        {
          "output_type": "stream",
          "name": "stderr",
          "text": [
            "[*********************100%***********************]  1 of 1 completed\n",
            "[*********************100%***********************]  1 of 1 completed\n"
          ]
        },
        {
          "output_type": "stream",
          "name": "stdout",
          "text": [
            "Index(['Close', 'High', 'Low', 'Open', 'Volume'], dtype='object')\n",
            "Index(['Close', 'High', 'Low', 'Open', 'Volume'], dtype='object')\n"
          ]
        },
        {
          "output_type": "stream",
          "name": "stderr",
          "text": [
            "\r[*********************100%***********************]  1 of 1 completed\n"
          ]
        },
        {
          "output_type": "stream",
          "name": "stdout",
          "text": [
            "Index(['Close', 'High', 'Low', 'Open', 'Volume'], dtype='object')\n"
          ]
        },
        {
          "output_type": "stream",
          "name": "stderr",
          "text": [
            "\r[*********************100%***********************]  1 of 1 completed\n"
          ]
        },
        {
          "output_type": "stream",
          "name": "stdout",
          "text": [
            "Index(['Close', 'High', 'Low', 'Open', 'Volume'], dtype='object')\n"
          ]
        },
        {
          "output_type": "stream",
          "name": "stderr",
          "text": [
            "\r[*********************100%***********************]  1 of 1 completed\n"
          ]
        },
        {
          "output_type": "stream",
          "name": "stdout",
          "text": [
            "Index(['Close', 'High', 'Low', 'Open', 'Volume'], dtype='object')\n"
          ]
        },
        {
          "output_type": "stream",
          "name": "stderr",
          "text": [
            "[*********************100%***********************]  1 of 1 completed\n",
            "[*********************100%***********************]  1 of 1 completed\n"
          ]
        },
        {
          "output_type": "stream",
          "name": "stdout",
          "text": [
            "Index(['Close', 'High', 'Low', 'Open', 'Volume'], dtype='object')\n",
            "Index(['Close', 'High', 'Low', 'Open', 'Volume'], dtype='object')\n"
          ]
        },
        {
          "output_type": "stream",
          "name": "stderr",
          "text": [
            "[*********************100%***********************]  1 of 1 completed\n",
            "[*********************100%***********************]  1 of 1 completed\n"
          ]
        },
        {
          "output_type": "stream",
          "name": "stdout",
          "text": [
            "Index(['Close', 'High', 'Low', 'Open', 'Volume'], dtype='object')\n",
            "Index(['Close', 'High', 'Low', 'Open', 'Volume'], dtype='object')\n"
          ]
        },
        {
          "output_type": "stream",
          "name": "stderr",
          "text": [
            "[*********************100%***********************]  1 of 1 completed\n",
            "[*********************100%***********************]  1 of 1 completed\n"
          ]
        },
        {
          "output_type": "stream",
          "name": "stdout",
          "text": [
            "Index(['Close', 'High', 'Low', 'Open', 'Volume'], dtype='object')\n",
            "Index(['Close', 'High', 'Low', 'Open', 'Volume'], dtype='object')\n"
          ]
        },
        {
          "output_type": "stream",
          "name": "stderr",
          "text": [
            "[*********************100%***********************]  1 of 1 completed\n",
            "[*********************100%***********************]  1 of 1 completed\n"
          ]
        },
        {
          "output_type": "stream",
          "name": "stdout",
          "text": [
            "Index(['Close', 'High', 'Low', 'Open', 'Volume'], dtype='object')\n",
            "Index(['Close', 'High', 'Low', 'Open', 'Volume'], dtype='object')\n"
          ]
        },
        {
          "output_type": "stream",
          "name": "stderr",
          "text": [
            "\r[*********************100%***********************]  1 of 1 completed\n"
          ]
        },
        {
          "output_type": "stream",
          "name": "stdout",
          "text": [
            "Index(['Close', 'High', 'Low', 'Open', 'Volume'], dtype='object')\n"
          ]
        },
        {
          "output_type": "stream",
          "name": "stderr",
          "text": [
            "[*********************100%***********************]  1 of 1 completed\n",
            "[*********************100%***********************]  1 of 1 completed\n"
          ]
        },
        {
          "output_type": "stream",
          "name": "stdout",
          "text": [
            "Index(['Close', 'High', 'Low', 'Open', 'Volume'], dtype='object')\n",
            "Index(['Close', 'High', 'Low', 'Open', 'Volume'], dtype='object')\n"
          ]
        },
        {
          "output_type": "stream",
          "name": "stderr",
          "text": [
            "[*********************100%***********************]  1 of 1 completed\n",
            "[*********************100%***********************]  1 of 1 completed\n"
          ]
        },
        {
          "output_type": "stream",
          "name": "stdout",
          "text": [
            "Index(['Close', 'High', 'Low', 'Open', 'Volume'], dtype='object')\n",
            "Index(['Close', 'High', 'Low', 'Open', 'Volume'], dtype='object')\n"
          ]
        },
        {
          "output_type": "stream",
          "name": "stderr",
          "text": [
            "[*********************100%***********************]  1 of 1 completed\n",
            "[*********************100%***********************]  1 of 1 completed\n"
          ]
        },
        {
          "output_type": "stream",
          "name": "stdout",
          "text": [
            "Index(['Close', 'High', 'Low', 'Open', 'Volume'], dtype='object')\n",
            "Index(['Close', 'High', 'Low', 'Open', 'Volume'], dtype='object')\n"
          ]
        },
        {
          "output_type": "stream",
          "name": "stderr",
          "text": [
            "[*********************100%***********************]  1 of 1 completed\n",
            "[*********************100%***********************]  1 of 1 completed\n"
          ]
        },
        {
          "output_type": "stream",
          "name": "stdout",
          "text": [
            "Index(['Close', 'High', 'Low', 'Open', 'Volume'], dtype='object')\n",
            "Index(['Close', 'High', 'Low', 'Open', 'Volume'], dtype='object')\n"
          ]
        },
        {
          "output_type": "stream",
          "name": "stderr",
          "text": [
            "[*********************100%***********************]  1 of 1 completed\n",
            "[*********************100%***********************]  1 of 1 completed\n"
          ]
        },
        {
          "output_type": "stream",
          "name": "stdout",
          "text": [
            "Index(['Close', 'High', 'Low', 'Open', 'Volume'], dtype='object')\n",
            "Index(['Close', 'High', 'Low', 'Open', 'Volume'], dtype='object')\n"
          ]
        },
        {
          "output_type": "stream",
          "name": "stderr",
          "text": [
            "\r[*********************100%***********************]  1 of 1 completed\n"
          ]
        },
        {
          "output_type": "stream",
          "name": "stdout",
          "text": [
            "Index(['Close', 'High', 'Low', 'Open', 'Volume'], dtype='object')\n"
          ]
        },
        {
          "output_type": "stream",
          "name": "stderr",
          "text": [
            "\r[*********************100%***********************]  1 of 1 completed\n"
          ]
        },
        {
          "output_type": "stream",
          "name": "stdout",
          "text": [
            "Index(['Close', 'High', 'Low', 'Open', 'Volume'], dtype='object')\n"
          ]
        },
        {
          "output_type": "stream",
          "name": "stderr",
          "text": [
            "[*********************100%***********************]  1 of 1 completed\n",
            "[*********************100%***********************]  1 of 1 completed\n"
          ]
        },
        {
          "output_type": "stream",
          "name": "stdout",
          "text": [
            "Index(['Close', 'High', 'Low', 'Open', 'Volume'], dtype='object')\n",
            "Index(['Close', 'High', 'Low', 'Open', 'Volume'], dtype='object')\n"
          ]
        },
        {
          "output_type": "stream",
          "name": "stderr",
          "text": [
            "[*********************100%***********************]  1 of 1 completed\n",
            "[*********************100%***********************]  1 of 1 completed"
          ]
        },
        {
          "output_type": "stream",
          "name": "stdout",
          "text": [
            "Index(['Close', 'High', 'Low', 'Open', 'Volume'], dtype='object')\n"
          ]
        },
        {
          "output_type": "stream",
          "name": "stderr",
          "text": [
            "\n",
            "\r[*********************100%***********************]  1 of 1 completed\n"
          ]
        },
        {
          "output_type": "stream",
          "name": "stdout",
          "text": [
            "Index(['Close', 'High', 'Low', 'Open', 'Volume'], dtype='object')\n",
            "Index(['Close', 'High', 'Low', 'Open', 'Volume'], dtype='object')\n"
          ]
        },
        {
          "output_type": "stream",
          "name": "stderr",
          "text": [
            "[*********************100%***********************]  1 of 1 completed\n",
            "[*********************100%***********************]  1 of 1 completed"
          ]
        },
        {
          "output_type": "stream",
          "name": "stdout",
          "text": [
            "Index(['Close', 'High', 'Low', 'Open', 'Volume'], dtype='object')\n"
          ]
        },
        {
          "output_type": "stream",
          "name": "stderr",
          "text": [
            "\n",
            "\r[*********************100%***********************]  1 of 1 completed\n"
          ]
        },
        {
          "output_type": "stream",
          "name": "stdout",
          "text": [
            "Index(['Close', 'High', 'Low', 'Open', 'Volume'], dtype='object')\n",
            "Index(['Close', 'High', 'Low', 'Open', 'Volume'], dtype='object')\n"
          ]
        },
        {
          "output_type": "stream",
          "name": "stderr",
          "text": [
            "[*********************100%***********************]  1 of 1 completed\n",
            "[*********************100%***********************]  1 of 1 completed\n"
          ]
        },
        {
          "output_type": "stream",
          "name": "stdout",
          "text": [
            "Index(['Close', 'High', 'Low', 'Open', 'Volume'], dtype='object')\n",
            "Index(['Close', 'High', 'Low', 'Open', 'Volume'], dtype='object')\n"
          ]
        },
        {
          "output_type": "stream",
          "name": "stderr",
          "text": [
            "[*********************100%***********************]  1 of 1 completed\n",
            "[*********************100%***********************]  1 of 1 completed\n"
          ]
        },
        {
          "output_type": "stream",
          "name": "stdout",
          "text": [
            "Index(['Close', 'High', 'Low', 'Open', 'Volume'], dtype='object')\n",
            "Index(['Close', 'High', 'Low', 'Open', 'Volume'], dtype='object')\n"
          ]
        },
        {
          "output_type": "stream",
          "name": "stderr",
          "text": [
            "[*********************100%***********************]  1 of 1 completed\n",
            "[*********************100%***********************]  1 of 1 completed\n"
          ]
        },
        {
          "output_type": "stream",
          "name": "stdout",
          "text": [
            "Index(['Close', 'High', 'Low', 'Open', 'Volume'], dtype='object')\n",
            "Index(['Close', 'High', 'Low', 'Open', 'Volume'], dtype='object')\n"
          ]
        },
        {
          "output_type": "stream",
          "name": "stderr",
          "text": [
            "[*********************100%***********************]  1 of 1 completed\n",
            "[*********************100%***********************]  1 of 1 completed\n"
          ]
        },
        {
          "output_type": "stream",
          "name": "stdout",
          "text": [
            "Index(['Close', 'High', 'Low', 'Open', 'Volume'], dtype='object')\n",
            "Index(['Close', 'High', 'Low', 'Open', 'Volume'], dtype='object')\n"
          ]
        },
        {
          "output_type": "stream",
          "name": "stderr",
          "text": [
            "[*********************100%***********************]  1 of 1 completed\n",
            "[*********************100%***********************]  1 of 1 completed\n"
          ]
        },
        {
          "output_type": "stream",
          "name": "stdout",
          "text": [
            "Index(['Close', 'High', 'Low', 'Open', 'Volume'], dtype='object')\n",
            "Index(['Close', 'High', 'Low', 'Open', 'Volume'], dtype='object')\n"
          ]
        },
        {
          "output_type": "stream",
          "name": "stderr",
          "text": [
            "[*********************100%***********************]  1 of 1 completed\n",
            "[*********************100%***********************]  1 of 1 completed\n"
          ]
        },
        {
          "output_type": "stream",
          "name": "stdout",
          "text": [
            "Index(['Close', 'High', 'Low', 'Open', 'Volume'], dtype='object')\n",
            "Index(['Close', 'High', 'Low', 'Open', 'Volume'], dtype='object')\n"
          ]
        },
        {
          "output_type": "stream",
          "name": "stderr",
          "text": [
            "[*********************100%***********************]  1 of 1 completed\n",
            "[*********************100%***********************]  1 of 1 completed\n"
          ]
        },
        {
          "output_type": "stream",
          "name": "stdout",
          "text": [
            "Index(['Close', 'High', 'Low', 'Open', 'Volume'], dtype='object')\n",
            "Index(['Close', 'High', 'Low', 'Open', 'Volume'], dtype='object')\n"
          ]
        },
        {
          "output_type": "stream",
          "name": "stderr",
          "text": [
            "\r[*********************100%***********************]  1 of 1 completed\n"
          ]
        },
        {
          "output_type": "stream",
          "name": "stdout",
          "text": [
            "Index(['Close', 'High', 'Low', 'Open', 'Volume'], dtype='object')\n"
          ]
        },
        {
          "output_type": "stream",
          "name": "stderr",
          "text": [
            "[*********************100%***********************]  1 of 1 completed\n",
            "[*********************100%***********************]  1 of 1 completed\n"
          ]
        },
        {
          "output_type": "stream",
          "name": "stdout",
          "text": [
            "Index(['Close', 'High', 'Low', 'Open', 'Volume'], dtype='object')\n",
            "Index(['Close', 'High', 'Low', 'Open', 'Volume'], dtype='object')\n"
          ]
        },
        {
          "output_type": "stream",
          "name": "stderr",
          "text": [
            "[*********************100%***********************]  1 of 1 completed\n",
            "[*********************100%***********************]  1 of 1 completed\n"
          ]
        },
        {
          "output_type": "stream",
          "name": "stdout",
          "text": [
            "Index(['Close', 'High', 'Low', 'Open', 'Volume'], dtype='object')\n",
            "Index(['Close', 'High', 'Low', 'Open', 'Volume'], dtype='object')\n"
          ]
        },
        {
          "output_type": "stream",
          "name": "stderr",
          "text": [
            "\r[*********************100%***********************]  1 of 1 completed\n"
          ]
        },
        {
          "output_type": "stream",
          "name": "stdout",
          "text": [
            "Index(['Close', 'High', 'Low', 'Open', 'Volume'], dtype='object')\n"
          ]
        },
        {
          "output_type": "stream",
          "name": "stderr",
          "text": [
            "[*********************100%***********************]  1 of 1 completed\n",
            "[*********************100%***********************]  1 of 1 completed\n"
          ]
        },
        {
          "output_type": "stream",
          "name": "stdout",
          "text": [
            "Index(['Close', 'High', 'Low', 'Open', 'Volume'], dtype='object')\n",
            "Index(['Close', 'High', 'Low', 'Open', 'Volume'], dtype='object')\n"
          ]
        },
        {
          "output_type": "stream",
          "name": "stderr",
          "text": [
            "[*********************100%***********************]  1 of 1 completed\n",
            "[*********************100%***********************]  1 of 1 completed\n"
          ]
        },
        {
          "output_type": "stream",
          "name": "stdout",
          "text": [
            "Index(['Close', 'High', 'Low', 'Open', 'Volume'], dtype='object')\n",
            "Index(['Close', 'High', 'Low', 'Open', 'Volume'], dtype='object')\n"
          ]
        },
        {
          "output_type": "stream",
          "name": "stderr",
          "text": [
            "[*********************100%***********************]  1 of 1 completed\n",
            "[*********************100%***********************]  1 of 1 completed\n"
          ]
        },
        {
          "output_type": "stream",
          "name": "stdout",
          "text": [
            "Index(['Close', 'High', 'Low', 'Open', 'Volume'], dtype='object')\n",
            "Index(['Close', 'High', 'Low', 'Open', 'Volume'], dtype='object')\n"
          ]
        },
        {
          "output_type": "stream",
          "name": "stderr",
          "text": [
            "[*********************100%***********************]  1 of 1 completed\n",
            "[*********************100%***********************]  1 of 1 completed\n"
          ]
        },
        {
          "output_type": "stream",
          "name": "stdout",
          "text": [
            "Index(['Close', 'High', 'Low', 'Open', 'Volume'], dtype='object')\n",
            "Index(['Close', 'High', 'Low', 'Open', 'Volume'], dtype='object')\n"
          ]
        },
        {
          "output_type": "stream",
          "name": "stderr",
          "text": [
            "[*********************100%***********************]  1 of 1 completed\n",
            "[*********************100%***********************]  1 of 1 completed\n"
          ]
        },
        {
          "output_type": "stream",
          "name": "stdout",
          "text": [
            "Index(['Close', 'High', 'Low', 'Open', 'Volume'], dtype='object')\n",
            "Index(['Close', 'High', 'Low', 'Open', 'Volume'], dtype='object')\n"
          ]
        },
        {
          "output_type": "stream",
          "name": "stderr",
          "text": [
            "[*********************100%***********************]  1 of 1 completed\n",
            "[*********************100%***********************]  1 of 1 completed\n"
          ]
        },
        {
          "output_type": "stream",
          "name": "stdout",
          "text": [
            "Index(['Close', 'High', 'Low', 'Open', 'Volume'], dtype='object')\n",
            "Index(['Close', 'High', 'Low', 'Open', 'Volume'], dtype='object')\n"
          ]
        },
        {
          "output_type": "stream",
          "name": "stderr",
          "text": [
            "[*********************100%***********************]  1 of 1 completed\n",
            "[*********************100%***********************]  1 of 1 completed\n"
          ]
        },
        {
          "output_type": "stream",
          "name": "stdout",
          "text": [
            "Index(['Close', 'High', 'Low', 'Open', 'Volume'], dtype='object')\n",
            "Index(['Close', 'High', 'Low', 'Open', 'Volume'], dtype='object')\n"
          ]
        },
        {
          "output_type": "stream",
          "name": "stderr",
          "text": [
            "[*********************100%***********************]  1 of 1 completed\n",
            "[*********************100%***********************]  1 of 1 completed\n"
          ]
        },
        {
          "output_type": "stream",
          "name": "stdout",
          "text": [
            "Index(['Close', 'High', 'Low', 'Open', 'Volume'], dtype='object')\n",
            "Index(['Close', 'High', 'Low', 'Open', 'Volume'], dtype='object')\n"
          ]
        },
        {
          "output_type": "stream",
          "name": "stderr",
          "text": [
            "[*********************100%***********************]  1 of 1 completed\n",
            "[*********************100%***********************]  1 of 1 completed\n"
          ]
        },
        {
          "output_type": "stream",
          "name": "stdout",
          "text": [
            "Index(['Close', 'High', 'Low', 'Open', 'Volume'], dtype='object')\n",
            "Index(['Close', 'High', 'Low', 'Open', 'Volume'], dtype='object')\n"
          ]
        },
        {
          "output_type": "stream",
          "name": "stderr",
          "text": [
            "[*********************100%***********************]  1 of 1 completed\n",
            "[*********************100%***********************]  1 of 1 completed\n"
          ]
        },
        {
          "output_type": "stream",
          "name": "stdout",
          "text": [
            "Index(['Close', 'High', 'Low', 'Open', 'Volume'], dtype='object')\n",
            "Index(['Close', 'High', 'Low', 'Open', 'Volume'], dtype='object')\n"
          ]
        },
        {
          "output_type": "stream",
          "name": "stderr",
          "text": [
            "[*********************100%***********************]  1 of 1 completed\n",
            "[*********************100%***********************]  1 of 1 completed\n"
          ]
        },
        {
          "output_type": "stream",
          "name": "stdout",
          "text": [
            "Index(['Close', 'High', 'Low', 'Open', 'Volume'], dtype='object')\n",
            "Index(['Close', 'High', 'Low', 'Open', 'Volume'], dtype='object')\n"
          ]
        },
        {
          "output_type": "stream",
          "name": "stderr",
          "text": [
            "[*********************100%***********************]  1 of 1 completed\n",
            "[*********************100%***********************]  1 of 1 completed\n"
          ]
        },
        {
          "output_type": "stream",
          "name": "stdout",
          "text": [
            "Index(['Close', 'High', 'Low', 'Open', 'Volume'], dtype='object')\n",
            "Index(['Close', 'High', 'Low', 'Open', 'Volume'], dtype='object')\n"
          ]
        },
        {
          "output_type": "stream",
          "name": "stderr",
          "text": [
            "[*********************100%***********************]  1 of 1 completed\n",
            "[*********************100%***********************]  1 of 1 completed\n"
          ]
        },
        {
          "output_type": "stream",
          "name": "stdout",
          "text": [
            "Index(['Close', 'High', 'Low', 'Open', 'Volume'], dtype='object')\n",
            "Index(['Close', 'High', 'Low', 'Open', 'Volume'], dtype='object')\n"
          ]
        },
        {
          "output_type": "stream",
          "name": "stderr",
          "text": [
            "[*********************100%***********************]  1 of 1 completed\n",
            "[*********************100%***********************]  1 of 1 completed\n"
          ]
        },
        {
          "output_type": "stream",
          "name": "stdout",
          "text": [
            "Index(['Close', 'High', 'Low', 'Open', 'Volume'], dtype='object')\n",
            "Index(['Close', 'High', 'Low', 'Open', 'Volume'], dtype='object')\n"
          ]
        },
        {
          "output_type": "stream",
          "name": "stderr",
          "text": [
            "[*********************100%***********************]  1 of 1 completed\n",
            "[*********************100%***********************]  1 of 1 completed\n"
          ]
        },
        {
          "output_type": "stream",
          "name": "stdout",
          "text": [
            "Index(['Close', 'High', 'Low', 'Open', 'Volume'], dtype='object')\n",
            "Index(['Close', 'High', 'Low', 'Open', 'Volume'], dtype='object')\n"
          ]
        },
        {
          "output_type": "stream",
          "name": "stderr",
          "text": [
            "[*********************100%***********************]  1 of 1 completed\n",
            "[*********************100%***********************]  1 of 1 completed\n"
          ]
        },
        {
          "output_type": "stream",
          "name": "stdout",
          "text": [
            "Index(['Close', 'High', 'Low', 'Open', 'Volume'], dtype='object')\n",
            "Index(['Close', 'High', 'Low', 'Open', 'Volume'], dtype='object')\n"
          ]
        },
        {
          "output_type": "stream",
          "name": "stderr",
          "text": [
            "[*********************100%***********************]  1 of 1 completed\n",
            "[*********************100%***********************]  1 of 1 completed\n"
          ]
        },
        {
          "output_type": "stream",
          "name": "stdout",
          "text": [
            "Index(['Close', 'High', 'Low', 'Open', 'Volume'], dtype='object')\n",
            "Index(['Close', 'High', 'Low', 'Open', 'Volume'], dtype='object')\n"
          ]
        },
        {
          "output_type": "stream",
          "name": "stderr",
          "text": [
            "[*********************100%***********************]  1 of 1 completed\n",
            "[*********************100%***********************]  1 of 1 completed\n"
          ]
        },
        {
          "output_type": "stream",
          "name": "stdout",
          "text": [
            "Index(['Close', 'High', 'Low', 'Open', 'Volume'], dtype='object')\n",
            "Index(['Close', 'High', 'Low', 'Open', 'Volume'], dtype='object')\n"
          ]
        },
        {
          "output_type": "stream",
          "name": "stderr",
          "text": [
            "[*********************100%***********************]  1 of 1 completed\n",
            "[*********************100%***********************]  1 of 1 completed\n"
          ]
        },
        {
          "output_type": "stream",
          "name": "stdout",
          "text": [
            "Index(['Close', 'High', 'Low', 'Open', 'Volume'], dtype='object')\n",
            "Index(['Close', 'High', 'Low', 'Open', 'Volume'], dtype='object')\n"
          ]
        },
        {
          "output_type": "stream",
          "name": "stderr",
          "text": [
            "[*********************100%***********************]  1 of 1 completed\n",
            "[*********************100%***********************]  1 of 1 completed\n"
          ]
        },
        {
          "output_type": "stream",
          "name": "stdout",
          "text": [
            "Index(['Close', 'High', 'Low', 'Open', 'Volume'], dtype='object')\n",
            "Index(['Close', 'High', 'Low', 'Open', 'Volume'], dtype='object')\n"
          ]
        },
        {
          "output_type": "stream",
          "name": "stderr",
          "text": [
            "[*********************100%***********************]  1 of 1 completed\n",
            "[*********************100%***********************]  1 of 1 completed\n"
          ]
        },
        {
          "output_type": "stream",
          "name": "stdout",
          "text": [
            "Index(['Close', 'High', 'Low', 'Open', 'Volume'], dtype='object')\n",
            "Index(['Close', 'High', 'Low', 'Open', 'Volume'], dtype='object')\n"
          ]
        },
        {
          "output_type": "stream",
          "name": "stderr",
          "text": [
            "[*********************100%***********************]  1 of 1 completed\n",
            "[*********************100%***********************]  1 of 1 completed\n"
          ]
        },
        {
          "output_type": "stream",
          "name": "stdout",
          "text": [
            "Index(['Close', 'High', 'Low', 'Open', 'Volume'], dtype='object')\n",
            "Index(['Close', 'High', 'Low', 'Open', 'Volume'], dtype='object')\n"
          ]
        },
        {
          "output_type": "stream",
          "name": "stderr",
          "text": [
            "[*********************100%***********************]  1 of 1 completed\n",
            "[*********************100%***********************]  1 of 1 completed\n"
          ]
        },
        {
          "output_type": "stream",
          "name": "stdout",
          "text": [
            "Index(['Close', 'High', 'Low', 'Open', 'Volume'], dtype='object')\n",
            "Index(['Close', 'High', 'Low', 'Open', 'Volume'], dtype='object')\n"
          ]
        },
        {
          "output_type": "stream",
          "name": "stderr",
          "text": [
            "[*********************100%***********************]  1 of 1 completed\n",
            "[*********************100%***********************]  1 of 1 completed\n"
          ]
        },
        {
          "output_type": "stream",
          "name": "stdout",
          "text": [
            "Index(['Close', 'High', 'Low', 'Open', 'Volume'], dtype='object')\n",
            "Index(['Close', 'High', 'Low', 'Open', 'Volume'], dtype='object')\n"
          ]
        },
        {
          "output_type": "stream",
          "name": "stderr",
          "text": [
            "[*********************100%***********************]  1 of 1 completed\n",
            "[*********************100%***********************]  1 of 1 completed\n"
          ]
        },
        {
          "output_type": "stream",
          "name": "stdout",
          "text": [
            "Index(['Close', 'High', 'Low', 'Open', 'Volume'], dtype='object')\n",
            "Index(['Close', 'High', 'Low', 'Open', 'Volume'], dtype='object')\n"
          ]
        },
        {
          "output_type": "stream",
          "name": "stderr",
          "text": [
            "[*********************100%***********************]  1 of 1 completed\n",
            "[*********************100%***********************]  1 of 1 completed\n"
          ]
        },
        {
          "output_type": "stream",
          "name": "stdout",
          "text": [
            "Index(['Close', 'High', 'Low', 'Open', 'Volume'], dtype='object')\n",
            "Index(['Close', 'High', 'Low', 'Open', 'Volume'], dtype='object')\n"
          ]
        },
        {
          "output_type": "stream",
          "name": "stderr",
          "text": [
            "[*********************100%***********************]  1 of 1 completed\n",
            "[*********************100%***********************]  1 of 1 completed\n"
          ]
        },
        {
          "output_type": "stream",
          "name": "stdout",
          "text": [
            "Index(['Close', 'High', 'Low', 'Open', 'Volume'], dtype='object')\n",
            "Index(['Close', 'High', 'Low', 'Open', 'Volume'], dtype='object')\n"
          ]
        },
        {
          "output_type": "stream",
          "name": "stderr",
          "text": [
            "[*********************100%***********************]  1 of 1 completed\n",
            "[*********************100%***********************]  1 of 1 completed\n"
          ]
        },
        {
          "output_type": "stream",
          "name": "stdout",
          "text": [
            "Index(['Close', 'High', 'Low', 'Open', 'Volume'], dtype='object')\n",
            "Index(['Close', 'High', 'Low', 'Open', 'Volume'], dtype='object')\n"
          ]
        },
        {
          "output_type": "stream",
          "name": "stderr",
          "text": [
            "[*********************100%***********************]  1 of 1 completed\n",
            "[*********************100%***********************]  1 of 1 completed\n"
          ]
        },
        {
          "output_type": "stream",
          "name": "stdout",
          "text": [
            "Index(['Close', 'High', 'Low', 'Open', 'Volume'], dtype='object')\n",
            "Index(['Close', 'High', 'Low', 'Open', 'Volume'], dtype='object')\n"
          ]
        },
        {
          "output_type": "stream",
          "name": "stderr",
          "text": [
            "[*********************100%***********************]  1 of 1 completed\n",
            "[*********************100%***********************]  1 of 1 completed\n"
          ]
        },
        {
          "output_type": "stream",
          "name": "stdout",
          "text": [
            "Index(['Close', 'High', 'Low', 'Open', 'Volume'], dtype='object')\n",
            "Index(['Close', 'High', 'Low', 'Open', 'Volume'], dtype='object')\n"
          ]
        },
        {
          "output_type": "stream",
          "name": "stderr",
          "text": [
            "\r[*********************100%***********************]  1 of 1 completed\n"
          ]
        },
        {
          "output_type": "stream",
          "name": "stdout",
          "text": [
            "Index(['Close', 'High', 'Low', 'Open', 'Volume'], dtype='object')\n"
          ]
        },
        {
          "output_type": "stream",
          "name": "stderr",
          "text": [
            "[*********************100%***********************]  1 of 1 completed\n",
            "[*********************100%***********************]  1 of 1 completed\n"
          ]
        },
        {
          "output_type": "stream",
          "name": "stdout",
          "text": [
            "Index(['Close', 'High', 'Low', 'Open', 'Volume'], dtype='object')\n",
            "Index(['Close', 'High', 'Low', 'Open', 'Volume'], dtype='object')\n"
          ]
        },
        {
          "output_type": "stream",
          "name": "stderr",
          "text": [
            "[*********************100%***********************]  1 of 1 completed\n",
            "[*********************100%***********************]  1 of 1 completed\n"
          ]
        },
        {
          "output_type": "stream",
          "name": "stdout",
          "text": [
            "Index(['Close', 'High', 'Low', 'Open', 'Volume'], dtype='object')\n",
            "Index(['Close', 'High', 'Low', 'Open', 'Volume'], dtype='object')\n"
          ]
        },
        {
          "output_type": "stream",
          "name": "stderr",
          "text": [
            "[*********************100%***********************]  1 of 1 completed\n",
            "[*********************100%***********************]  1 of 1 completed\n"
          ]
        },
        {
          "output_type": "stream",
          "name": "stdout",
          "text": [
            "Index(['Close', 'High', 'Low', 'Open', 'Volume'], dtype='object')\n",
            "Index(['Close', 'High', 'Low', 'Open', 'Volume'], dtype='object')\n"
          ]
        },
        {
          "output_type": "stream",
          "name": "stderr",
          "text": [
            "[*********************100%***********************]  1 of 1 completed\n",
            "[*********************100%***********************]  1 of 1 completed\n"
          ]
        },
        {
          "output_type": "stream",
          "name": "stdout",
          "text": [
            "Index(['Close', 'High', 'Low', 'Open', 'Volume'], dtype='object')\n",
            "Index(['Close', 'High', 'Low', 'Open', 'Volume'], dtype='object')\n"
          ]
        },
        {
          "output_type": "stream",
          "name": "stderr",
          "text": [
            "[*********************100%***********************]  1 of 1 completed\n",
            "[*********************100%***********************]  1 of 1 completed\n"
          ]
        },
        {
          "output_type": "stream",
          "name": "stdout",
          "text": [
            "Index(['Close', 'High', 'Low', 'Open', 'Volume'], dtype='object')\n",
            "Index(['Close', 'High', 'Low', 'Open', 'Volume'], dtype='object')\n"
          ]
        },
        {
          "output_type": "stream",
          "name": "stderr",
          "text": [
            "[*********************100%***********************]  1 of 1 completed\n",
            "[*********************100%***********************]  1 of 1 completed\n"
          ]
        },
        {
          "output_type": "stream",
          "name": "stdout",
          "text": [
            "Index(['Close', 'High', 'Low', 'Open', 'Volume'], dtype='object')\n",
            "Index(['Close', 'High', 'Low', 'Open', 'Volume'], dtype='object')\n"
          ]
        },
        {
          "output_type": "stream",
          "name": "stderr",
          "text": [
            "[*********************100%***********************]  1 of 1 completed\n",
            "[*********************100%***********************]  1 of 1 completed\n"
          ]
        },
        {
          "output_type": "stream",
          "name": "stdout",
          "text": [
            "Index(['Close', 'High', 'Low', 'Open', 'Volume'], dtype='object')\n",
            "Index(['Close', 'High', 'Low', 'Open', 'Volume'], dtype='object')\n"
          ]
        },
        {
          "output_type": "stream",
          "name": "stderr",
          "text": [
            "[*********************100%***********************]  1 of 1 completed\n",
            "[*********************100%***********************]  1 of 1 completed\n"
          ]
        },
        {
          "output_type": "stream",
          "name": "stdout",
          "text": [
            "Index(['Close', 'High', 'Low', 'Open', 'Volume'], dtype='object')\n",
            "Index(['Close', 'High', 'Low', 'Open', 'Volume'], dtype='object')\n"
          ]
        },
        {
          "output_type": "stream",
          "name": "stderr",
          "text": [
            "[*********************100%***********************]  1 of 1 completed\n",
            "[*********************100%***********************]  1 of 1 completed\n"
          ]
        },
        {
          "output_type": "stream",
          "name": "stdout",
          "text": [
            "Index(['Close', 'High', 'Low', 'Open', 'Volume'], dtype='object')\n",
            "Index(['Close', 'High', 'Low', 'Open', 'Volume'], dtype='object')\n"
          ]
        },
        {
          "output_type": "stream",
          "name": "stderr",
          "text": [
            "[*********************100%***********************]  1 of 1 completed\n",
            "[*********************100%***********************]  1 of 1 completed\n"
          ]
        },
        {
          "output_type": "stream",
          "name": "stdout",
          "text": [
            "Index(['Close', 'High', 'Low', 'Open', 'Volume'], dtype='object')\n",
            "Index(['Close', 'High', 'Low', 'Open', 'Volume'], dtype='object')\n"
          ]
        },
        {
          "output_type": "stream",
          "name": "stderr",
          "text": [
            "[*********************100%***********************]  1 of 1 completed\n",
            "[*********************100%***********************]  1 of 1 completed\n"
          ]
        },
        {
          "output_type": "stream",
          "name": "stdout",
          "text": [
            "Index(['Close', 'High', 'Low', 'Open', 'Volume'], dtype='object')\n",
            "Index(['Close', 'High', 'Low', 'Open', 'Volume'], dtype='object')\n"
          ]
        },
        {
          "output_type": "stream",
          "name": "stderr",
          "text": [
            "[*********************100%***********************]  1 of 1 completed\n",
            "[*********************100%***********************]  1 of 1 completed\n"
          ]
        },
        {
          "output_type": "stream",
          "name": "stdout",
          "text": [
            "Index(['Close', 'High', 'Low', 'Open', 'Volume'], dtype='object')\n",
            "Index(['Close', 'High', 'Low', 'Open', 'Volume'], dtype='object')\n"
          ]
        },
        {
          "output_type": "stream",
          "name": "stderr",
          "text": [
            "[*********************100%***********************]  1 of 1 completed\n",
            "[*********************100%***********************]  1 of 1 completed\n"
          ]
        },
        {
          "output_type": "stream",
          "name": "stdout",
          "text": [
            "Index(['Close', 'High', 'Low', 'Open', 'Volume'], dtype='object')\n",
            "Index(['Close', 'High', 'Low', 'Open', 'Volume'], dtype='object')\n"
          ]
        },
        {
          "output_type": "stream",
          "name": "stderr",
          "text": [
            "[*********************100%***********************]  1 of 1 completed\n",
            "[*********************100%***********************]  1 of 1 completed\n"
          ]
        },
        {
          "output_type": "stream",
          "name": "stdout",
          "text": [
            "Index(['Close', 'High', 'Low', 'Open', 'Volume'], dtype='object')\n",
            "Index(['Close', 'High', 'Low', 'Open', 'Volume'], dtype='object')\n"
          ]
        },
        {
          "output_type": "stream",
          "name": "stderr",
          "text": [
            "[*********************100%***********************]  1 of 1 completed\n",
            "[*********************100%***********************]  1 of 1 completed\n"
          ]
        },
        {
          "output_type": "stream",
          "name": "stdout",
          "text": [
            "Index(['Close', 'High', 'Low', 'Open', 'Volume'], dtype='object')\n",
            "Index(['Close', 'High', 'Low', 'Open', 'Volume'], dtype='object')\n",
            "Error analyzing ABB.NS: 'Adj Close'\n",
            "Error analyzing ACC.NS: 'Adj Close'\n",
            "Error analyzing APLAPOLLO.NS: 'Adj Close'\n",
            "Error analyzing AUBANK.NS: 'Adj Close'\n",
            "Error analyzing ADANIENSOL.NS: 'Adj Close'\n",
            "Error analyzing ADANIENT.NS: 'Adj Close'\n",
            "Error analyzing ADANIGREEN.NS: 'Adj Close'\n",
            "Error analyzing ADANIPORTS.NS: 'Adj Close'\n",
            "Error analyzing ADANIPOWER.NS: 'Adj Close'\n",
            "Error analyzing ATGL.NS: 'Adj Close'\n",
            "Error analyzing ABCAPITAL.NS: 'Adj Close'\n",
            "Error analyzing ABFRL.NS: 'Adj Close'\n",
            "Error analyzing ALKEM.NS: 'Adj Close'\n",
            "Error analyzing AMBUJACEM.NS: 'Adj Close'\n",
            "Error analyzing APOLLOHOSP.NS: 'Adj Close'\n",
            "Error analyzing APOLLOTYRE.NS: 'Adj Close'\n",
            "Error analyzing ASHOKLEY.NS: 'Adj Close'\n",
            "Error analyzing ASIANPAINT.NS: 'Adj Close'\n",
            "Error analyzing ASTRAL.NS: 'Adj Close'\n",
            "Error analyzing AUROPHARMA.NS: 'Adj Close'\n",
            "Error analyzing DMART.NS: 'Adj Close'\n",
            "Error analyzing AXISBANK.NS: 'Adj Close'\n",
            "Error analyzing BSE.NS: 'Adj Close'\n",
            "Error analyzing BAJAJ-AUTO.NS: 'Adj Close'\n",
            "Error analyzing BAJFINANCE.NS: 'Adj Close'\n",
            "Error analyzing BAJAJFINSV.NS: 'Adj Close'\n",
            "Error analyzing BAJAJHLDNG.NS: 'Adj Close'\n",
            "Error analyzing BALKRISIND.NS: 'Adj Close'\n",
            "Error analyzing BANDHANBNK.NS: 'Adj Close'\n",
            "Error analyzing BANKBARODA.NS: 'Adj Close'\n",
            "Error analyzing BANKINDIA.NS: 'Adj Close'\n",
            "Error analyzing MAHABANK.NS: 'Adj Close'\n",
            "Error analyzing BDL.NS: 'Adj Close'\n",
            "Error analyzing BEL.NS: 'Adj Close'\n",
            "Error analyzing BHARATFORG.NS: 'Adj Close'\n",
            "Error analyzing BHEL.NS: 'Adj Close'\n",
            "Error analyzing BPCL.NS: 'Adj Close'\n",
            "Error analyzing BHARTIARTL.NS: 'Adj Close'\n",
            "Error analyzing BHARTIHEXA.NS: 'Adj Close'\n",
            "Error analyzing BIOCON.NS: 'Adj Close'\n",
            "Error analyzing BOSCHLTD.NS: 'Adj Close'\n",
            "Error analyzing BRITANNIA.NS: 'Adj Close'\n",
            "Error analyzing CGPOWER.NS: 'Adj Close'\n",
            "Error analyzing CANBK.NS: 'Adj Close'\n",
            "Error analyzing CHOLAFIN.NS: 'Adj Close'\n",
            "Error analyzing CIPLA.NS: 'Adj Close'\n",
            "Error analyzing COALINDIA.NS: 'Adj Close'\n",
            "Error analyzing COCHINSHIP.NS: 'Adj Close'\n",
            "Error analyzing COFORGE.NS: 'Adj Close'\n",
            "Error analyzing COLPAL.NS: 'Adj Close'\n",
            "Error analyzing CONCOR.NS: 'Adj Close'\n",
            "Error analyzing CUMMINSIND.NS: 'Adj Close'\n",
            "Error analyzing DLF.NS: 'Adj Close'\n",
            "Error analyzing DABUR.NS: 'Adj Close'\n",
            "Error analyzing DELHIVERY.NS: 'Adj Close'\n",
            "Error analyzing DIVISLAB.NS: 'Adj Close'\n",
            "Error analyzing DIXON.NS: 'Adj Close'\n",
            "Error analyzing DRREDDY.NS: 'Adj Close'\n",
            "Error analyzing EICHERMOT.NS: 'Adj Close'\n",
            "Error analyzing ESCORTS.NS: 'Adj Close'\n",
            "Error analyzing EXIDEIND.NS: 'Adj Close'\n",
            "Error analyzing NYKAA.NS: 'Adj Close'\n",
            "Error analyzing FEDERALBNK.NS: 'Adj Close'\n",
            "Error analyzing FACT.NS: 'Adj Close'\n",
            "Error analyzing GAIL.NS: 'Adj Close'\n",
            "Error analyzing GMRAIRPORT.NS: 'Adj Close'\n",
            "Error analyzing GODREJCP.NS: 'Adj Close'\n",
            "Error analyzing GODREJPROP.NS: 'Adj Close'\n",
            "Error analyzing GRASIM.NS: 'Adj Close'\n",
            "Error analyzing HCLTECH.NS: 'Adj Close'\n",
            "Error analyzing HDFCAMC.NS: 'Adj Close'\n",
            "Error analyzing HDFCBANK.NS: 'Adj Close'\n",
            "Error analyzing HDFCLIFE.NS: 'Adj Close'\n",
            "Error analyzing HAVELLS.NS: 'Adj Close'\n",
            "Error analyzing HEROMOTOCO.NS: 'Adj Close'\n",
            "Error analyzing HINDALCO.NS: 'Adj Close'\n",
            "Error analyzing HAL.NS: 'Adj Close'\n",
            "Error analyzing HINDPETRO.NS: 'Adj Close'\n",
            "Error analyzing HINDUNILVR.NS: 'Adj Close'\n",
            "Error analyzing HINDZINC.NS: 'Adj Close'\n",
            "Error analyzing HUDCO.NS: 'Adj Close'\n",
            "Error analyzing ICICIBANK.NS: 'Adj Close'\n",
            "Error analyzing ICICIGI.NS: 'Adj Close'\n",
            "Error analyzing ICICIPRULI.NS: 'Adj Close'\n",
            "Error analyzing IDBI.NS: 'Adj Close'\n",
            "Error analyzing IDFCFIRSTB.NS: 'Adj Close'\n",
            "Error analyzing IRB.NS: 'Adj Close'\n",
            "Error analyzing ITC.NS: 'Adj Close'\n",
            "Error analyzing INDIANB.NS: 'Adj Close'\n",
            "Error analyzing INDHOTEL.NS: 'Adj Close'\n",
            "Error analyzing IOC.NS: 'Adj Close'\n",
            "Error analyzing IOB.NS: 'Adj Close'\n",
            "Error analyzing IRCTC.NS: 'Adj Close'\n",
            "Error analyzing IRFC.NS: 'Adj Close'\n",
            "Error analyzing IREDA.NS: 'Adj Close'\n",
            "Error analyzing IGL.NS: 'Adj Close'\n",
            "Error analyzing INDUSTOWER.NS: 'Adj Close'\n",
            "Error analyzing INDUSINDBK.NS: 'Adj Close'\n",
            "Error analyzing NAUKRI.NS: 'Adj Close'\n",
            "Error analyzing INFY.NS: 'Adj Close'\n",
            "Error analyzing INDIGO.NS: 'Adj Close'\n",
            "Error analyzing JSWENERGY.NS: 'Adj Close'\n",
            "Error analyzing JSWINFRA.NS: 'Adj Close'\n",
            "Error analyzing JSWSTEEL.NS: 'Adj Close'\n",
            "Error analyzing JINDALSTEL.NS: 'Adj Close'\n",
            "Error analyzing JIOFIN.NS: 'Adj Close'\n",
            "Error analyzing JUBLFOOD.NS: 'Adj Close'\n",
            "Error analyzing KPITTECH.NS: 'Adj Close'\n",
            "Error analyzing KALYANKJIL.NS: 'Adj Close'\n",
            "Error analyzing KOTAKBANK.NS: 'Adj Close'\n",
            "Error analyzing LTF.NS: 'Adj Close'\n",
            "Error analyzing LICHSGFIN.NS: 'Adj Close'\n",
            "Error analyzing LTIM.NS: 'Adj Close'\n",
            "Error analyzing LT.NS: 'Adj Close'\n",
            "Error analyzing LICI.NS: 'Adj Close'\n",
            "Error analyzing LUPIN.NS: 'Adj Close'\n",
            "Error analyzing MRF.NS: 'Adj Close'\n",
            "Error analyzing LODHA.NS: 'Adj Close'\n",
            "Error analyzing M&MFIN.NS: 'Adj Close'\n",
            "Error analyzing M&M.NS: 'Adj Close'\n",
            "Error analyzing MRPL.NS: 'Adj Close'\n",
            "Error analyzing MANKIND.NS: 'Adj Close'\n",
            "Error analyzing MARICO.NS: 'Adj Close'\n",
            "Error analyzing MARUTI.NS: 'Adj Close'\n",
            "Error analyzing MFSL.NS: 'Adj Close'\n",
            "Error analyzing MAXHEALTH.NS: 'Adj Close'\n",
            "Error analyzing MAZDOCK.NS: 'Adj Close'\n",
            "Error analyzing MPHASIS.NS: 'Adj Close'\n",
            "Error analyzing MUTHOOTFIN.NS: 'Adj Close'\n",
            "Error analyzing NHPC.NS: 'Adj Close'\n",
            "Error analyzing NLCINDIA.NS: 'Adj Close'\n",
            "Error analyzing NMDC.NS: 'Adj Close'\n",
            "Error analyzing NTPC.NS: 'Adj Close'\n",
            "Error analyzing NESTLEIND.NS: 'Adj Close'\n",
            "Error analyzing OBEROIRLTY.NS: 'Adj Close'\n",
            "Error analyzing ONGC.NS: 'Adj Close'\n",
            "Error analyzing OIL.NS: 'Adj Close'\n",
            "Error analyzing PAYTM.NS: 'Adj Close'\n",
            "Error analyzing OFSS.NS: 'Adj Close'\n",
            "Error analyzing POLICYBZR.NS: 'Adj Close'\n",
            "Error analyzing PIIND.NS: 'Adj Close'\n",
            "Error analyzing PAGEIND.NS: 'Adj Close'\n",
            "Error analyzing PATANJALI.NS: 'Adj Close'\n",
            "Error analyzing PERSISTENT.NS: 'Adj Close'\n",
            "Error analyzing PETRONET.NS: 'Adj Close'\n",
            "Error analyzing PHOENIXLTD.NS: 'Adj Close'\n",
            "Error analyzing PIDILITIND.NS: 'Adj Close'\n",
            "Error analyzing POLYCAB.NS: 'Adj Close'\n",
            "Error analyzing POONAWALLA.NS: 'Adj Close'\n",
            "Error analyzing PFC.NS: 'Adj Close'\n",
            "Error analyzing POWERGRID.NS: 'Adj Close'\n",
            "Error analyzing PRESTIGE.NS: 'Adj Close'\n",
            "Error analyzing PNB.NS: 'Adj Close'\n",
            "Error analyzing RECLTD.NS: 'Adj Close'\n",
            "Error analyzing RVNL.NS: 'Adj Close'\n",
            "Error analyzing RELIANCE.NS: 'Adj Close'\n",
            "Error analyzing SBICARD.NS: 'Adj Close'\n",
            "Error analyzing SBILIFE.NS: 'Adj Close'\n",
            "Error analyzing SJVN.NS: 'Adj Close'\n",
            "Error analyzing SRF.NS: 'Adj Close'\n",
            "Error analyzing MOTHERSON.NS: 'Adj Close'\n",
            "Error analyzing SHREECEM.NS: 'Adj Close'\n",
            "Error analyzing SHRIRAMFIN.NS: 'Adj Close'\n",
            "Error analyzing SIEMENS.NS: 'Adj Close'\n",
            "Error analyzing SOLARINDS.NS: 'Adj Close'\n",
            "Error analyzing SONACOMS.NS: 'Adj Close'\n",
            "Error analyzing SBIN.NS: 'Adj Close'\n",
            "Error analyzing SAIL.NS: 'Adj Close'\n",
            "Error analyzing SUNPHARMA.NS: 'Adj Close'\n",
            "Error analyzing SUNDARMFIN.NS: 'Adj Close'\n",
            "Error analyzing SUPREMEIND.NS: 'Adj Close'\n",
            "Error analyzing SUZLON.NS: 'Adj Close'\n",
            "Error analyzing TVSMOTOR.NS: 'Adj Close'\n",
            "Error analyzing TATACHEM.NS: 'Adj Close'\n",
            "Error analyzing TATACOMM.NS: 'Adj Close'\n",
            "Error analyzing TCS.NS: 'Adj Close'\n",
            "Error analyzing TATACONSUM.NS: 'Adj Close'\n",
            "Error analyzing TATAELXSI.NS: 'Adj Close'\n",
            "Error analyzing TATAMOTORS.NS: 'Adj Close'\n",
            "Error analyzing TATAPOWER.NS: 'Adj Close'\n",
            "Error analyzing TATASTEEL.NS: 'Adj Close'\n",
            "Error analyzing TATATECH.NS: 'Adj Close'\n",
            "Error analyzing TECHM.NS: 'Adj Close'\n",
            "Error analyzing TITAN.NS: 'Adj Close'\n",
            "Error analyzing TORNTPHARM.NS: 'Adj Close'\n",
            "Error analyzing TORNTPOWER.NS: 'Adj Close'\n",
            "Error analyzing TRENT.NS: 'Adj Close'\n",
            "Error analyzing TIINDIA.NS: 'Adj Close'\n",
            "Error analyzing UPL.NS: 'Adj Close'\n",
            "Error analyzing ULTRACEMCO.NS: 'Adj Close'\n",
            "Error analyzing UNIONBANK.NS: 'Adj Close'\n",
            "Error analyzing UNITDSPR.NS: 'Adj Close'\n",
            "Error analyzing VBL.NS: 'Adj Close'\n",
            "Error analyzing VEDL.NS: 'Adj Close'\n",
            "Error analyzing IDEA.NS: 'Adj Close'\n",
            "Error analyzing VOLTAS.NS: 'Adj Close'\n",
            "Error analyzing WIPRO.NS: 'Adj Close'\n",
            "Error analyzing YESBANK.NS: 'Adj Close'\n",
            "Error analyzing ZOMATO.NS: 'Adj Close'\n",
            "Error analyzing ZYDUSLIFE.NS: 'Adj Close'\n"
          ]
        },
        {
          "output_type": "error",
          "ename": "KeyError",
          "evalue": "'Return_6M'",
          "traceback": [
            "\u001b[0;31m---------------------------------------------------------------------------\u001b[0m",
            "\u001b[0;31mKeyError\u001b[0m                                  Traceback (most recent call last)",
            "\u001b[0;32m<ipython-input-1-964d6edc715d>\u001b[0m in \u001b[0;36m<cell line: 0>\u001b[0;34m()\u001b[0m\n\u001b[1;32m     86\u001b[0m \u001b[0;34m\u001b[0m\u001b[0m\n\u001b[1;32m     87\u001b[0m \u001b[0;31m# Round off returns to 1 decimal place\u001b[0m\u001b[0;34m\u001b[0m\u001b[0;34m\u001b[0m\u001b[0m\n\u001b[0;32m---> 88\u001b[0;31m \u001b[0mdf_summary\u001b[0m\u001b[0;34m[\u001b[0m\u001b[0;34m'Return_6M'\u001b[0m\u001b[0;34m]\u001b[0m \u001b[0;34m=\u001b[0m \u001b[0mdf_summary\u001b[0m\u001b[0;34m[\u001b[0m\u001b[0;34m'Return_6M'\u001b[0m\u001b[0;34m]\u001b[0m\u001b[0;34m.\u001b[0m\u001b[0mround\u001b[0m\u001b[0;34m(\u001b[0m\u001b[0;36m1\u001b[0m\u001b[0;34m)\u001b[0m\u001b[0;34m\u001b[0m\u001b[0;34m\u001b[0m\u001b[0m\n\u001b[0m\u001b[1;32m     89\u001b[0m \u001b[0mdf_summary\u001b[0m\u001b[0;34m[\u001b[0m\u001b[0;34m'Return_3M'\u001b[0m\u001b[0;34m]\u001b[0m \u001b[0;34m=\u001b[0m \u001b[0mdf_summary\u001b[0m\u001b[0;34m[\u001b[0m\u001b[0;34m'Return_3M'\u001b[0m\u001b[0;34m]\u001b[0m\u001b[0;34m.\u001b[0m\u001b[0mround\u001b[0m\u001b[0;34m(\u001b[0m\u001b[0;36m1\u001b[0m\u001b[0;34m)\u001b[0m\u001b[0;34m\u001b[0m\u001b[0;34m\u001b[0m\u001b[0m\n\u001b[1;32m     90\u001b[0m \u001b[0mdf_summary\u001b[0m\u001b[0;34m[\u001b[0m\u001b[0;34m'Return_1M'\u001b[0m\u001b[0;34m]\u001b[0m \u001b[0;34m=\u001b[0m \u001b[0mdf_summary\u001b[0m\u001b[0;34m[\u001b[0m\u001b[0;34m'Return_1M'\u001b[0m\u001b[0;34m]\u001b[0m\u001b[0;34m.\u001b[0m\u001b[0mround\u001b[0m\u001b[0;34m(\u001b[0m\u001b[0;36m1\u001b[0m\u001b[0;34m)\u001b[0m\u001b[0;34m\u001b[0m\u001b[0;34m\u001b[0m\u001b[0m\n",
            "\u001b[0;32m/usr/local/lib/python3.11/dist-packages/pandas/core/frame.py\u001b[0m in \u001b[0;36m__getitem__\u001b[0;34m(self, key)\u001b[0m\n\u001b[1;32m   4100\u001b[0m             \u001b[0;32mif\u001b[0m \u001b[0mself\u001b[0m\u001b[0;34m.\u001b[0m\u001b[0mcolumns\u001b[0m\u001b[0;34m.\u001b[0m\u001b[0mnlevels\u001b[0m \u001b[0;34m>\u001b[0m \u001b[0;36m1\u001b[0m\u001b[0;34m:\u001b[0m\u001b[0;34m\u001b[0m\u001b[0;34m\u001b[0m\u001b[0m\n\u001b[1;32m   4101\u001b[0m                 \u001b[0;32mreturn\u001b[0m \u001b[0mself\u001b[0m\u001b[0;34m.\u001b[0m\u001b[0m_getitem_multilevel\u001b[0m\u001b[0;34m(\u001b[0m\u001b[0mkey\u001b[0m\u001b[0;34m)\u001b[0m\u001b[0;34m\u001b[0m\u001b[0;34m\u001b[0m\u001b[0m\n\u001b[0;32m-> 4102\u001b[0;31m             \u001b[0mindexer\u001b[0m \u001b[0;34m=\u001b[0m \u001b[0mself\u001b[0m\u001b[0;34m.\u001b[0m\u001b[0mcolumns\u001b[0m\u001b[0;34m.\u001b[0m\u001b[0mget_loc\u001b[0m\u001b[0;34m(\u001b[0m\u001b[0mkey\u001b[0m\u001b[0;34m)\u001b[0m\u001b[0;34m\u001b[0m\u001b[0;34m\u001b[0m\u001b[0m\n\u001b[0m\u001b[1;32m   4103\u001b[0m             \u001b[0;32mif\u001b[0m \u001b[0mis_integer\u001b[0m\u001b[0;34m(\u001b[0m\u001b[0mindexer\u001b[0m\u001b[0;34m)\u001b[0m\u001b[0;34m:\u001b[0m\u001b[0;34m\u001b[0m\u001b[0;34m\u001b[0m\u001b[0m\n\u001b[1;32m   4104\u001b[0m                 \u001b[0mindexer\u001b[0m \u001b[0;34m=\u001b[0m \u001b[0;34m[\u001b[0m\u001b[0mindexer\u001b[0m\u001b[0;34m]\u001b[0m\u001b[0;34m\u001b[0m\u001b[0;34m\u001b[0m\u001b[0m\n",
            "\u001b[0;32m/usr/local/lib/python3.11/dist-packages/pandas/core/indexes/range.py\u001b[0m in \u001b[0;36mget_loc\u001b[0;34m(self, key)\u001b[0m\n\u001b[1;32m    415\u001b[0m                 \u001b[0;32mraise\u001b[0m \u001b[0mKeyError\u001b[0m\u001b[0;34m(\u001b[0m\u001b[0mkey\u001b[0m\u001b[0;34m)\u001b[0m \u001b[0;32mfrom\u001b[0m \u001b[0merr\u001b[0m\u001b[0;34m\u001b[0m\u001b[0;34m\u001b[0m\u001b[0m\n\u001b[1;32m    416\u001b[0m         \u001b[0;32mif\u001b[0m \u001b[0misinstance\u001b[0m\u001b[0;34m(\u001b[0m\u001b[0mkey\u001b[0m\u001b[0;34m,\u001b[0m \u001b[0mHashable\u001b[0m\u001b[0;34m)\u001b[0m\u001b[0;34m:\u001b[0m\u001b[0;34m\u001b[0m\u001b[0;34m\u001b[0m\u001b[0m\n\u001b[0;32m--> 417\u001b[0;31m             \u001b[0;32mraise\u001b[0m \u001b[0mKeyError\u001b[0m\u001b[0;34m(\u001b[0m\u001b[0mkey\u001b[0m\u001b[0;34m)\u001b[0m\u001b[0;34m\u001b[0m\u001b[0;34m\u001b[0m\u001b[0m\n\u001b[0m\u001b[1;32m    418\u001b[0m         \u001b[0mself\u001b[0m\u001b[0;34m.\u001b[0m\u001b[0m_check_indexing_error\u001b[0m\u001b[0;34m(\u001b[0m\u001b[0mkey\u001b[0m\u001b[0;34m)\u001b[0m\u001b[0;34m\u001b[0m\u001b[0;34m\u001b[0m\u001b[0m\n\u001b[1;32m    419\u001b[0m         \u001b[0;32mraise\u001b[0m \u001b[0mKeyError\u001b[0m\u001b[0;34m(\u001b[0m\u001b[0mkey\u001b[0m\u001b[0;34m)\u001b[0m\u001b[0;34m\u001b[0m\u001b[0;34m\u001b[0m\u001b[0m\n",
            "\u001b[0;31mKeyError\u001b[0m: 'Return_6M'"
          ]
        }
      ]
    }
  ]
}