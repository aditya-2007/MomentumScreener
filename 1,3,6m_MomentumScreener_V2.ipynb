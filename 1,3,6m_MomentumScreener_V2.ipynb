{
  "nbformat": 4,
  "nbformat_minor": 0,
  "metadata": {
    "colab": {
      "provenance": [],
      "include_colab_link": true
    },
    "kernelspec": {
      "name": "python3",
      "display_name": "Python 3"
    },
    "language_info": {
      "name": "python"
    }
  },
  "cells": [
    {
      "cell_type": "markdown",
      "metadata": {
        "id": "view-in-github",
        "colab_type": "text"
      },
      "source": [
        "<a href=\"https://colab.research.google.com/github/aditya-2007/MomentumScreener/blob/main/1%2C3%2C6m_MomentumScreener_V2.ipynb\" target=\"_parent\"><img src=\"https://colab.research.google.com/assets/colab-badge.svg\" alt=\"Open In Colab\"/></a>"
      ]
    },
    {
      "cell_type": "code",
      "execution_count": null,
      "metadata": {
        "id": "wxp6ZqGnyJWD"
      },
      "outputs": [],
      "source": [
        "!pip install pandas numpy yfinance pytesseract pillow"
      ]
    },
    {
      "cell_type": "code",
      "source": [
        "\n",
        "import yfinance as yf\n",
        "import pandas as pd\n",
        "import numpy as np\n",
        "from datetime import datetime, timedelta\n",
        "import matplotlib.pyplot as plt\n",
        "from matplotlib.table import Table\n",
        "\n",
        "# List of tickers\n",
        "tickers = [\"RELIANCE.NS\", \"TCS.NS\", \"HDFCBANK.NS\", \"BHARTIARTL.NS\", \"ICICIBANK.NS\", \"SBIN.NS\", \"INFY.NS\",\n",
        "           \"LICI.NS\", \"HINDUNILVR.NS\", \"ITC.NS\", \"LT.NS\", \"BAJFINANCE.NS\", \"MARUTI.NS\", \"HCLTECH.NS\",\n",
        "           \"ADANIENT.NS\", \"AXISBANK.NS\", \"SUNPHARMA.NS\", \"TATAMOTORS.NS\", \"TATAMTRDVR.NS\", \"M&M.NS\",\n",
        "           \"NTPC.NS\", \"KOTAKBANK.NS\", \"ONGC.NS\", \"HAL.NS\", \"DMART.NS\", \"TITAN.NS\", \"ULTRACEMCO.NS\",\n",
        "           \"ADANIPORTS.NS\", \"ADANIPOWER.NS\", \"ADANIGREEN.NS\", \"COALINDIA.NS\", \"POWERGRID.NS\", \"ASIANPAINT.NS\",\n",
        "           \"BAJAJ-AUTO.NS\", \"WIPRO.NS\", \"BAJAJFINSV.NS\", \"SIEMENS.NS\", \"NESTLEIND.NS\", \"IOC.NS\", \"IRFC.NS\",\n",
        "           \"JIOFIN.NS\", \"TATASTEEL.NS\", \"JSWSTEEL.NS\", \"DLF.NS\", \"BEL.NS\", \"VBL.NS\", \"TRENT.NS\", \"VEDL.NS\",\n",
        "           \"ABB.NS\", \"INDIGO.NS\", \"ZOMATO.NS\", \"GRASIM.NS\", \"PFC.NS\", \"PIDILITIND.NS\", \"AMBUJACEM.NS\",\n",
        "           \"HINDALCO.NS\", \"LTIM.NS\", \"GODREJCP.NS\", \"SBILIFE.NS\", \"LODHA.NS\", \"TATAPOWER.NS\", \"BANKBARODA.NS\",\n",
        "           \"GAIL.NS\", \"PNB.NS\", \"TECHM.NS\", \"BRITANNIA.NS\", \"RECLTD.NS\", \"EICHERMOT.NS\", \"BPCL.NS\",\n",
        "           \"HDFCLIFE.NS\", \"CIPLA.NS\", \"DIVISLAB.NS\", \"HAVELLS.NS\", \"INDUSINDBK.NS\", \"TVSMOTOR.NS\",\n",
        "           \"ADANIENSOL.NS\", \"CHOLAFIN.NS\", \"UNIONBANK.NS\", \"HEROMOTOCO.NS\", \"JSWENERGY.NS\", \"DABUR.NS\",\n",
        "           \"TATACONSUM.NS\", \"CANBK.NS\", \"ATGL.NS\", \"ZYDUSLIFE.NS\", \"MOTHERSON.NS\", \"IDEA.NS\", \"JINDALSTEL.NS\",\n",
        "           \"NHPC.NS\", \"POLYCAB.NS\", \"CGPOWER.NS\", \"DRREDDY.NS\", \"CUMMINSIND.NS\", \"BHEL.NS\", \"TORNTPHARM.NS\",\n",
        "           \"SHREECEM.NS\", \"SHRIRAMFIN.NS\", \"INDUSTOWER.NS\", \"BAJAJHLDNG.NS\", \"IDBI.NS\", \"BOSCHLTD.NS\",\n",
        "           \"APOLLOHOSP.NS\", \"MANKIND.NS\", \"MARICO.NS\", \"INDHOTEL.NS\", \"ICICIPRULI.NS\", \"HDFCAMC.NS\",\n",
        "           \"ICICIGI.NS\", \"COLPAL.NS\", \"NAUKRI.NS\", \"MAXHEALTH.NS\", \"GODREJPROP.NS\", \"IRCTC.NS\", \"RVNL.NS\",\n",
        "           \"TIINDIA.NS\", \"NMDC.NS\", \"LUPIN.NS\", \"HINDPETRO.NS\", \"AUROPHARMA.NS\", \"BHARATFORG.NS\",\n",
        "           \"SUPREMEIND.NS\", \"OFSS.NS\", \"YESBANK.NS\", \"INDIANB.NS\", \"TORNTPOWER.NS\", \"PRESTIGE.NS\",\n",
        "           \"OBEROIRLTY.NS\", \"SRF.NS\", \"SBICARD.NS\", \"ASHOKLEY.NS\", \"SUZLON.NS\", \"OIL.NS\", \"CONCOR.NS\",\n",
        "           \"MAZDOCK.NS\", \"SAIL.NS\", \"BALKRISIND.NS\", \"ABCAPITAL.NS\", \"DIXON.NS\", \"PERSISTENT.NS\", \"ALKEM.NS\",\n",
        "           \"JSWINFRA.NS\", \"POLICYBZR.NS\", \"ASTRAL.NS\", \"BERGEPAINT.NS\", \"PIIND.NS\", \"BANKINDIA.NS\",\n",
        "           \"IDFCFIRSTB.NS\", \"MRF.NS\", \"BDL.NS\", \"SJVN.NS\", \"GMRINFRA.NS\", \"TATACOMM.NS\", \"PATANJALI.NS\",\n",
        "           \"LTTS.NS\", \"AUBANK.NS\", \"NYKAA.NS\", \"VOLTAS.NS\", \"MAHABANK.NS\", \"ACC.NS\", \"MPHASIS.NS\", \"FACT.NS\",\n",
        "           \"PETRONET.NS\", \"APLAPOLLO.NS\", \"TATAELXSI.NS\", \"ESCORTS.NS\", \"TATATECH.NS\", \"PAGEIND.NS\",\n",
        "           \"KALYANKJIL.NS\", \"LTF.NS\", \"KPITTECH.NS\", \"UPL.NS\", \"GUJGASLTD.NS\", \"BIOCON.NS\", \"FEDERALBNK.NS\",\n",
        "           \"SONACOMS.NS\", \"LICHSGFIN.NS\", \"BSE.NS\", \"COFORGE.NS\", \"POONAWALLA.NS\", \"FORTIS.NS\", \"M&MFIN.NS\",\n",
        "           \"JUBLFOOD.NS\", \"DALBHARAT.NS\", \"ABFRL.NS\", \"IGL.NS\", \"MFSL.NS\", \"BANDHANBNK.NS\", \"DEEPAKNTR.NS\",\n",
        "           \"APOLLOTYRE.NS\", \"GLAND.NS\", \"IPCALAB.NS\", \"DELHIVERY.NS\", \"SUNTV.NS\", \"SYNGENE.NS\", \"TATACHEM.NS\",\n",
        "           \"PAYTM.NS\", \"LAURUSLABS.NS\", \"LALPATHLAB.NS\", \"PEL.NS\", \"ZEEL.NS\",\"UNITDSPR.NS\"]\n",
        "\n",
        "# Function to fetch historical data\n",
        "def get_data(ticker, start_date, end_date):\n",
        "    return yf.download(ticker, start=start_date, end=end_date, multi_level_index=False)\n",
        "\n",
        "# Set dates\n",
        "end_date = datetime.today()\n",
        "start_date = end_date - timedelta(days=365 * 2)  # 2 years of data for moving averages\n",
        "\n",
        "# Data dictionary to hold stock data\n",
        "data = {}\n",
        "\n",
        "# Fetch data for all tickers\n",
        "for ticker in tickers:\n",
        "    try:\n",
        "        stock_data = get_data(ticker, start_date, end_date)\n",
        "        print(stock_data.columns)\n",
        "        if len(stock_data) > 0:\n",
        "            data[ticker] = stock_data\n",
        "    except Exception as e:\n",
        "        print(f\"Error fetching data for {ticker}: {e}\")\n",
        "\n",
        "# Create a DataFrame for summary\n",
        "summary = []\n",
        "\n",
        "# Analyze each stock\n",
        "for ticker, df in data.items():\n",
        "    try:\n",
        "        # Calculate EMAs\n",
        "        df['EMA100'] = df['Adj Close'].ewm(span=100).mean()\n",
        "\n",
        "        # Last 1-year return\n",
        "        one_year_return = (df['Adj Close'].iloc[-1] / df['Adj Close'].iloc[-252] - 1) * 100\n",
        "\n",
        "        # 52-week high\n",
        "        high_52_week = df['Adj Close'].iloc[-252:].max()\n",
        "        within_20_pct_high = df['Adj Close'].iloc[-1] >= high_52_week * 0.8\n",
        "\n",
        "        # More than 45% up days in the last 6 months (126 trading days)\n",
        "        six_month_data = df['Adj Close'].iloc[-126:]\n",
        "        up_days = (six_month_data.pct_change() > 0).sum()\n",
        "        up_days_pct = up_days / len(six_month_data) * 100\n",
        "\n",
        "        # Filtering criteria\n",
        "        if (df['Adj Close'].iloc[-1] >= df['EMA100'].iloc[-1] and\n",
        "            one_year_return >= 6.5 and\n",
        "            within_20_pct_high and\n",
        "            up_days_pct > 45):\n",
        "\n",
        "            # Calculate returns\n",
        "            return_6m = (df['Adj Close'].iloc[-1] / df['Adj Close'].iloc[-126] - 1) * 100\n",
        "            return_3m = (df['Adj Close'].iloc[-1] / df['Adj Close'].iloc[-63] - 1) * 100\n",
        "            return_1m = (df['Adj Close'].iloc[-1] / df['Adj Close'].iloc[-21] - 1) * 100\n",
        "\n",
        "            summary.append({\n",
        "                'Ticker': ticker,\n",
        "                'Return_6M': return_6m,\n",
        "                'Return_3M': return_3m,\n",
        "                'Return_1M': return_1m,\n",
        "            })\n",
        "    except Exception as e:\n",
        "        print(f\"Error analyzing {ticker}: {e}\")\n",
        "\n",
        "# Convert summary to DataFrame\n",
        "df_summary = pd.DataFrame(summary)\n",
        "\n",
        "# Round off returns to 1 decimal place\n",
        "df_summary['Return_6M'] = df_summary['Return_6M'].round(1)\n",
        "df_summary['Return_3M'] = df_summary['Return_3M'].round(1)\n",
        "df_summary['Return_1M'] = df_summary['Return_1M'].round(1)\n",
        "\n",
        "# Ranking based on returns\n",
        "df_summary['Rank_6M'] = df_summary['Return_6M'].rank(ascending=False)\n",
        "df_summary['Rank_3M'] = df_summary['Return_3M'].rank(ascending=False)\n",
        "df_summary['Rank_1M'] = df_summary['Return_1M'].rank(ascending=False)\n",
        "\n",
        "# Calculate final rank\n",
        "df_summary['Final_Rank'] = df_summary['Rank_6M'] + df_summary['Rank_3M'] + df_summary['Rank_1M']\n",
        "\n",
        "# Sort by final rank and get top 30\n",
        "df_summary_sorted = df_summary.sort_values('Final_Rank').head(40)\n",
        "\n",
        "# Assign position based on final rank\n",
        "df_summary_sorted['Position'] = np.arange(1, len(df_summary_sorted) + 1)\n",
        "\n",
        "# Separate top 15 and next 15\n",
        "top_15 = df_summary_sorted.head(15)\n",
        "next_15 = df_summary_sorted.iloc[15:30]\n",
        "\n",
        "# Prepare table data\n",
        "tbl_data = []\n",
        "for i, row in df_summary_sorted.iterrows():\n",
        "    tbl_data.append([row['Ticker'],\n",
        "                     row['Return_6M'], row['Rank_6M'],\n",
        "                     row['Return_3M'], row['Rank_3M'],\n",
        "                     row['Return_1M'], row['Rank_1M'],\n",
        "                     row['Final_Rank'], row['Position']])\n",
        "\n",
        "# Plot the results using matplotlib\n",
        "fig, ax = plt.subplots(figsize=(14, 10))\n",
        "ax.axis('tight')\n",
        "ax.axis('off')\n",
        "\n",
        "# Create a table\n",
        "col_labels = ['Ticker', 'Return_6M', 'Rank_6M', 'Return_3M', 'Rank_3M', 'Return_1M', 'Rank_1M', 'Final_Rank','Position']\n",
        "table = ax.table(cellText=tbl_data, colLabels=col_labels, cellLoc='center', loc='center')\n",
        "table.auto_set_font_size(False)\n",
        "table.set_fontsize(12)\n",
        "table.scale(1, 1.5)\n",
        "\n",
        "# Draw a red line to separate the top 15\n",
        "for i in range(len(col_labels)):\n",
        "    cell = table[(15, i)]\n",
        "    cell.set_edgecolor('red')\n",
        "    cell.set_linewidth(3)\n",
        "\n",
        "# Adjust layout\n",
        "plt.subplots_adjust(left=0.1, top=0.95)  # Adjust top parameter for title position\n",
        "#plt.title('Top 40 Stocks Momentum Ranking', fontsize=18, y=1.05)  # y parameter for title position\n",
        "plt.show()"
      ],
      "metadata": {
        "id": "WIYxuZbvyT_l",
        "colab": {
          "base_uri": "https://localhost:8080/",
          "height": 1000
        },
        "outputId": "a77c8064-94ad-4e03-ba18-13c0ae7124dc"
      },
      "execution_count": 4,
      "outputs": [
        {
          "output_type": "stream",
          "name": "stderr",
          "text": [
            "[*********************100%***********************]  1 of 1 completed\n",
            "[*********************100%***********************]  1 of 1 completed\n"
          ]
        },
        {
          "output_type": "stream",
          "name": "stdout",
          "text": [
            "MultiIndex([( 'Close', 'RELIANCE.NS'),\n",
            "            (  'High', 'RELIANCE.NS'),\n",
            "            (   'Low', 'RELIANCE.NS'),\n",
            "            (  'Open', 'RELIANCE.NS'),\n",
            "            ('Volume', 'RELIANCE.NS')],\n",
            "           names=['Price', 'Ticker'])\n",
            "MultiIndex([( 'Close', 'TCS.NS'),\n",
            "            (  'High', 'TCS.NS'),\n",
            "            (   'Low', 'TCS.NS'),\n",
            "            (  'Open', 'TCS.NS'),\n",
            "            ('Volume', 'TCS.NS')],\n",
            "           names=['Price', 'Ticker'])\n"
          ]
        },
        {
          "output_type": "stream",
          "name": "stderr",
          "text": [
            "[*********************100%***********************]  1 of 1 completed\n",
            "[*********************100%***********************]  1 of 1 completed\n"
          ]
        },
        {
          "output_type": "stream",
          "name": "stdout",
          "text": [
            "MultiIndex([( 'Close', 'HDFCBANK.NS'),\n",
            "            (  'High', 'HDFCBANK.NS'),\n",
            "            (   'Low', 'HDFCBANK.NS'),\n",
            "            (  'Open', 'HDFCBANK.NS'),\n",
            "            ('Volume', 'HDFCBANK.NS')],\n",
            "           names=['Price', 'Ticker'])\n",
            "MultiIndex([( 'Close', 'BHARTIARTL.NS'),\n",
            "            (  'High', 'BHARTIARTL.NS'),\n",
            "            (   'Low', 'BHARTIARTL.NS'),\n",
            "            (  'Open', 'BHARTIARTL.NS'),\n",
            "            ('Volume', 'BHARTIARTL.NS')],\n",
            "           names=['Price', 'Ticker'])\n"
          ]
        },
        {
          "output_type": "stream",
          "name": "stderr",
          "text": [
            "[*********************100%***********************]  1 of 1 completed\n",
            "[*********************100%***********************]  1 of 1 completed\n"
          ]
        },
        {
          "output_type": "stream",
          "name": "stdout",
          "text": [
            "MultiIndex([( 'Close', 'ICICIBANK.NS'),\n",
            "            (  'High', 'ICICIBANK.NS'),\n",
            "            (   'Low', 'ICICIBANK.NS'),\n",
            "            (  'Open', 'ICICIBANK.NS'),\n",
            "            ('Volume', 'ICICIBANK.NS')],\n",
            "           names=['Price', 'Ticker'])\n",
            "MultiIndex([( 'Close', 'SBIN.NS'),\n",
            "            (  'High', 'SBIN.NS'),\n",
            "            (   'Low', 'SBIN.NS'),\n",
            "            (  'Open', 'SBIN.NS'),\n",
            "            ('Volume', 'SBIN.NS')],\n",
            "           names=['Price', 'Ticker'])\n"
          ]
        },
        {
          "output_type": "stream",
          "name": "stderr",
          "text": [
            "[*********************100%***********************]  1 of 1 completed\n",
            "[*********************100%***********************]  1 of 1 completed\n"
          ]
        },
        {
          "output_type": "stream",
          "name": "stdout",
          "text": [
            "MultiIndex([( 'Close', 'INFY.NS'),\n",
            "            (  'High', 'INFY.NS'),\n",
            "            (   'Low', 'INFY.NS'),\n",
            "            (  'Open', 'INFY.NS'),\n",
            "            ('Volume', 'INFY.NS')],\n",
            "           names=['Price', 'Ticker'])\n",
            "MultiIndex([( 'Close', 'LICI.NS'),\n",
            "            (  'High', 'LICI.NS'),\n",
            "            (   'Low', 'LICI.NS'),\n",
            "            (  'Open', 'LICI.NS'),\n",
            "            ('Volume', 'LICI.NS')],\n",
            "           names=['Price', 'Ticker'])\n"
          ]
        },
        {
          "output_type": "stream",
          "name": "stderr",
          "text": [
            "[*********************100%***********************]  1 of 1 completed\n",
            "[*********************100%***********************]  1 of 1 completed\n"
          ]
        },
        {
          "output_type": "stream",
          "name": "stdout",
          "text": [
            "MultiIndex([( 'Close', 'HINDUNILVR.NS'),\n",
            "            (  'High', 'HINDUNILVR.NS'),\n",
            "            (   'Low', 'HINDUNILVR.NS'),\n",
            "            (  'Open', 'HINDUNILVR.NS'),\n",
            "            ('Volume', 'HINDUNILVR.NS')],\n",
            "           names=['Price', 'Ticker'])\n",
            "MultiIndex([( 'Close', 'ITC.NS'),\n",
            "            (  'High', 'ITC.NS'),\n",
            "            (   'Low', 'ITC.NS'),\n",
            "            (  'Open', 'ITC.NS'),\n",
            "            ('Volume', 'ITC.NS')],\n",
            "           names=['Price', 'Ticker'])\n"
          ]
        },
        {
          "output_type": "stream",
          "name": "stderr",
          "text": [
            "[*********************100%***********************]  1 of 1 completed\n",
            "[*********************100%***********************]  1 of 1 completed\n"
          ]
        },
        {
          "output_type": "stream",
          "name": "stdout",
          "text": [
            "MultiIndex([( 'Close', 'LT.NS'),\n",
            "            (  'High', 'LT.NS'),\n",
            "            (   'Low', 'LT.NS'),\n",
            "            (  'Open', 'LT.NS'),\n",
            "            ('Volume', 'LT.NS')],\n",
            "           names=['Price', 'Ticker'])\n",
            "MultiIndex([( 'Close', 'BAJFINANCE.NS'),\n",
            "            (  'High', 'BAJFINANCE.NS'),\n",
            "            (   'Low', 'BAJFINANCE.NS'),\n",
            "            (  'Open', 'BAJFINANCE.NS'),\n",
            "            ('Volume', 'BAJFINANCE.NS')],\n",
            "           names=['Price', 'Ticker'])\n"
          ]
        },
        {
          "output_type": "stream",
          "name": "stderr",
          "text": [
            "[*********************100%***********************]  1 of 1 completed\n",
            "[*********************100%***********************]  1 of 1 completed\n"
          ]
        },
        {
          "output_type": "stream",
          "name": "stdout",
          "text": [
            "MultiIndex([( 'Close', 'MARUTI.NS'),\n",
            "            (  'High', 'MARUTI.NS'),\n",
            "            (   'Low', 'MARUTI.NS'),\n",
            "            (  'Open', 'MARUTI.NS'),\n",
            "            ('Volume', 'MARUTI.NS')],\n",
            "           names=['Price', 'Ticker'])\n",
            "MultiIndex([( 'Close', 'HCLTECH.NS'),\n",
            "            (  'High', 'HCLTECH.NS'),\n",
            "            (   'Low', 'HCLTECH.NS'),\n",
            "            (  'Open', 'HCLTECH.NS'),\n",
            "            ('Volume', 'HCLTECH.NS')],\n",
            "           names=['Price', 'Ticker'])\n"
          ]
        },
        {
          "output_type": "stream",
          "name": "stderr",
          "text": [
            "[*********************100%***********************]  1 of 1 completed\n",
            "[*********************100%***********************]  1 of 1 completed\n"
          ]
        },
        {
          "output_type": "stream",
          "name": "stdout",
          "text": [
            "MultiIndex([( 'Close', 'ADANIENT.NS'),\n",
            "            (  'High', 'ADANIENT.NS'),\n",
            "            (   'Low', 'ADANIENT.NS'),\n",
            "            (  'Open', 'ADANIENT.NS'),\n",
            "            ('Volume', 'ADANIENT.NS')],\n",
            "           names=['Price', 'Ticker'])\n",
            "MultiIndex([( 'Close', 'AXISBANK.NS'),\n",
            "            (  'High', 'AXISBANK.NS'),\n",
            "            (   'Low', 'AXISBANK.NS'),\n",
            "            (  'Open', 'AXISBANK.NS'),\n",
            "            ('Volume', 'AXISBANK.NS')],\n",
            "           names=['Price', 'Ticker'])\n"
          ]
        },
        {
          "output_type": "stream",
          "name": "stderr",
          "text": [
            "[*********************100%***********************]  1 of 1 completed\n",
            "[*********************100%***********************]  1 of 1 completed\n"
          ]
        },
        {
          "output_type": "stream",
          "name": "stdout",
          "text": [
            "MultiIndex([( 'Close', 'SUNPHARMA.NS'),\n",
            "            (  'High', 'SUNPHARMA.NS'),\n",
            "            (   'Low', 'SUNPHARMA.NS'),\n",
            "            (  'Open', 'SUNPHARMA.NS'),\n",
            "            ('Volume', 'SUNPHARMA.NS')],\n",
            "           names=['Price', 'Ticker'])\n",
            "MultiIndex([( 'Close', 'TATAMOTORS.NS'),\n",
            "            (  'High', 'TATAMOTORS.NS'),\n",
            "            (   'Low', 'TATAMOTORS.NS'),\n",
            "            (  'Open', 'TATAMOTORS.NS'),\n",
            "            ('Volume', 'TATAMOTORS.NS')],\n",
            "           names=['Price', 'Ticker'])\n"
          ]
        },
        {
          "output_type": "stream",
          "name": "stderr",
          "text": [
            "[*********************100%***********************]  1 of 1 completed\n",
            "[*********************100%***********************]  1 of 1 completed\n"
          ]
        },
        {
          "output_type": "stream",
          "name": "stdout",
          "text": [
            "MultiIndex([( 'Close', 'TATAMTRDVR.NS'),\n",
            "            (  'High', 'TATAMTRDVR.NS'),\n",
            "            (   'Low', 'TATAMTRDVR.NS'),\n",
            "            (  'Open', 'TATAMTRDVR.NS'),\n",
            "            ('Volume', 'TATAMTRDVR.NS')],\n",
            "           names=['Price', 'Ticker'])\n",
            "MultiIndex([( 'Close', 'M&M.NS'),\n",
            "            (  'High', 'M&M.NS'),\n",
            "            (   'Low', 'M&M.NS'),\n",
            "            (  'Open', 'M&M.NS'),\n",
            "            ('Volume', 'M&M.NS')],\n",
            "           names=['Price', 'Ticker'])\n"
          ]
        },
        {
          "output_type": "stream",
          "name": "stderr",
          "text": [
            "[*********************100%***********************]  1 of 1 completed\n",
            "[*********************100%***********************]  1 of 1 completed\n"
          ]
        },
        {
          "output_type": "stream",
          "name": "stdout",
          "text": [
            "MultiIndex([( 'Close', 'NTPC.NS'),\n",
            "            (  'High', 'NTPC.NS'),\n",
            "            (   'Low', 'NTPC.NS'),\n",
            "            (  'Open', 'NTPC.NS'),\n",
            "            ('Volume', 'NTPC.NS')],\n",
            "           names=['Price', 'Ticker'])\n",
            "MultiIndex([( 'Close', 'KOTAKBANK.NS'),\n",
            "            (  'High', 'KOTAKBANK.NS'),\n",
            "            (   'Low', 'KOTAKBANK.NS'),\n",
            "            (  'Open', 'KOTAKBANK.NS'),\n",
            "            ('Volume', 'KOTAKBANK.NS')],\n",
            "           names=['Price', 'Ticker'])\n"
          ]
        },
        {
          "output_type": "stream",
          "name": "stderr",
          "text": [
            "[*********************100%***********************]  1 of 1 completed\n",
            "[*********************100%***********************]  1 of 1 completed\n",
            "[*********************100%***********************]  1 of 1 completed\n"
          ]
        },
        {
          "output_type": "stream",
          "name": "stdout",
          "text": [
            "MultiIndex([( 'Close', 'ONGC.NS'),\n",
            "            (  'High', 'ONGC.NS'),\n",
            "            (   'Low', 'ONGC.NS'),\n",
            "            (  'Open', 'ONGC.NS'),\n",
            "            ('Volume', 'ONGC.NS')],\n",
            "           names=['Price', 'Ticker'])\n",
            "MultiIndex([( 'Close', 'HAL.NS'),\n",
            "            (  'High', 'HAL.NS'),\n",
            "            (   'Low', 'HAL.NS'),\n",
            "            (  'Open', 'HAL.NS'),\n",
            "            ('Volume', 'HAL.NS')],\n",
            "           names=['Price', 'Ticker'])\n",
            "MultiIndex([( 'Close', 'DMART.NS'),\n",
            "            (  'High', 'DMART.NS'),\n",
            "            (   'Low', 'DMART.NS'),\n",
            "            (  'Open', 'DMART.NS'),\n",
            "            ('Volume', 'DMART.NS')],\n",
            "           names=['Price', 'Ticker'])\n"
          ]
        },
        {
          "output_type": "stream",
          "name": "stderr",
          "text": [
            "[*********************100%***********************]  1 of 1 completed\n",
            "[*********************100%***********************]  1 of 1 completed\n"
          ]
        },
        {
          "output_type": "stream",
          "name": "stdout",
          "text": [
            "MultiIndex([( 'Close', 'TITAN.NS'),\n",
            "            (  'High', 'TITAN.NS'),\n",
            "            (   'Low', 'TITAN.NS'),\n",
            "            (  'Open', 'TITAN.NS'),\n",
            "            ('Volume', 'TITAN.NS')],\n",
            "           names=['Price', 'Ticker'])\n",
            "MultiIndex([( 'Close', 'ULTRACEMCO.NS'),\n",
            "            (  'High', 'ULTRACEMCO.NS'),\n",
            "            (   'Low', 'ULTRACEMCO.NS'),\n",
            "            (  'Open', 'ULTRACEMCO.NS'),\n",
            "            ('Volume', 'ULTRACEMCO.NS')],\n",
            "           names=['Price', 'Ticker'])\n"
          ]
        },
        {
          "output_type": "stream",
          "name": "stderr",
          "text": [
            "[*********************100%***********************]  1 of 1 completed\n",
            "[*********************100%***********************]  1 of 1 completed\n",
            "[*********************100%***********************]  1 of 1 completed\n"
          ]
        },
        {
          "output_type": "stream",
          "name": "stdout",
          "text": [
            "MultiIndex([( 'Close', 'ADANIPORTS.NS'),\n",
            "            (  'High', 'ADANIPORTS.NS'),\n",
            "            (   'Low', 'ADANIPORTS.NS'),\n",
            "            (  'Open', 'ADANIPORTS.NS'),\n",
            "            ('Volume', 'ADANIPORTS.NS')],\n",
            "           names=['Price', 'Ticker'])\n",
            "MultiIndex([( 'Close', 'ADANIPOWER.NS'),\n",
            "            (  'High', 'ADANIPOWER.NS'),\n",
            "            (   'Low', 'ADANIPOWER.NS'),\n",
            "            (  'Open', 'ADANIPOWER.NS'),\n",
            "            ('Volume', 'ADANIPOWER.NS')],\n",
            "           names=['Price', 'Ticker'])\n",
            "MultiIndex([( 'Close', 'ADANIGREEN.NS'),\n",
            "            (  'High', 'ADANIGREEN.NS'),\n",
            "            (   'Low', 'ADANIGREEN.NS'),\n",
            "            (  'Open', 'ADANIGREEN.NS'),\n",
            "            ('Volume', 'ADANIGREEN.NS')],\n",
            "           names=['Price', 'Ticker'])\n"
          ]
        },
        {
          "output_type": "stream",
          "name": "stderr",
          "text": [
            "[*********************100%***********************]  1 of 1 completed\n",
            "[*********************100%***********************]  1 of 1 completed\n"
          ]
        },
        {
          "output_type": "stream",
          "name": "stdout",
          "text": [
            "MultiIndex([( 'Close', 'COALINDIA.NS'),\n",
            "            (  'High', 'COALINDIA.NS'),\n",
            "            (   'Low', 'COALINDIA.NS'),\n",
            "            (  'Open', 'COALINDIA.NS'),\n",
            "            ('Volume', 'COALINDIA.NS')],\n",
            "           names=['Price', 'Ticker'])\n",
            "MultiIndex([( 'Close', 'POWERGRID.NS'),\n",
            "            (  'High', 'POWERGRID.NS'),\n",
            "            (   'Low', 'POWERGRID.NS'),\n",
            "            (  'Open', 'POWERGRID.NS'),\n",
            "            ('Volume', 'POWERGRID.NS')],\n",
            "           names=['Price', 'Ticker'])\n"
          ]
        },
        {
          "output_type": "stream",
          "name": "stderr",
          "text": [
            "[*********************100%***********************]  1 of 1 completed\n",
            "[*********************100%***********************]  1 of 1 completed\n"
          ]
        },
        {
          "output_type": "stream",
          "name": "stdout",
          "text": [
            "MultiIndex([( 'Close', 'ASIANPAINT.NS'),\n",
            "            (  'High', 'ASIANPAINT.NS'),\n",
            "            (   'Low', 'ASIANPAINT.NS'),\n",
            "            (  'Open', 'ASIANPAINT.NS'),\n",
            "            ('Volume', 'ASIANPAINT.NS')],\n",
            "           names=['Price', 'Ticker'])\n",
            "MultiIndex([( 'Close', 'BAJAJ-AUTO.NS'),\n",
            "            (  'High', 'BAJAJ-AUTO.NS'),\n",
            "            (   'Low', 'BAJAJ-AUTO.NS'),\n",
            "            (  'Open', 'BAJAJ-AUTO.NS'),\n",
            "            ('Volume', 'BAJAJ-AUTO.NS')],\n",
            "           names=['Price', 'Ticker'])\n"
          ]
        },
        {
          "output_type": "stream",
          "name": "stderr",
          "text": [
            "[*********************100%***********************]  1 of 1 completed\n",
            "[*********************100%***********************]  1 of 1 completed\n"
          ]
        },
        {
          "output_type": "stream",
          "name": "stdout",
          "text": [
            "MultiIndex([( 'Close', 'WIPRO.NS'),\n",
            "            (  'High', 'WIPRO.NS'),\n",
            "            (   'Low', 'WIPRO.NS'),\n",
            "            (  'Open', 'WIPRO.NS'),\n",
            "            ('Volume', 'WIPRO.NS')],\n",
            "           names=['Price', 'Ticker'])\n",
            "MultiIndex([( 'Close', 'BAJAJFINSV.NS'),\n",
            "            (  'High', 'BAJAJFINSV.NS'),\n",
            "            (   'Low', 'BAJAJFINSV.NS'),\n",
            "            (  'Open', 'BAJAJFINSV.NS'),\n",
            "            ('Volume', 'BAJAJFINSV.NS')],\n",
            "           names=['Price', 'Ticker'])\n"
          ]
        },
        {
          "output_type": "stream",
          "name": "stderr",
          "text": [
            "[*********************100%***********************]  1 of 1 completed\n",
            "[*********************100%***********************]  1 of 1 completed\n"
          ]
        },
        {
          "output_type": "stream",
          "name": "stdout",
          "text": [
            "MultiIndex([( 'Close', 'SIEMENS.NS'),\n",
            "            (  'High', 'SIEMENS.NS'),\n",
            "            (   'Low', 'SIEMENS.NS'),\n",
            "            (  'Open', 'SIEMENS.NS'),\n",
            "            ('Volume', 'SIEMENS.NS')],\n",
            "           names=['Price', 'Ticker'])\n",
            "MultiIndex([( 'Close', 'NESTLEIND.NS'),\n",
            "            (  'High', 'NESTLEIND.NS'),\n",
            "            (   'Low', 'NESTLEIND.NS'),\n",
            "            (  'Open', 'NESTLEIND.NS'),\n",
            "            ('Volume', 'NESTLEIND.NS')],\n",
            "           names=['Price', 'Ticker'])\n"
          ]
        },
        {
          "output_type": "stream",
          "name": "stderr",
          "text": [
            "[*********************100%***********************]  1 of 1 completed\n",
            "[*********************100%***********************]  1 of 1 completed\n",
            "[*********************100%***********************]  1 of 1 completed\n"
          ]
        },
        {
          "output_type": "stream",
          "name": "stdout",
          "text": [
            "MultiIndex([( 'Close', 'IOC.NS'),\n",
            "            (  'High', 'IOC.NS'),\n",
            "            (   'Low', 'IOC.NS'),\n",
            "            (  'Open', 'IOC.NS'),\n",
            "            ('Volume', 'IOC.NS')],\n",
            "           names=['Price', 'Ticker'])\n",
            "MultiIndex([( 'Close', 'IRFC.NS'),\n",
            "            (  'High', 'IRFC.NS'),\n",
            "            (   'Low', 'IRFC.NS'),\n",
            "            (  'Open', 'IRFC.NS'),\n",
            "            ('Volume', 'IRFC.NS')],\n",
            "           names=['Price', 'Ticker'])\n",
            "MultiIndex([( 'Close', 'JIOFIN.NS'),\n",
            "            (  'High', 'JIOFIN.NS'),\n",
            "            (   'Low', 'JIOFIN.NS'),\n",
            "            (  'Open', 'JIOFIN.NS'),\n",
            "            ('Volume', 'JIOFIN.NS')],\n",
            "           names=['Price', 'Ticker'])\n"
          ]
        },
        {
          "output_type": "stream",
          "name": "stderr",
          "text": [
            "[*********************100%***********************]  1 of 1 completed\n",
            "[*********************100%***********************]  1 of 1 completed\n"
          ]
        },
        {
          "output_type": "stream",
          "name": "stdout",
          "text": [
            "MultiIndex([( 'Close', 'TATASTEEL.NS'),\n",
            "            (  'High', 'TATASTEEL.NS'),\n",
            "            (   'Low', 'TATASTEEL.NS'),\n",
            "            (  'Open', 'TATASTEEL.NS'),\n",
            "            ('Volume', 'TATASTEEL.NS')],\n",
            "           names=['Price', 'Ticker'])\n",
            "MultiIndex([( 'Close', 'JSWSTEEL.NS'),\n",
            "            (  'High', 'JSWSTEEL.NS'),\n",
            "            (   'Low', 'JSWSTEEL.NS'),\n",
            "            (  'Open', 'JSWSTEEL.NS'),\n",
            "            ('Volume', 'JSWSTEEL.NS')],\n",
            "           names=['Price', 'Ticker'])\n"
          ]
        },
        {
          "output_type": "stream",
          "name": "stderr",
          "text": [
            "[*********************100%***********************]  1 of 1 completed\n",
            "[*********************100%***********************]  1 of 1 completed\n"
          ]
        },
        {
          "output_type": "stream",
          "name": "stdout",
          "text": [
            "MultiIndex([( 'Close', 'DLF.NS'),\n",
            "            (  'High', 'DLF.NS'),\n",
            "            (   'Low', 'DLF.NS'),\n",
            "            (  'Open', 'DLF.NS'),\n",
            "            ('Volume', 'DLF.NS')],\n",
            "           names=['Price', 'Ticker'])\n",
            "MultiIndex([( 'Close', 'BEL.NS'),\n",
            "            (  'High', 'BEL.NS'),\n",
            "            (   'Low', 'BEL.NS'),\n",
            "            (  'Open', 'BEL.NS'),\n",
            "            ('Volume', 'BEL.NS')],\n",
            "           names=['Price', 'Ticker'])\n"
          ]
        },
        {
          "output_type": "stream",
          "name": "stderr",
          "text": [
            "[*********************100%***********************]  1 of 1 completed\n",
            "[*********************100%***********************]  1 of 1 completed\n"
          ]
        },
        {
          "output_type": "stream",
          "name": "stdout",
          "text": [
            "MultiIndex([( 'Close', 'VBL.NS'),\n",
            "            (  'High', 'VBL.NS'),\n",
            "            (   'Low', 'VBL.NS'),\n",
            "            (  'Open', 'VBL.NS'),\n",
            "            ('Volume', 'VBL.NS')],\n",
            "           names=['Price', 'Ticker'])\n",
            "MultiIndex([( 'Close', 'TRENT.NS'),\n",
            "            (  'High', 'TRENT.NS'),\n",
            "            (   'Low', 'TRENT.NS'),\n",
            "            (  'Open', 'TRENT.NS'),\n",
            "            ('Volume', 'TRENT.NS')],\n",
            "           names=['Price', 'Ticker'])\n"
          ]
        },
        {
          "output_type": "stream",
          "name": "stderr",
          "text": [
            "[*********************100%***********************]  1 of 1 completed\n",
            "[*********************100%***********************]  1 of 1 completed\n",
            "[*********************100%***********************]  1 of 1 completed\n"
          ]
        },
        {
          "output_type": "stream",
          "name": "stdout",
          "text": [
            "MultiIndex([( 'Close', 'VEDL.NS'),\n",
            "            (  'High', 'VEDL.NS'),\n",
            "            (   'Low', 'VEDL.NS'),\n",
            "            (  'Open', 'VEDL.NS'),\n",
            "            ('Volume', 'VEDL.NS')],\n",
            "           names=['Price', 'Ticker'])\n",
            "MultiIndex([( 'Close', 'ABB.NS'),\n",
            "            (  'High', 'ABB.NS'),\n",
            "            (   'Low', 'ABB.NS'),\n",
            "            (  'Open', 'ABB.NS'),\n",
            "            ('Volume', 'ABB.NS')],\n",
            "           names=['Price', 'Ticker'])\n",
            "MultiIndex([( 'Close', 'INDIGO.NS'),\n",
            "            (  'High', 'INDIGO.NS'),\n",
            "            (   'Low', 'INDIGO.NS'),\n",
            "            (  'Open', 'INDIGO.NS'),\n",
            "            ('Volume', 'INDIGO.NS')],\n",
            "           names=['Price', 'Ticker'])\n"
          ]
        },
        {
          "output_type": "stream",
          "name": "stderr",
          "text": [
            "[*********************100%***********************]  1 of 1 completed\n",
            "[*********************100%***********************]  1 of 1 completed\n"
          ]
        },
        {
          "output_type": "stream",
          "name": "stdout",
          "text": [
            "MultiIndex([( 'Close', 'ZOMATO.NS'),\n",
            "            (  'High', 'ZOMATO.NS'),\n",
            "            (   'Low', 'ZOMATO.NS'),\n",
            "            (  'Open', 'ZOMATO.NS'),\n",
            "            ('Volume', 'ZOMATO.NS')],\n",
            "           names=['Price', 'Ticker'])\n",
            "MultiIndex([( 'Close', 'GRASIM.NS'),\n",
            "            (  'High', 'GRASIM.NS'),\n",
            "            (   'Low', 'GRASIM.NS'),\n",
            "            (  'Open', 'GRASIM.NS'),\n",
            "            ('Volume', 'GRASIM.NS')],\n",
            "           names=['Price', 'Ticker'])\n"
          ]
        },
        {
          "output_type": "stream",
          "name": "stderr",
          "text": [
            "[*********************100%***********************]  1 of 1 completed\n",
            "[*********************100%***********************]  1 of 1 completed\n"
          ]
        },
        {
          "output_type": "stream",
          "name": "stdout",
          "text": [
            "MultiIndex([( 'Close', 'PFC.NS'),\n",
            "            (  'High', 'PFC.NS'),\n",
            "            (   'Low', 'PFC.NS'),\n",
            "            (  'Open', 'PFC.NS'),\n",
            "            ('Volume', 'PFC.NS')],\n",
            "           names=['Price', 'Ticker'])\n",
            "MultiIndex([( 'Close', 'PIDILITIND.NS'),\n",
            "            (  'High', 'PIDILITIND.NS'),\n",
            "            (   'Low', 'PIDILITIND.NS'),\n",
            "            (  'Open', 'PIDILITIND.NS'),\n",
            "            ('Volume', 'PIDILITIND.NS')],\n",
            "           names=['Price', 'Ticker'])\n"
          ]
        },
        {
          "output_type": "stream",
          "name": "stderr",
          "text": [
            "[*********************100%***********************]  1 of 1 completed\n",
            "[*********************100%***********************]  1 of 1 completed\n",
            "[*********************100%***********************]  1 of 1 completed"
          ]
        },
        {
          "output_type": "stream",
          "name": "stdout",
          "text": [
            "MultiIndex([( 'Close', 'AMBUJACEM.NS'),\n",
            "            (  'High', 'AMBUJACEM.NS'),\n",
            "            (   'Low', 'AMBUJACEM.NS'),\n",
            "            (  'Open', 'AMBUJACEM.NS'),\n",
            "            ('Volume', 'AMBUJACEM.NS')],\n",
            "           names=['Price', 'Ticker'])\n",
            "MultiIndex([( 'Close', 'HINDALCO.NS'),\n",
            "            (  'High', 'HINDALCO.NS'),\n",
            "            (   'Low', 'HINDALCO.NS'),\n",
            "            (  'Open', 'HINDALCO.NS'),\n",
            "            ('Volume', 'HINDALCO.NS')],\n",
            "           names=['Price', 'Ticker'])\n"
          ]
        },
        {
          "output_type": "stream",
          "name": "stderr",
          "text": [
            "\n",
            "[*********************100%***********************]  1 of 1 completed\n",
            "[*********************100%***********************]  1 of 1 completed"
          ]
        },
        {
          "output_type": "stream",
          "name": "stdout",
          "text": [
            "MultiIndex([( 'Close', 'LTIM.NS'),\n",
            "            (  'High', 'LTIM.NS'),\n",
            "            (   'Low', 'LTIM.NS'),\n",
            "            (  'Open', 'LTIM.NS'),\n",
            "            ('Volume', 'LTIM.NS')],\n",
            "           names=['Price', 'Ticker'])\n",
            "MultiIndex([( 'Close', 'GODREJCP.NS'),\n",
            "            (  'High', 'GODREJCP.NS'),\n",
            "            (   'Low', 'GODREJCP.NS'),\n",
            "            (  'Open', 'GODREJCP.NS'),\n",
            "            ('Volume', 'GODREJCP.NS')],\n",
            "           names=['Price', 'Ticker'])\n"
          ]
        },
        {
          "output_type": "stream",
          "name": "stderr",
          "text": [
            "\n",
            "[*********************100%***********************]  1 of 1 completed\n",
            "[*********************100%***********************]  1 of 1 completed"
          ]
        },
        {
          "output_type": "stream",
          "name": "stdout",
          "text": [
            "MultiIndex([( 'Close', 'SBILIFE.NS'),\n",
            "            (  'High', 'SBILIFE.NS'),\n",
            "            (   'Low', 'SBILIFE.NS'),\n",
            "            (  'Open', 'SBILIFE.NS'),\n",
            "            ('Volume', 'SBILIFE.NS')],\n",
            "           names=['Price', 'Ticker'])\n",
            "MultiIndex([( 'Close', 'LODHA.NS'),\n",
            "            (  'High', 'LODHA.NS'),\n",
            "            (   'Low', 'LODHA.NS'),\n",
            "            (  'Open', 'LODHA.NS'),\n",
            "            ('Volume', 'LODHA.NS')],\n",
            "           names=['Price', 'Ticker'])\n"
          ]
        },
        {
          "output_type": "stream",
          "name": "stderr",
          "text": [
            "\n",
            "[*********************100%***********************]  1 of 1 completed\n"
          ]
        },
        {
          "output_type": "stream",
          "name": "stdout",
          "text": [
            "MultiIndex([( 'Close', 'TATAPOWER.NS'),\n",
            "            (  'High', 'TATAPOWER.NS'),\n",
            "            (   'Low', 'TATAPOWER.NS'),\n",
            "            (  'Open', 'TATAPOWER.NS'),\n",
            "            ('Volume', 'TATAPOWER.NS')],\n",
            "           names=['Price', 'Ticker'])\n",
            "MultiIndex([( 'Close', 'BANKBARODA.NS'),\n",
            "            (  'High', 'BANKBARODA.NS'),\n",
            "            (   'Low', 'BANKBARODA.NS'),\n",
            "            (  'Open', 'BANKBARODA.NS'),\n",
            "            ('Volume', 'BANKBARODA.NS')],\n",
            "           names=['Price', 'Ticker'])\n"
          ]
        },
        {
          "output_type": "stream",
          "name": "stderr",
          "text": [
            "[*********************100%***********************]  1 of 1 completed\n",
            "[*********************100%***********************]  1 of 1 completed\n"
          ]
        },
        {
          "output_type": "stream",
          "name": "stdout",
          "text": [
            "MultiIndex([( 'Close', 'GAIL.NS'),\n",
            "            (  'High', 'GAIL.NS'),\n",
            "            (   'Low', 'GAIL.NS'),\n",
            "            (  'Open', 'GAIL.NS'),\n",
            "            ('Volume', 'GAIL.NS')],\n",
            "           names=['Price', 'Ticker'])\n",
            "MultiIndex([( 'Close', 'PNB.NS'),\n",
            "            (  'High', 'PNB.NS'),\n",
            "            (   'Low', 'PNB.NS'),\n",
            "            (  'Open', 'PNB.NS'),\n",
            "            ('Volume', 'PNB.NS')],\n",
            "           names=['Price', 'Ticker'])\n"
          ]
        },
        {
          "output_type": "stream",
          "name": "stderr",
          "text": [
            "[*********************100%***********************]  1 of 1 completed\n",
            "[*********************100%***********************]  1 of 1 completed\n"
          ]
        },
        {
          "output_type": "stream",
          "name": "stdout",
          "text": [
            "MultiIndex([( 'Close', 'TECHM.NS'),\n",
            "            (  'High', 'TECHM.NS'),\n",
            "            (   'Low', 'TECHM.NS'),\n",
            "            (  'Open', 'TECHM.NS'),\n",
            "            ('Volume', 'TECHM.NS')],\n",
            "           names=['Price', 'Ticker'])\n",
            "MultiIndex([( 'Close', 'BRITANNIA.NS'),\n",
            "            (  'High', 'BRITANNIA.NS'),\n",
            "            (   'Low', 'BRITANNIA.NS'),\n",
            "            (  'Open', 'BRITANNIA.NS'),\n",
            "            ('Volume', 'BRITANNIA.NS')],\n",
            "           names=['Price', 'Ticker'])\n"
          ]
        },
        {
          "output_type": "stream",
          "name": "stderr",
          "text": [
            "[*********************100%***********************]  1 of 1 completed\n",
            "[*********************100%***********************]  1 of 1 completed\n"
          ]
        },
        {
          "output_type": "stream",
          "name": "stdout",
          "text": [
            "MultiIndex([( 'Close', 'RECLTD.NS'),\n",
            "            (  'High', 'RECLTD.NS'),\n",
            "            (   'Low', 'RECLTD.NS'),\n",
            "            (  'Open', 'RECLTD.NS'),\n",
            "            ('Volume', 'RECLTD.NS')],\n",
            "           names=['Price', 'Ticker'])\n",
            "MultiIndex([( 'Close', 'EICHERMOT.NS'),\n",
            "            (  'High', 'EICHERMOT.NS'),\n",
            "            (   'Low', 'EICHERMOT.NS'),\n",
            "            (  'Open', 'EICHERMOT.NS'),\n",
            "            ('Volume', 'EICHERMOT.NS')],\n",
            "           names=['Price', 'Ticker'])\n"
          ]
        },
        {
          "output_type": "stream",
          "name": "stderr",
          "text": [
            "[*********************100%***********************]  1 of 1 completed\n",
            "[*********************100%***********************]  1 of 1 completed\n"
          ]
        },
        {
          "output_type": "stream",
          "name": "stdout",
          "text": [
            "MultiIndex([( 'Close', 'BPCL.NS'),\n",
            "            (  'High', 'BPCL.NS'),\n",
            "            (   'Low', 'BPCL.NS'),\n",
            "            (  'Open', 'BPCL.NS'),\n",
            "            ('Volume', 'BPCL.NS')],\n",
            "           names=['Price', 'Ticker'])\n",
            "MultiIndex([( 'Close', 'HDFCLIFE.NS'),\n",
            "            (  'High', 'HDFCLIFE.NS'),\n",
            "            (   'Low', 'HDFCLIFE.NS'),\n",
            "            (  'Open', 'HDFCLIFE.NS'),\n",
            "            ('Volume', 'HDFCLIFE.NS')],\n",
            "           names=['Price', 'Ticker'])\n"
          ]
        },
        {
          "output_type": "stream",
          "name": "stderr",
          "text": [
            "[*********************100%***********************]  1 of 1 completed\n",
            "[*********************100%***********************]  1 of 1 completed\n"
          ]
        },
        {
          "output_type": "stream",
          "name": "stdout",
          "text": [
            "MultiIndex([( 'Close', 'CIPLA.NS'),\n",
            "            (  'High', 'CIPLA.NS'),\n",
            "            (   'Low', 'CIPLA.NS'),\n",
            "            (  'Open', 'CIPLA.NS'),\n",
            "            ('Volume', 'CIPLA.NS')],\n",
            "           names=['Price', 'Ticker'])\n",
            "MultiIndex([( 'Close', 'DIVISLAB.NS'),\n",
            "            (  'High', 'DIVISLAB.NS'),\n",
            "            (   'Low', 'DIVISLAB.NS'),\n",
            "            (  'Open', 'DIVISLAB.NS'),\n",
            "            ('Volume', 'DIVISLAB.NS')],\n",
            "           names=['Price', 'Ticker'])\n"
          ]
        },
        {
          "output_type": "stream",
          "name": "stderr",
          "text": [
            "[*********************100%***********************]  1 of 1 completed\n",
            "[*********************100%***********************]  1 of 1 completed\n"
          ]
        },
        {
          "output_type": "stream",
          "name": "stdout",
          "text": [
            "MultiIndex([( 'Close', 'HAVELLS.NS'),\n",
            "            (  'High', 'HAVELLS.NS'),\n",
            "            (   'Low', 'HAVELLS.NS'),\n",
            "            (  'Open', 'HAVELLS.NS'),\n",
            "            ('Volume', 'HAVELLS.NS')],\n",
            "           names=['Price', 'Ticker'])\n",
            "MultiIndex([( 'Close', 'INDUSINDBK.NS'),\n",
            "            (  'High', 'INDUSINDBK.NS'),\n",
            "            (   'Low', 'INDUSINDBK.NS'),\n",
            "            (  'Open', 'INDUSINDBK.NS'),\n",
            "            ('Volume', 'INDUSINDBK.NS')],\n",
            "           names=['Price', 'Ticker'])\n"
          ]
        },
        {
          "output_type": "stream",
          "name": "stderr",
          "text": [
            "[*********************100%***********************]  1 of 1 completed\n",
            "[*********************100%***********************]  1 of 1 completed\n",
            "[*********************100%***********************]  1 of 1 completed\n"
          ]
        },
        {
          "output_type": "stream",
          "name": "stdout",
          "text": [
            "MultiIndex([( 'Close', 'TVSMOTOR.NS'),\n",
            "            (  'High', 'TVSMOTOR.NS'),\n",
            "            (   'Low', 'TVSMOTOR.NS'),\n",
            "            (  'Open', 'TVSMOTOR.NS'),\n",
            "            ('Volume', 'TVSMOTOR.NS')],\n",
            "           names=['Price', 'Ticker'])\n",
            "MultiIndex([( 'Close', 'ADANIENSOL.NS'),\n",
            "            (  'High', 'ADANIENSOL.NS'),\n",
            "            (   'Low', 'ADANIENSOL.NS'),\n",
            "            (  'Open', 'ADANIENSOL.NS'),\n",
            "            ('Volume', 'ADANIENSOL.NS')],\n",
            "           names=['Price', 'Ticker'])\n",
            "MultiIndex([( 'Close', 'CHOLAFIN.NS'),\n",
            "            (  'High', 'CHOLAFIN.NS'),\n",
            "            (   'Low', 'CHOLAFIN.NS'),\n",
            "            (  'Open', 'CHOLAFIN.NS'),\n",
            "            ('Volume', 'CHOLAFIN.NS')],\n",
            "           names=['Price', 'Ticker'])\n"
          ]
        },
        {
          "output_type": "stream",
          "name": "stderr",
          "text": [
            "[*********************100%***********************]  1 of 1 completed\n",
            "[*********************100%***********************]  1 of 1 completed\n"
          ]
        },
        {
          "output_type": "stream",
          "name": "stdout",
          "text": [
            "MultiIndex([( 'Close', 'UNIONBANK.NS'),\n",
            "            (  'High', 'UNIONBANK.NS'),\n",
            "            (   'Low', 'UNIONBANK.NS'),\n",
            "            (  'Open', 'UNIONBANK.NS'),\n",
            "            ('Volume', 'UNIONBANK.NS')],\n",
            "           names=['Price', 'Ticker'])\n",
            "MultiIndex([( 'Close', 'HEROMOTOCO.NS'),\n",
            "            (  'High', 'HEROMOTOCO.NS'),\n",
            "            (   'Low', 'HEROMOTOCO.NS'),\n",
            "            (  'Open', 'HEROMOTOCO.NS'),\n",
            "            ('Volume', 'HEROMOTOCO.NS')],\n",
            "           names=['Price', 'Ticker'])\n"
          ]
        },
        {
          "output_type": "stream",
          "name": "stderr",
          "text": [
            "[*********************100%***********************]  1 of 1 completed\n",
            "[*********************100%***********************]  1 of 1 completed\n"
          ]
        },
        {
          "output_type": "stream",
          "name": "stdout",
          "text": [
            "MultiIndex([( 'Close', 'JSWENERGY.NS'),\n",
            "            (  'High', 'JSWENERGY.NS'),\n",
            "            (   'Low', 'JSWENERGY.NS'),\n",
            "            (  'Open', 'JSWENERGY.NS'),\n",
            "            ('Volume', 'JSWENERGY.NS')],\n",
            "           names=['Price', 'Ticker'])\n",
            "MultiIndex([( 'Close', 'DABUR.NS'),\n",
            "            (  'High', 'DABUR.NS'),\n",
            "            (   'Low', 'DABUR.NS'),\n",
            "            (  'Open', 'DABUR.NS'),\n",
            "            ('Volume', 'DABUR.NS')],\n",
            "           names=['Price', 'Ticker'])\n"
          ]
        },
        {
          "output_type": "stream",
          "name": "stderr",
          "text": [
            "[*********************100%***********************]  1 of 1 completed\n",
            "[*********************100%***********************]  1 of 1 completed\n",
            "[*********************100%***********************]  1 of 1 completed"
          ]
        },
        {
          "output_type": "stream",
          "name": "stdout",
          "text": [
            "MultiIndex([( 'Close', 'TATACONSUM.NS'),\n",
            "            (  'High', 'TATACONSUM.NS'),\n",
            "            (   'Low', 'TATACONSUM.NS'),\n",
            "            (  'Open', 'TATACONSUM.NS'),\n",
            "            ('Volume', 'TATACONSUM.NS')],\n",
            "           names=['Price', 'Ticker'])\n",
            "MultiIndex([( 'Close', 'CANBK.NS'),\n",
            "            (  'High', 'CANBK.NS'),\n",
            "            (   'Low', 'CANBK.NS'),\n",
            "            (  'Open', 'CANBK.NS'),\n",
            "            ('Volume', 'CANBK.NS')],\n",
            "           names=['Price', 'Ticker'])\n"
          ]
        },
        {
          "output_type": "stream",
          "name": "stderr",
          "text": [
            "\n",
            "[*********************100%***********************]  1 of 1 completed\n"
          ]
        },
        {
          "output_type": "stream",
          "name": "stdout",
          "text": [
            "MultiIndex([( 'Close', 'ATGL.NS'),\n",
            "            (  'High', 'ATGL.NS'),\n",
            "            (   'Low', 'ATGL.NS'),\n",
            "            (  'Open', 'ATGL.NS'),\n",
            "            ('Volume', 'ATGL.NS')],\n",
            "           names=['Price', 'Ticker'])\n",
            "MultiIndex([( 'Close', 'ZYDUSLIFE.NS'),\n",
            "            (  'High', 'ZYDUSLIFE.NS'),\n",
            "            (   'Low', 'ZYDUSLIFE.NS'),\n",
            "            (  'Open', 'ZYDUSLIFE.NS'),\n",
            "            ('Volume', 'ZYDUSLIFE.NS')],\n",
            "           names=['Price', 'Ticker'])\n"
          ]
        },
        {
          "output_type": "stream",
          "name": "stderr",
          "text": [
            "[*********************100%***********************]  1 of 1 completed\n",
            "[*********************100%***********************]  1 of 1 completed\n",
            "[*********************100%***********************]  1 of 1 completed\n"
          ]
        },
        {
          "output_type": "stream",
          "name": "stdout",
          "text": [
            "MultiIndex([( 'Close', 'MOTHERSON.NS'),\n",
            "            (  'High', 'MOTHERSON.NS'),\n",
            "            (   'Low', 'MOTHERSON.NS'),\n",
            "            (  'Open', 'MOTHERSON.NS'),\n",
            "            ('Volume', 'MOTHERSON.NS')],\n",
            "           names=['Price', 'Ticker'])\n",
            "MultiIndex([( 'Close', 'IDEA.NS'),\n",
            "            (  'High', 'IDEA.NS'),\n",
            "            (   'Low', 'IDEA.NS'),\n",
            "            (  'Open', 'IDEA.NS'),\n",
            "            ('Volume', 'IDEA.NS')],\n",
            "           names=['Price', 'Ticker'])\n",
            "MultiIndex([( 'Close', 'JINDALSTEL.NS'),\n",
            "            (  'High', 'JINDALSTEL.NS'),\n",
            "            (   'Low', 'JINDALSTEL.NS'),\n",
            "            (  'Open', 'JINDALSTEL.NS'),\n",
            "            ('Volume', 'JINDALSTEL.NS')],\n",
            "           names=['Price', 'Ticker'])\n"
          ]
        },
        {
          "output_type": "stream",
          "name": "stderr",
          "text": [
            "[*********************100%***********************]  1 of 1 completed\n",
            "[*********************100%***********************]  1 of 1 completed\n",
            "[*********************100%***********************]  1 of 1 completed\n"
          ]
        },
        {
          "output_type": "stream",
          "name": "stdout",
          "text": [
            "MultiIndex([( 'Close', 'NHPC.NS'),\n",
            "            (  'High', 'NHPC.NS'),\n",
            "            (   'Low', 'NHPC.NS'),\n",
            "            (  'Open', 'NHPC.NS'),\n",
            "            ('Volume', 'NHPC.NS')],\n",
            "           names=['Price', 'Ticker'])\n",
            "MultiIndex([( 'Close', 'POLYCAB.NS'),\n",
            "            (  'High', 'POLYCAB.NS'),\n",
            "            (   'Low', 'POLYCAB.NS'),\n",
            "            (  'Open', 'POLYCAB.NS'),\n",
            "            ('Volume', 'POLYCAB.NS')],\n",
            "           names=['Price', 'Ticker'])\n",
            "MultiIndex([( 'Close', 'CGPOWER.NS'),\n",
            "            (  'High', 'CGPOWER.NS'),\n",
            "            (   'Low', 'CGPOWER.NS'),\n",
            "            (  'Open', 'CGPOWER.NS'),\n",
            "            ('Volume', 'CGPOWER.NS')],\n",
            "           names=['Price', 'Ticker'])\n"
          ]
        },
        {
          "output_type": "stream",
          "name": "stderr",
          "text": [
            "[*********************100%***********************]  1 of 1 completed\n",
            "[*********************100%***********************]  1 of 1 completed\n",
            "[*********************100%***********************]  1 of 1 completed"
          ]
        },
        {
          "output_type": "stream",
          "name": "stdout",
          "text": [
            "MultiIndex([( 'Close', 'DRREDDY.NS'),\n",
            "            (  'High', 'DRREDDY.NS'),\n",
            "            (   'Low', 'DRREDDY.NS'),\n",
            "            (  'Open', 'DRREDDY.NS'),\n",
            "            ('Volume', 'DRREDDY.NS')],\n",
            "           names=['Price', 'Ticker'])\n",
            "MultiIndex([( 'Close', 'CUMMINSIND.NS'),\n",
            "            (  'High', 'CUMMINSIND.NS'),\n",
            "            (   'Low', 'CUMMINSIND.NS'),\n",
            "            (  'Open', 'CUMMINSIND.NS'),\n",
            "            ('Volume', 'CUMMINSIND.NS')],\n",
            "           names=['Price', 'Ticker'])\n"
          ]
        },
        {
          "output_type": "stream",
          "name": "stderr",
          "text": [
            "\n",
            "[*********************100%***********************]  1 of 1 completed\n"
          ]
        },
        {
          "output_type": "stream",
          "name": "stdout",
          "text": [
            "MultiIndex([( 'Close', 'BHEL.NS'),\n",
            "            (  'High', 'BHEL.NS'),\n",
            "            (   'Low', 'BHEL.NS'),\n",
            "            (  'Open', 'BHEL.NS'),\n",
            "            ('Volume', 'BHEL.NS')],\n",
            "           names=['Price', 'Ticker'])\n",
            "MultiIndex([( 'Close', 'TORNTPHARM.NS'),\n",
            "            (  'High', 'TORNTPHARM.NS'),\n",
            "            (   'Low', 'TORNTPHARM.NS'),\n",
            "            (  'Open', 'TORNTPHARM.NS'),\n",
            "            ('Volume', 'TORNTPHARM.NS')],\n",
            "           names=['Price', 'Ticker'])\n"
          ]
        },
        {
          "output_type": "stream",
          "name": "stderr",
          "text": [
            "[*********************100%***********************]  1 of 1 completed\n",
            "[*********************100%***********************]  1 of 1 completed\n",
            "[*********************100%***********************]  1 of 1 completed\n"
          ]
        },
        {
          "output_type": "stream",
          "name": "stdout",
          "text": [
            "MultiIndex([( 'Close', 'SHREECEM.NS'),\n",
            "            (  'High', 'SHREECEM.NS'),\n",
            "            (   'Low', 'SHREECEM.NS'),\n",
            "            (  'Open', 'SHREECEM.NS'),\n",
            "            ('Volume', 'SHREECEM.NS')],\n",
            "           names=['Price', 'Ticker'])\n",
            "MultiIndex([( 'Close', 'SHRIRAMFIN.NS'),\n",
            "            (  'High', 'SHRIRAMFIN.NS'),\n",
            "            (   'Low', 'SHRIRAMFIN.NS'),\n",
            "            (  'Open', 'SHRIRAMFIN.NS'),\n",
            "            ('Volume', 'SHRIRAMFIN.NS')],\n",
            "           names=['Price', 'Ticker'])\n",
            "MultiIndex([( 'Close', 'INDUSTOWER.NS'),\n",
            "            (  'High', 'INDUSTOWER.NS'),\n",
            "            (   'Low', 'INDUSTOWER.NS'),\n",
            "            (  'Open', 'INDUSTOWER.NS'),\n",
            "            ('Volume', 'INDUSTOWER.NS')],\n",
            "           names=['Price', 'Ticker'])\n"
          ]
        },
        {
          "output_type": "stream",
          "name": "stderr",
          "text": [
            "[*********************100%***********************]  1 of 1 completed\n",
            "[*********************100%***********************]  1 of 1 completed\n",
            "[*********************100%***********************]  1 of 1 completed\n"
          ]
        },
        {
          "output_type": "stream",
          "name": "stdout",
          "text": [
            "MultiIndex([( 'Close', 'BAJAJHLDNG.NS'),\n",
            "            (  'High', 'BAJAJHLDNG.NS'),\n",
            "            (   'Low', 'BAJAJHLDNG.NS'),\n",
            "            (  'Open', 'BAJAJHLDNG.NS'),\n",
            "            ('Volume', 'BAJAJHLDNG.NS')],\n",
            "           names=['Price', 'Ticker'])\n",
            "MultiIndex([( 'Close', 'IDBI.NS'),\n",
            "            (  'High', 'IDBI.NS'),\n",
            "            (   'Low', 'IDBI.NS'),\n",
            "            (  'Open', 'IDBI.NS'),\n",
            "            ('Volume', 'IDBI.NS')],\n",
            "           names=['Price', 'Ticker'])\n"
          ]
        },
        {
          "output_type": "stream",
          "name": "stderr",
          "text": [
            "[*********************100%***********************]  1 of 1 completed\n",
            "[*********************100%***********************]  1 of 1 completed\n"
          ]
        },
        {
          "output_type": "stream",
          "name": "stdout",
          "text": [
            "MultiIndex([( 'Close', 'BOSCHLTD.NS'),\n",
            "            (  'High', 'BOSCHLTD.NS'),\n",
            "            (   'Low', 'BOSCHLTD.NS'),\n",
            "            (  'Open', 'BOSCHLTD.NS'),\n",
            "            ('Volume', 'BOSCHLTD.NS')],\n",
            "           names=['Price', 'Ticker'])\n",
            "MultiIndex([( 'Close', 'APOLLOHOSP.NS'),\n",
            "            (  'High', 'APOLLOHOSP.NS'),\n",
            "            (   'Low', 'APOLLOHOSP.NS'),\n",
            "            (  'Open', 'APOLLOHOSP.NS'),\n",
            "            ('Volume', 'APOLLOHOSP.NS')],\n",
            "           names=['Price', 'Ticker'])\n",
            "MultiIndex([( 'Close', 'MANKIND.NS'),\n",
            "            (  'High', 'MANKIND.NS'),\n",
            "            (   'Low', 'MANKIND.NS'),\n",
            "            (  'Open', 'MANKIND.NS'),\n",
            "            ('Volume', 'MANKIND.NS')],\n",
            "           names=['Price', 'Ticker'])\n"
          ]
        },
        {
          "output_type": "stream",
          "name": "stderr",
          "text": [
            "[*********************100%***********************]  1 of 1 completed\n",
            "[*********************100%***********************]  1 of 1 completed\n"
          ]
        },
        {
          "output_type": "stream",
          "name": "stdout",
          "text": [
            "MultiIndex([( 'Close', 'MARICO.NS'),\n",
            "            (  'High', 'MARICO.NS'),\n",
            "            (   'Low', 'MARICO.NS'),\n",
            "            (  'Open', 'MARICO.NS'),\n",
            "            ('Volume', 'MARICO.NS')],\n",
            "           names=['Price', 'Ticker'])\n",
            "MultiIndex([( 'Close', 'INDHOTEL.NS'),\n",
            "            (  'High', 'INDHOTEL.NS'),\n",
            "            (   'Low', 'INDHOTEL.NS'),\n",
            "            (  'Open', 'INDHOTEL.NS'),\n",
            "            ('Volume', 'INDHOTEL.NS')],\n",
            "           names=['Price', 'Ticker'])\n"
          ]
        },
        {
          "output_type": "stream",
          "name": "stderr",
          "text": [
            "[*********************100%***********************]  1 of 1 completed\n",
            "[*********************100%***********************]  1 of 1 completed\n",
            "[*********************100%***********************]  1 of 1 completed\n"
          ]
        },
        {
          "output_type": "stream",
          "name": "stdout",
          "text": [
            "MultiIndex([( 'Close', 'ICICIPRULI.NS'),\n",
            "            (  'High', 'ICICIPRULI.NS'),\n",
            "            (   'Low', 'ICICIPRULI.NS'),\n",
            "            (  'Open', 'ICICIPRULI.NS'),\n",
            "            ('Volume', 'ICICIPRULI.NS')],\n",
            "           names=['Price', 'Ticker'])\n",
            "MultiIndex([( 'Close', 'HDFCAMC.NS'),\n",
            "            (  'High', 'HDFCAMC.NS'),\n",
            "            (   'Low', 'HDFCAMC.NS'),\n",
            "            (  'Open', 'HDFCAMC.NS'),\n",
            "            ('Volume', 'HDFCAMC.NS')],\n",
            "           names=['Price', 'Ticker'])\n",
            "MultiIndex([( 'Close', 'ICICIGI.NS'),\n",
            "            (  'High', 'ICICIGI.NS'),\n",
            "            (   'Low', 'ICICIGI.NS'),\n",
            "            (  'Open', 'ICICIGI.NS'),\n",
            "            ('Volume', 'ICICIGI.NS')],\n",
            "           names=['Price', 'Ticker'])\n"
          ]
        },
        {
          "output_type": "stream",
          "name": "stderr",
          "text": [
            "[*********************100%***********************]  1 of 1 completed\n",
            "[*********************100%***********************]  1 of 1 completed\n"
          ]
        },
        {
          "output_type": "stream",
          "name": "stdout",
          "text": [
            "MultiIndex([( 'Close', 'COLPAL.NS'),\n",
            "            (  'High', 'COLPAL.NS'),\n",
            "            (   'Low', 'COLPAL.NS'),\n",
            "            (  'Open', 'COLPAL.NS'),\n",
            "            ('Volume', 'COLPAL.NS')],\n",
            "           names=['Price', 'Ticker'])\n",
            "MultiIndex([( 'Close', 'NAUKRI.NS'),\n",
            "            (  'High', 'NAUKRI.NS'),\n",
            "            (   'Low', 'NAUKRI.NS'),\n",
            "            (  'Open', 'NAUKRI.NS'),\n",
            "            ('Volume', 'NAUKRI.NS')],\n",
            "           names=['Price', 'Ticker'])\n"
          ]
        },
        {
          "output_type": "stream",
          "name": "stderr",
          "text": [
            "[*********************100%***********************]  1 of 1 completed\n",
            "[*********************100%***********************]  1 of 1 completed\n",
            "[*********************100%***********************]  1 of 1 completed\n"
          ]
        },
        {
          "output_type": "stream",
          "name": "stdout",
          "text": [
            "MultiIndex([( 'Close', 'MAXHEALTH.NS'),\n",
            "            (  'High', 'MAXHEALTH.NS'),\n",
            "            (   'Low', 'MAXHEALTH.NS'),\n",
            "            (  'Open', 'MAXHEALTH.NS'),\n",
            "            ('Volume', 'MAXHEALTH.NS')],\n",
            "           names=['Price', 'Ticker'])\n",
            "MultiIndex([( 'Close', 'GODREJPROP.NS'),\n",
            "            (  'High', 'GODREJPROP.NS'),\n",
            "            (   'Low', 'GODREJPROP.NS'),\n",
            "            (  'Open', 'GODREJPROP.NS'),\n",
            "            ('Volume', 'GODREJPROP.NS')],\n",
            "           names=['Price', 'Ticker'])\n",
            "MultiIndex([( 'Close', 'IRCTC.NS'),\n",
            "            (  'High', 'IRCTC.NS'),\n",
            "            (   'Low', 'IRCTC.NS'),\n",
            "            (  'Open', 'IRCTC.NS'),\n",
            "            ('Volume', 'IRCTC.NS')],\n",
            "           names=['Price', 'Ticker'])\n"
          ]
        },
        {
          "output_type": "stream",
          "name": "stderr",
          "text": [
            "[*********************100%***********************]  1 of 1 completed\n",
            "[*********************100%***********************]  1 of 1 completed\n"
          ]
        },
        {
          "output_type": "stream",
          "name": "stdout",
          "text": [
            "MultiIndex([( 'Close', 'RVNL.NS'),\n",
            "            (  'High', 'RVNL.NS'),\n",
            "            (   'Low', 'RVNL.NS'),\n",
            "            (  'Open', 'RVNL.NS'),\n",
            "            ('Volume', 'RVNL.NS')],\n",
            "           names=['Price', 'Ticker'])\n",
            "MultiIndex([( 'Close', 'TIINDIA.NS'),\n",
            "            (  'High', 'TIINDIA.NS'),\n",
            "            (   'Low', 'TIINDIA.NS'),\n",
            "            (  'Open', 'TIINDIA.NS'),\n",
            "            ('Volume', 'TIINDIA.NS')],\n",
            "           names=['Price', 'Ticker'])\n"
          ]
        },
        {
          "output_type": "stream",
          "name": "stderr",
          "text": [
            "[*********************100%***********************]  1 of 1 completed\n",
            "[*********************100%***********************]  1 of 1 completed\n"
          ]
        },
        {
          "output_type": "stream",
          "name": "stdout",
          "text": [
            "MultiIndex([( 'Close', 'NMDC.NS'),\n",
            "            (  'High', 'NMDC.NS'),\n",
            "            (   'Low', 'NMDC.NS'),\n",
            "            (  'Open', 'NMDC.NS'),\n",
            "            ('Volume', 'NMDC.NS')],\n",
            "           names=['Price', 'Ticker'])\n",
            "MultiIndex([( 'Close', 'LUPIN.NS'),\n",
            "            (  'High', 'LUPIN.NS'),\n",
            "            (   'Low', 'LUPIN.NS'),\n",
            "            (  'Open', 'LUPIN.NS'),\n",
            "            ('Volume', 'LUPIN.NS')],\n",
            "           names=['Price', 'Ticker'])\n"
          ]
        },
        {
          "output_type": "stream",
          "name": "stderr",
          "text": [
            "[*********************100%***********************]  1 of 1 completed\n",
            "[*********************100%***********************]  1 of 1 completed\n"
          ]
        },
        {
          "output_type": "stream",
          "name": "stdout",
          "text": [
            "MultiIndex([( 'Close', 'HINDPETRO.NS'),\n",
            "            (  'High', 'HINDPETRO.NS'),\n",
            "            (   'Low', 'HINDPETRO.NS'),\n",
            "            (  'Open', 'HINDPETRO.NS'),\n",
            "            ('Volume', 'HINDPETRO.NS')],\n",
            "           names=['Price', 'Ticker'])\n",
            "MultiIndex([( 'Close', 'AUROPHARMA.NS'),\n",
            "            (  'High', 'AUROPHARMA.NS'),\n",
            "            (   'Low', 'AUROPHARMA.NS'),\n",
            "            (  'Open', 'AUROPHARMA.NS'),\n",
            "            ('Volume', 'AUROPHARMA.NS')],\n",
            "           names=['Price', 'Ticker'])\n"
          ]
        },
        {
          "output_type": "stream",
          "name": "stderr",
          "text": [
            "[*********************100%***********************]  1 of 1 completed\n",
            "[*********************100%***********************]  1 of 1 completed\n"
          ]
        },
        {
          "output_type": "stream",
          "name": "stdout",
          "text": [
            "MultiIndex([( 'Close', 'BHARATFORG.NS'),\n",
            "            (  'High', 'BHARATFORG.NS'),\n",
            "            (   'Low', 'BHARATFORG.NS'),\n",
            "            (  'Open', 'BHARATFORG.NS'),\n",
            "            ('Volume', 'BHARATFORG.NS')],\n",
            "           names=['Price', 'Ticker'])\n",
            "MultiIndex([( 'Close', 'SUPREMEIND.NS'),\n",
            "            (  'High', 'SUPREMEIND.NS'),\n",
            "            (   'Low', 'SUPREMEIND.NS'),\n",
            "            (  'Open', 'SUPREMEIND.NS'),\n",
            "            ('Volume', 'SUPREMEIND.NS')],\n",
            "           names=['Price', 'Ticker'])\n"
          ]
        },
        {
          "output_type": "stream",
          "name": "stderr",
          "text": [
            "[*********************100%***********************]  1 of 1 completed\n",
            "[*********************100%***********************]  1 of 1 completed\n",
            "[*********************100%***********************]  1 of 1 completed\n"
          ]
        },
        {
          "output_type": "stream",
          "name": "stdout",
          "text": [
            "MultiIndex([( 'Close', 'OFSS.NS'),\n",
            "            (  'High', 'OFSS.NS'),\n",
            "            (   'Low', 'OFSS.NS'),\n",
            "            (  'Open', 'OFSS.NS'),\n",
            "            ('Volume', 'OFSS.NS')],\n",
            "           names=['Price', 'Ticker'])\n",
            "MultiIndex([( 'Close', 'YESBANK.NS'),\n",
            "            (  'High', 'YESBANK.NS'),\n",
            "            (   'Low', 'YESBANK.NS'),\n",
            "            (  'Open', 'YESBANK.NS'),\n",
            "            ('Volume', 'YESBANK.NS')],\n",
            "           names=['Price', 'Ticker'])\n",
            "MultiIndex([( 'Close', 'INDIANB.NS'),\n",
            "            (  'High', 'INDIANB.NS'),\n",
            "            (   'Low', 'INDIANB.NS'),\n",
            "            (  'Open', 'INDIANB.NS'),\n",
            "            ('Volume', 'INDIANB.NS')],\n",
            "           names=['Price', 'Ticker'])\n"
          ]
        },
        {
          "output_type": "stream",
          "name": "stderr",
          "text": [
            "[*********************100%***********************]  1 of 1 completed\n",
            "[*********************100%***********************]  1 of 1 completed\n",
            "[*********************100%***********************]  1 of 1 completed\n"
          ]
        },
        {
          "output_type": "stream",
          "name": "stdout",
          "text": [
            "MultiIndex([( 'Close', 'TORNTPOWER.NS'),\n",
            "            (  'High', 'TORNTPOWER.NS'),\n",
            "            (   'Low', 'TORNTPOWER.NS'),\n",
            "            (  'Open', 'TORNTPOWER.NS'),\n",
            "            ('Volume', 'TORNTPOWER.NS')],\n",
            "           names=['Price', 'Ticker'])\n",
            "MultiIndex([( 'Close', 'PRESTIGE.NS'),\n",
            "            (  'High', 'PRESTIGE.NS'),\n",
            "            (   'Low', 'PRESTIGE.NS'),\n",
            "            (  'Open', 'PRESTIGE.NS'),\n",
            "            ('Volume', 'PRESTIGE.NS')],\n",
            "           names=['Price', 'Ticker'])\n",
            "MultiIndex([( 'Close', 'OBEROIRLTY.NS'),\n",
            "            (  'High', 'OBEROIRLTY.NS'),\n",
            "            (   'Low', 'OBEROIRLTY.NS'),\n",
            "            (  'Open', 'OBEROIRLTY.NS'),\n",
            "            ('Volume', 'OBEROIRLTY.NS')],\n",
            "           names=['Price', 'Ticker'])\n"
          ]
        },
        {
          "output_type": "stream",
          "name": "stderr",
          "text": [
            "[*********************100%***********************]  1 of 1 completed\n",
            "[*********************100%***********************]  1 of 1 completed\n"
          ]
        },
        {
          "output_type": "stream",
          "name": "stdout",
          "text": [
            "MultiIndex([( 'Close', 'SRF.NS'),\n",
            "            (  'High', 'SRF.NS'),\n",
            "            (   'Low', 'SRF.NS'),\n",
            "            (  'Open', 'SRF.NS'),\n",
            "            ('Volume', 'SRF.NS')],\n",
            "           names=['Price', 'Ticker'])\n",
            "MultiIndex([( 'Close', 'SBICARD.NS'),\n",
            "            (  'High', 'SBICARD.NS'),\n",
            "            (   'Low', 'SBICARD.NS'),\n",
            "            (  'Open', 'SBICARD.NS'),\n",
            "            ('Volume', 'SBICARD.NS')],\n",
            "           names=['Price', 'Ticker'])\n"
          ]
        },
        {
          "output_type": "stream",
          "name": "stderr",
          "text": [
            "[*********************100%***********************]  1 of 1 completed\n",
            "[*********************100%***********************]  1 of 1 completed\n",
            "[*********************100%***********************]  1 of 1 completed\n"
          ]
        },
        {
          "output_type": "stream",
          "name": "stdout",
          "text": [
            "MultiIndex([( 'Close', 'ASHOKLEY.NS'),\n",
            "            (  'High', 'ASHOKLEY.NS'),\n",
            "            (   'Low', 'ASHOKLEY.NS'),\n",
            "            (  'Open', 'ASHOKLEY.NS'),\n",
            "            ('Volume', 'ASHOKLEY.NS')],\n",
            "           names=['Price', 'Ticker'])\n",
            "MultiIndex([( 'Close', 'SUZLON.NS'),\n",
            "            (  'High', 'SUZLON.NS'),\n",
            "            (   'Low', 'SUZLON.NS'),\n",
            "            (  'Open', 'SUZLON.NS'),\n",
            "            ('Volume', 'SUZLON.NS')],\n",
            "           names=['Price', 'Ticker'])\n",
            "MultiIndex([( 'Close', 'OIL.NS'),\n",
            "            (  'High', 'OIL.NS'),\n",
            "            (   'Low', 'OIL.NS'),\n",
            "            (  'Open', 'OIL.NS'),\n",
            "            ('Volume', 'OIL.NS')],\n",
            "           names=['Price', 'Ticker'])\n"
          ]
        },
        {
          "output_type": "stream",
          "name": "stderr",
          "text": [
            "[*********************100%***********************]  1 of 1 completed\n",
            "[*********************100%***********************]  1 of 1 completed\n",
            "[*********************100%***********************]  1 of 1 completed"
          ]
        },
        {
          "output_type": "stream",
          "name": "stdout",
          "text": [
            "MultiIndex([( 'Close', 'CONCOR.NS'),\n",
            "            (  'High', 'CONCOR.NS'),\n",
            "            (   'Low', 'CONCOR.NS'),\n",
            "            (  'Open', 'CONCOR.NS'),\n",
            "            ('Volume', 'CONCOR.NS')],\n",
            "           names=['Price', 'Ticker'])\n",
            "MultiIndex([( 'Close', 'MAZDOCK.NS'),\n",
            "            (  'High', 'MAZDOCK.NS'),\n",
            "            (   'Low', 'MAZDOCK.NS'),\n",
            "            (  'Open', 'MAZDOCK.NS'),\n",
            "            ('Volume', 'MAZDOCK.NS')],\n",
            "           names=['Price', 'Ticker'])\n",
            "MultiIndex([( 'Close', 'SAIL.NS'),\n",
            "            (  'High', 'SAIL.NS'),\n",
            "            (   'Low', 'SAIL.NS'),\n",
            "            (  'Open', 'SAIL.NS'),\n",
            "            ('Volume', 'SAIL.NS')],\n",
            "           names=['Price', 'Ticker'])\n"
          ]
        },
        {
          "output_type": "stream",
          "name": "stderr",
          "text": [
            "\n",
            "[*********************100%***********************]  1 of 1 completed\n",
            "[*********************100%***********************]  1 of 1 completed\n",
            "[*********************100%***********************]  1 of 1 completed\n"
          ]
        },
        {
          "output_type": "stream",
          "name": "stdout",
          "text": [
            "MultiIndex([( 'Close', 'BALKRISIND.NS'),\n",
            "            (  'High', 'BALKRISIND.NS'),\n",
            "            (   'Low', 'BALKRISIND.NS'),\n",
            "            (  'Open', 'BALKRISIND.NS'),\n",
            "            ('Volume', 'BALKRISIND.NS')],\n",
            "           names=['Price', 'Ticker'])\n",
            "MultiIndex([( 'Close', 'ABCAPITAL.NS'),\n",
            "            (  'High', 'ABCAPITAL.NS'),\n",
            "            (   'Low', 'ABCAPITAL.NS'),\n",
            "            (  'Open', 'ABCAPITAL.NS'),\n",
            "            ('Volume', 'ABCAPITAL.NS')],\n",
            "           names=['Price', 'Ticker'])\n",
            "MultiIndex([( 'Close', 'DIXON.NS'),\n",
            "            (  'High', 'DIXON.NS'),\n",
            "            (   'Low', 'DIXON.NS'),\n",
            "            (  'Open', 'DIXON.NS'),\n",
            "            ('Volume', 'DIXON.NS')],\n",
            "           names=['Price', 'Ticker'])\n"
          ]
        },
        {
          "output_type": "stream",
          "name": "stderr",
          "text": [
            "[*********************100%***********************]  1 of 1 completed\n",
            "[*********************100%***********************]  1 of 1 completed\n",
            "[*********************100%***********************]  1 of 1 completed\n"
          ]
        },
        {
          "output_type": "stream",
          "name": "stdout",
          "text": [
            "MultiIndex([( 'Close', 'PERSISTENT.NS'),\n",
            "            (  'High', 'PERSISTENT.NS'),\n",
            "            (   'Low', 'PERSISTENT.NS'),\n",
            "            (  'Open', 'PERSISTENT.NS'),\n",
            "            ('Volume', 'PERSISTENT.NS')],\n",
            "           names=['Price', 'Ticker'])\n",
            "MultiIndex([( 'Close', 'ALKEM.NS'),\n",
            "            (  'High', 'ALKEM.NS'),\n",
            "            (   'Low', 'ALKEM.NS'),\n",
            "            (  'Open', 'ALKEM.NS'),\n",
            "            ('Volume', 'ALKEM.NS')],\n",
            "           names=['Price', 'Ticker'])\n",
            "MultiIndex([( 'Close', 'JSWINFRA.NS'),\n",
            "            (  'High', 'JSWINFRA.NS'),\n",
            "            (   'Low', 'JSWINFRA.NS'),\n",
            "            (  'Open', 'JSWINFRA.NS'),\n",
            "            ('Volume', 'JSWINFRA.NS')],\n",
            "           names=['Price', 'Ticker'])\n"
          ]
        },
        {
          "output_type": "stream",
          "name": "stderr",
          "text": [
            "[*********************100%***********************]  1 of 1 completed\n",
            "[*********************100%***********************]  1 of 1 completed\n"
          ]
        },
        {
          "output_type": "stream",
          "name": "stdout",
          "text": [
            "MultiIndex([( 'Close', 'POLICYBZR.NS'),\n",
            "            (  'High', 'POLICYBZR.NS'),\n",
            "            (   'Low', 'POLICYBZR.NS'),\n",
            "            (  'Open', 'POLICYBZR.NS'),\n",
            "            ('Volume', 'POLICYBZR.NS')],\n",
            "           names=['Price', 'Ticker'])\n",
            "MultiIndex([( 'Close', 'ASTRAL.NS'),\n",
            "            (  'High', 'ASTRAL.NS'),\n",
            "            (   'Low', 'ASTRAL.NS'),\n",
            "            (  'Open', 'ASTRAL.NS'),\n",
            "            ('Volume', 'ASTRAL.NS')],\n",
            "           names=['Price', 'Ticker'])\n"
          ]
        },
        {
          "output_type": "stream",
          "name": "stderr",
          "text": [
            "[*********************100%***********************]  1 of 1 completed\n",
            "[*********************100%***********************]  1 of 1 completed\n"
          ]
        },
        {
          "output_type": "stream",
          "name": "stdout",
          "text": [
            "MultiIndex([( 'Close', 'BERGEPAINT.NS'),\n",
            "            (  'High', 'BERGEPAINT.NS'),\n",
            "            (   'Low', 'BERGEPAINT.NS'),\n",
            "            (  'Open', 'BERGEPAINT.NS'),\n",
            "            ('Volume', 'BERGEPAINT.NS')],\n",
            "           names=['Price', 'Ticker'])\n",
            "MultiIndex([( 'Close', 'PIIND.NS'),\n",
            "            (  'High', 'PIIND.NS'),\n",
            "            (   'Low', 'PIIND.NS'),\n",
            "            (  'Open', 'PIIND.NS'),\n",
            "            ('Volume', 'PIIND.NS')],\n",
            "           names=['Price', 'Ticker'])\n"
          ]
        },
        {
          "output_type": "stream",
          "name": "stderr",
          "text": [
            "[*********************100%***********************]  1 of 1 completed\n",
            "[*********************100%***********************]  1 of 1 completed\n",
            "[*********************100%***********************]  1 of 1 completed\n"
          ]
        },
        {
          "output_type": "stream",
          "name": "stdout",
          "text": [
            "MultiIndex([( 'Close', 'BANKINDIA.NS'),\n",
            "            (  'High', 'BANKINDIA.NS'),\n",
            "            (   'Low', 'BANKINDIA.NS'),\n",
            "            (  'Open', 'BANKINDIA.NS'),\n",
            "            ('Volume', 'BANKINDIA.NS')],\n",
            "           names=['Price', 'Ticker'])\n",
            "MultiIndex([( 'Close', 'IDFCFIRSTB.NS'),\n",
            "            (  'High', 'IDFCFIRSTB.NS'),\n",
            "            (   'Low', 'IDFCFIRSTB.NS'),\n",
            "            (  'Open', 'IDFCFIRSTB.NS'),\n",
            "            ('Volume', 'IDFCFIRSTB.NS')],\n",
            "           names=['Price', 'Ticker'])\n",
            "MultiIndex([( 'Close', 'MRF.NS'),\n",
            "            (  'High', 'MRF.NS'),\n",
            "            (   'Low', 'MRF.NS'),\n",
            "            (  'Open', 'MRF.NS'),\n",
            "            ('Volume', 'MRF.NS')],\n",
            "           names=['Price', 'Ticker'])\n"
          ]
        },
        {
          "output_type": "stream",
          "name": "stderr",
          "text": [
            "[*********************100%***********************]  1 of 1 completed\n",
            "[*********************100%***********************]  1 of 1 completed\n"
          ]
        },
        {
          "output_type": "stream",
          "name": "stdout",
          "text": [
            "MultiIndex([( 'Close', 'BDL.NS'),\n",
            "            (  'High', 'BDL.NS'),\n",
            "            (   'Low', 'BDL.NS'),\n",
            "            (  'Open', 'BDL.NS'),\n",
            "            ('Volume', 'BDL.NS')],\n",
            "           names=['Price', 'Ticker'])\n",
            "MultiIndex([( 'Close', 'SJVN.NS'),\n",
            "            (  'High', 'SJVN.NS'),\n",
            "            (   'Low', 'SJVN.NS'),\n",
            "            (  'Open', 'SJVN.NS'),\n",
            "            ('Volume', 'SJVN.NS')],\n",
            "           names=['Price', 'Ticker'])\n"
          ]
        },
        {
          "output_type": "stream",
          "name": "stderr",
          "text": [
            "\r[*********************100%***********************]  1 of 1 completed\n",
            "ERROR:yfinance:\n",
            "1 Failed download:\n",
            "ERROR:yfinance:['GMRINFRA.NS']: YFTzMissingError('possibly delisted; no timezone found')\n",
            "[*********************100%***********************]  1 of 1 completed\n"
          ]
        },
        {
          "output_type": "stream",
          "name": "stdout",
          "text": [
            "MultiIndex([('Adj Close', 'GMRINFRA.NS'),\n",
            "            (    'Close', 'GMRINFRA.NS'),\n",
            "            (     'High', 'GMRINFRA.NS'),\n",
            "            (      'Low', 'GMRINFRA.NS'),\n",
            "            (     'Open', 'GMRINFRA.NS'),\n",
            "            (   'Volume', 'GMRINFRA.NS')],\n",
            "           names=['Price', 'Ticker'])\n",
            "MultiIndex([( 'Close', 'TATACOMM.NS'),\n",
            "            (  'High', 'TATACOMM.NS'),\n",
            "            (   'Low', 'TATACOMM.NS'),\n",
            "            (  'Open', 'TATACOMM.NS'),\n",
            "            ('Volume', 'TATACOMM.NS')],\n",
            "           names=['Price', 'Ticker'])\n"
          ]
        },
        {
          "output_type": "stream",
          "name": "stderr",
          "text": [
            "[*********************100%***********************]  1 of 1 completed\n",
            "[*********************100%***********************]  1 of 1 completed\n",
            "[*********************100%***********************]  1 of 1 completed\n"
          ]
        },
        {
          "output_type": "stream",
          "name": "stdout",
          "text": [
            "MultiIndex([( 'Close', 'PATANJALI.NS'),\n",
            "            (  'High', 'PATANJALI.NS'),\n",
            "            (   'Low', 'PATANJALI.NS'),\n",
            "            (  'Open', 'PATANJALI.NS'),\n",
            "            ('Volume', 'PATANJALI.NS')],\n",
            "           names=['Price', 'Ticker'])\n",
            "MultiIndex([( 'Close', 'LTTS.NS'),\n",
            "            (  'High', 'LTTS.NS'),\n",
            "            (   'Low', 'LTTS.NS'),\n",
            "            (  'Open', 'LTTS.NS'),\n",
            "            ('Volume', 'LTTS.NS')],\n",
            "           names=['Price', 'Ticker'])\n",
            "MultiIndex([( 'Close', 'AUBANK.NS'),\n",
            "            (  'High', 'AUBANK.NS'),\n",
            "            (   'Low', 'AUBANK.NS'),\n",
            "            (  'Open', 'AUBANK.NS'),\n",
            "            ('Volume', 'AUBANK.NS')],\n",
            "           names=['Price', 'Ticker'])\n"
          ]
        },
        {
          "output_type": "stream",
          "name": "stderr",
          "text": [
            "[*********************100%***********************]  1 of 1 completed\n",
            "[*********************100%***********************]  1 of 1 completed\n"
          ]
        },
        {
          "output_type": "stream",
          "name": "stdout",
          "text": [
            "MultiIndex([( 'Close', 'NYKAA.NS'),\n",
            "            (  'High', 'NYKAA.NS'),\n",
            "            (   'Low', 'NYKAA.NS'),\n",
            "            (  'Open', 'NYKAA.NS'),\n",
            "            ('Volume', 'NYKAA.NS')],\n",
            "           names=['Price', 'Ticker'])\n",
            "MultiIndex([( 'Close', 'VOLTAS.NS'),\n",
            "            (  'High', 'VOLTAS.NS'),\n",
            "            (   'Low', 'VOLTAS.NS'),\n",
            "            (  'Open', 'VOLTAS.NS'),\n",
            "            ('Volume', 'VOLTAS.NS')],\n",
            "           names=['Price', 'Ticker'])\n"
          ]
        },
        {
          "output_type": "stream",
          "name": "stderr",
          "text": [
            "[*********************100%***********************]  1 of 1 completed\n",
            "[*********************100%***********************]  1 of 1 completed\n"
          ]
        },
        {
          "output_type": "stream",
          "name": "stdout",
          "text": [
            "MultiIndex([( 'Close', 'MAHABANK.NS'),\n",
            "            (  'High', 'MAHABANK.NS'),\n",
            "            (   'Low', 'MAHABANK.NS'),\n",
            "            (  'Open', 'MAHABANK.NS'),\n",
            "            ('Volume', 'MAHABANK.NS')],\n",
            "           names=['Price', 'Ticker'])\n",
            "MultiIndex([( 'Close', 'ACC.NS'),\n",
            "            (  'High', 'ACC.NS'),\n",
            "            (   'Low', 'ACC.NS'),\n",
            "            (  'Open', 'ACC.NS'),\n",
            "            ('Volume', 'ACC.NS')],\n",
            "           names=['Price', 'Ticker'])\n"
          ]
        },
        {
          "output_type": "stream",
          "name": "stderr",
          "text": [
            "[*********************100%***********************]  1 of 1 completed\n",
            "[*********************100%***********************]  1 of 1 completed\n"
          ]
        },
        {
          "output_type": "stream",
          "name": "stdout",
          "text": [
            "MultiIndex([( 'Close', 'MPHASIS.NS'),\n",
            "            (  'High', 'MPHASIS.NS'),\n",
            "            (   'Low', 'MPHASIS.NS'),\n",
            "            (  'Open', 'MPHASIS.NS'),\n",
            "            ('Volume', 'MPHASIS.NS')],\n",
            "           names=['Price', 'Ticker'])\n",
            "MultiIndex([( 'Close', 'FACT.NS'),\n",
            "            (  'High', 'FACT.NS'),\n",
            "            (   'Low', 'FACT.NS'),\n",
            "            (  'Open', 'FACT.NS'),\n",
            "            ('Volume', 'FACT.NS')],\n",
            "           names=['Price', 'Ticker'])\n"
          ]
        },
        {
          "output_type": "stream",
          "name": "stderr",
          "text": [
            "[*********************100%***********************]  1 of 1 completed\n",
            "[*********************100%***********************]  1 of 1 completed\n",
            "[*********************100%***********************]  1 of 1 completed"
          ]
        },
        {
          "output_type": "stream",
          "name": "stdout",
          "text": [
            "MultiIndex([( 'Close', 'PETRONET.NS'),\n",
            "            (  'High', 'PETRONET.NS'),\n",
            "            (   'Low', 'PETRONET.NS'),\n",
            "            (  'Open', 'PETRONET.NS'),\n",
            "            ('Volume', 'PETRONET.NS')],\n",
            "           names=['Price', 'Ticker'])\n",
            "MultiIndex([( 'Close', 'APLAPOLLO.NS'),\n",
            "            (  'High', 'APLAPOLLO.NS'),\n",
            "            (   'Low', 'APLAPOLLO.NS'),\n",
            "            (  'Open', 'APLAPOLLO.NS'),\n",
            "            ('Volume', 'APLAPOLLO.NS')],\n",
            "           names=['Price', 'Ticker'])\n"
          ]
        },
        {
          "output_type": "stream",
          "name": "stderr",
          "text": [
            "\n",
            "[*********************100%***********************]  1 of 1 completed\n",
            "[*********************100%***********************]  1 of 1 completed"
          ]
        },
        {
          "output_type": "stream",
          "name": "stdout",
          "text": [
            "MultiIndex([( 'Close', 'TATAELXSI.NS'),\n",
            "            (  'High', 'TATAELXSI.NS'),\n",
            "            (   'Low', 'TATAELXSI.NS'),\n",
            "            (  'Open', 'TATAELXSI.NS'),\n",
            "            ('Volume', 'TATAELXSI.NS')],\n",
            "           names=['Price', 'Ticker'])\n",
            "MultiIndex([( 'Close', 'ESCORTS.NS'),\n",
            "            (  'High', 'ESCORTS.NS'),\n",
            "            (   'Low', 'ESCORTS.NS'),\n",
            "            (  'Open', 'ESCORTS.NS'),\n",
            "            ('Volume', 'ESCORTS.NS')],\n",
            "           names=['Price', 'Ticker'])\n"
          ]
        },
        {
          "output_type": "stream",
          "name": "stderr",
          "text": [
            "\n",
            "[*********************100%***********************]  1 of 1 completed\n",
            "[*********************100%***********************]  1 of 1 completed\n"
          ]
        },
        {
          "output_type": "stream",
          "name": "stdout",
          "text": [
            "MultiIndex([( 'Close', 'TATATECH.NS'),\n",
            "            (  'High', 'TATATECH.NS'),\n",
            "            (   'Low', 'TATATECH.NS'),\n",
            "            (  'Open', 'TATATECH.NS'),\n",
            "            ('Volume', 'TATATECH.NS')],\n",
            "           names=['Price', 'Ticker'])\n",
            "MultiIndex([( 'Close', 'PAGEIND.NS'),\n",
            "            (  'High', 'PAGEIND.NS'),\n",
            "            (   'Low', 'PAGEIND.NS'),\n",
            "            (  'Open', 'PAGEIND.NS'),\n",
            "            ('Volume', 'PAGEIND.NS')],\n",
            "           names=['Price', 'Ticker'])\n",
            "MultiIndex([( 'Close', 'KALYANKJIL.NS'),\n",
            "            (  'High', 'KALYANKJIL.NS'),\n",
            "            (   'Low', 'KALYANKJIL.NS'),\n",
            "            (  'Open', 'KALYANKJIL.NS'),\n",
            "            ('Volume', 'KALYANKJIL.NS')],\n",
            "           names=['Price', 'Ticker'])\n"
          ]
        },
        {
          "output_type": "stream",
          "name": "stderr",
          "text": [
            "[*********************100%***********************]  1 of 1 completed\n",
            "[*********************100%***********************]  1 of 1 completed\n",
            "[*********************100%***********************]  1 of 1 completed"
          ]
        },
        {
          "output_type": "stream",
          "name": "stdout",
          "text": [
            "MultiIndex([( 'Close', 'LTF.NS'),\n",
            "            (  'High', 'LTF.NS'),\n",
            "            (   'Low', 'LTF.NS'),\n",
            "            (  'Open', 'LTF.NS'),\n",
            "            ('Volume', 'LTF.NS')],\n",
            "           names=['Price', 'Ticker'])\n",
            "MultiIndex([( 'Close', 'KPITTECH.NS'),\n",
            "            (  'High', 'KPITTECH.NS'),\n",
            "            (   'Low', 'KPITTECH.NS'),\n",
            "            (  'Open', 'KPITTECH.NS'),\n",
            "            ('Volume', 'KPITTECH.NS')],\n",
            "           names=['Price', 'Ticker'])\n",
            "MultiIndex([( 'Close', 'UPL.NS'),\n",
            "            (  'High', 'UPL.NS'),\n",
            "            (   'Low', 'UPL.NS'),\n",
            "            (  'Open', 'UPL.NS'),\n",
            "            ('Volume', 'UPL.NS')],\n",
            "           names=['Price', 'Ticker'])\n"
          ]
        },
        {
          "output_type": "stream",
          "name": "stderr",
          "text": [
            "\n",
            "[*********************100%***********************]  1 of 1 completed\n",
            "[*********************100%***********************]  1 of 1 completed\n"
          ]
        },
        {
          "output_type": "stream",
          "name": "stdout",
          "text": [
            "MultiIndex([( 'Close', 'GUJGASLTD.NS'),\n",
            "            (  'High', 'GUJGASLTD.NS'),\n",
            "            (   'Low', 'GUJGASLTD.NS'),\n",
            "            (  'Open', 'GUJGASLTD.NS'),\n",
            "            ('Volume', 'GUJGASLTD.NS')],\n",
            "           names=['Price', 'Ticker'])\n",
            "MultiIndex([( 'Close', 'BIOCON.NS'),\n",
            "            (  'High', 'BIOCON.NS'),\n",
            "            (   'Low', 'BIOCON.NS'),\n",
            "            (  'Open', 'BIOCON.NS'),\n",
            "            ('Volume', 'BIOCON.NS')],\n",
            "           names=['Price', 'Ticker'])\n"
          ]
        },
        {
          "output_type": "stream",
          "name": "stderr",
          "text": [
            "[*********************100%***********************]  1 of 1 completed\n",
            "[*********************100%***********************]  1 of 1 completed\n",
            "[*********************100%***********************]  1 of 1 completed\n"
          ]
        },
        {
          "output_type": "stream",
          "name": "stdout",
          "text": [
            "MultiIndex([( 'Close', 'FEDERALBNK.NS'),\n",
            "            (  'High', 'FEDERALBNK.NS'),\n",
            "            (   'Low', 'FEDERALBNK.NS'),\n",
            "            (  'Open', 'FEDERALBNK.NS'),\n",
            "            ('Volume', 'FEDERALBNK.NS')],\n",
            "           names=['Price', 'Ticker'])\n",
            "MultiIndex([( 'Close', 'SONACOMS.NS'),\n",
            "            (  'High', 'SONACOMS.NS'),\n",
            "            (   'Low', 'SONACOMS.NS'),\n",
            "            (  'Open', 'SONACOMS.NS'),\n",
            "            ('Volume', 'SONACOMS.NS')],\n",
            "           names=['Price', 'Ticker'])\n",
            "MultiIndex([( 'Close', 'LICHSGFIN.NS'),\n",
            "            (  'High', 'LICHSGFIN.NS'),\n",
            "            (   'Low', 'LICHSGFIN.NS'),\n",
            "            (  'Open', 'LICHSGFIN.NS'),\n",
            "            ('Volume', 'LICHSGFIN.NS')],\n",
            "           names=['Price', 'Ticker'])\n"
          ]
        },
        {
          "output_type": "stream",
          "name": "stderr",
          "text": [
            "[*********************100%***********************]  1 of 1 completed\n",
            "[*********************100%***********************]  1 of 1 completed\n",
            "[*********************100%***********************]  1 of 1 completed\n"
          ]
        },
        {
          "output_type": "stream",
          "name": "stdout",
          "text": [
            "MultiIndex([( 'Close', 'BSE.NS'),\n",
            "            (  'High', 'BSE.NS'),\n",
            "            (   'Low', 'BSE.NS'),\n",
            "            (  'Open', 'BSE.NS'),\n",
            "            ('Volume', 'BSE.NS')],\n",
            "           names=['Price', 'Ticker'])\n",
            "MultiIndex([( 'Close', 'COFORGE.NS'),\n",
            "            (  'High', 'COFORGE.NS'),\n",
            "            (   'Low', 'COFORGE.NS'),\n",
            "            (  'Open', 'COFORGE.NS'),\n",
            "            ('Volume', 'COFORGE.NS')],\n",
            "           names=['Price', 'Ticker'])\n",
            "MultiIndex([( 'Close', 'POONAWALLA.NS'),\n",
            "            (  'High', 'POONAWALLA.NS'),\n",
            "            (   'Low', 'POONAWALLA.NS'),\n",
            "            (  'Open', 'POONAWALLA.NS'),\n",
            "            ('Volume', 'POONAWALLA.NS')],\n",
            "           names=['Price', 'Ticker'])\n"
          ]
        },
        {
          "output_type": "stream",
          "name": "stderr",
          "text": [
            "[*********************100%***********************]  1 of 1 completed\n",
            "[*********************100%***********************]  1 of 1 completed\n",
            "[*********************100%***********************]  1 of 1 completed\n"
          ]
        },
        {
          "output_type": "stream",
          "name": "stdout",
          "text": [
            "MultiIndex([( 'Close', 'FORTIS.NS'),\n",
            "            (  'High', 'FORTIS.NS'),\n",
            "            (   'Low', 'FORTIS.NS'),\n",
            "            (  'Open', 'FORTIS.NS'),\n",
            "            ('Volume', 'FORTIS.NS')],\n",
            "           names=['Price', 'Ticker'])\n",
            "MultiIndex([( 'Close', 'M&MFIN.NS'),\n",
            "            (  'High', 'M&MFIN.NS'),\n",
            "            (   'Low', 'M&MFIN.NS'),\n",
            "            (  'Open', 'M&MFIN.NS'),\n",
            "            ('Volume', 'M&MFIN.NS')],\n",
            "           names=['Price', 'Ticker'])\n",
            "MultiIndex([( 'Close', 'JUBLFOOD.NS'),\n",
            "            (  'High', 'JUBLFOOD.NS'),\n",
            "            (   'Low', 'JUBLFOOD.NS'),\n",
            "            (  'Open', 'JUBLFOOD.NS'),\n",
            "            ('Volume', 'JUBLFOOD.NS')],\n",
            "           names=['Price', 'Ticker'])\n"
          ]
        },
        {
          "output_type": "stream",
          "name": "stderr",
          "text": [
            "[*********************100%***********************]  1 of 1 completed\n",
            "[*********************100%***********************]  1 of 1 completed\n",
            "[*********************100%***********************]  1 of 1 completed\n"
          ]
        },
        {
          "output_type": "stream",
          "name": "stdout",
          "text": [
            "MultiIndex([( 'Close', 'DALBHARAT.NS'),\n",
            "            (  'High', 'DALBHARAT.NS'),\n",
            "            (   'Low', 'DALBHARAT.NS'),\n",
            "            (  'Open', 'DALBHARAT.NS'),\n",
            "            ('Volume', 'DALBHARAT.NS')],\n",
            "           names=['Price', 'Ticker'])\n",
            "MultiIndex([( 'Close', 'ABFRL.NS'),\n",
            "            (  'High', 'ABFRL.NS'),\n",
            "            (   'Low', 'ABFRL.NS'),\n",
            "            (  'Open', 'ABFRL.NS'),\n",
            "            ('Volume', 'ABFRL.NS')],\n",
            "           names=['Price', 'Ticker'])\n",
            "MultiIndex([( 'Close', 'IGL.NS'),\n",
            "            (  'High', 'IGL.NS'),\n",
            "            (   'Low', 'IGL.NS'),\n",
            "            (  'Open', 'IGL.NS'),\n",
            "            ('Volume', 'IGL.NS')],\n",
            "           names=['Price', 'Ticker'])\n"
          ]
        },
        {
          "output_type": "stream",
          "name": "stderr",
          "text": [
            "[*********************100%***********************]  1 of 1 completed\n",
            "[*********************100%***********************]  1 of 1 completed\n",
            "[*********************100%***********************]  1 of 1 completed\n"
          ]
        },
        {
          "output_type": "stream",
          "name": "stdout",
          "text": [
            "MultiIndex([( 'Close', 'MFSL.NS'),\n",
            "            (  'High', 'MFSL.NS'),\n",
            "            (   'Low', 'MFSL.NS'),\n",
            "            (  'Open', 'MFSL.NS'),\n",
            "            ('Volume', 'MFSL.NS')],\n",
            "           names=['Price', 'Ticker'])\n",
            "MultiIndex([( 'Close', 'BANDHANBNK.NS'),\n",
            "            (  'High', 'BANDHANBNK.NS'),\n",
            "            (   'Low', 'BANDHANBNK.NS'),\n",
            "            (  'Open', 'BANDHANBNK.NS'),\n",
            "            ('Volume', 'BANDHANBNK.NS')],\n",
            "           names=['Price', 'Ticker'])\n",
            "MultiIndex([( 'Close', 'DEEPAKNTR.NS'),\n",
            "            (  'High', 'DEEPAKNTR.NS'),\n",
            "            (   'Low', 'DEEPAKNTR.NS'),\n",
            "            (  'Open', 'DEEPAKNTR.NS'),\n",
            "            ('Volume', 'DEEPAKNTR.NS')],\n",
            "           names=['Price', 'Ticker'])\n"
          ]
        },
        {
          "output_type": "stream",
          "name": "stderr",
          "text": [
            "[*********************100%***********************]  1 of 1 completed\n",
            "[*********************100%***********************]  1 of 1 completed\n",
            "[*********************100%***********************]  1 of 1 completed\n"
          ]
        },
        {
          "output_type": "stream",
          "name": "stdout",
          "text": [
            "MultiIndex([( 'Close', 'APOLLOTYRE.NS'),\n",
            "            (  'High', 'APOLLOTYRE.NS'),\n",
            "            (   'Low', 'APOLLOTYRE.NS'),\n",
            "            (  'Open', 'APOLLOTYRE.NS'),\n",
            "            ('Volume', 'APOLLOTYRE.NS')],\n",
            "           names=['Price', 'Ticker'])\n",
            "MultiIndex([( 'Close', 'GLAND.NS'),\n",
            "            (  'High', 'GLAND.NS'),\n",
            "            (   'Low', 'GLAND.NS'),\n",
            "            (  'Open', 'GLAND.NS'),\n",
            "            ('Volume', 'GLAND.NS')],\n",
            "           names=['Price', 'Ticker'])\n",
            "MultiIndex([( 'Close', 'IPCALAB.NS'),\n",
            "            (  'High', 'IPCALAB.NS'),\n",
            "            (   'Low', 'IPCALAB.NS'),\n",
            "            (  'Open', 'IPCALAB.NS'),\n",
            "            ('Volume', 'IPCALAB.NS')],\n",
            "           names=['Price', 'Ticker'])\n"
          ]
        },
        {
          "output_type": "stream",
          "name": "stderr",
          "text": [
            "[*********************100%***********************]  1 of 1 completed\n",
            "[*********************100%***********************]  1 of 1 completed\n",
            "[*********************100%***********************]  1 of 1 completed\n"
          ]
        },
        {
          "output_type": "stream",
          "name": "stdout",
          "text": [
            "MultiIndex([( 'Close', 'DELHIVERY.NS'),\n",
            "            (  'High', 'DELHIVERY.NS'),\n",
            "            (   'Low', 'DELHIVERY.NS'),\n",
            "            (  'Open', 'DELHIVERY.NS'),\n",
            "            ('Volume', 'DELHIVERY.NS')],\n",
            "           names=['Price', 'Ticker'])\n",
            "MultiIndex([( 'Close', 'SUNTV.NS'),\n",
            "            (  'High', 'SUNTV.NS'),\n",
            "            (   'Low', 'SUNTV.NS'),\n",
            "            (  'Open', 'SUNTV.NS'),\n",
            "            ('Volume', 'SUNTV.NS')],\n",
            "           names=['Price', 'Ticker'])\n",
            "MultiIndex([( 'Close', 'SYNGENE.NS'),\n",
            "            (  'High', 'SYNGENE.NS'),\n",
            "            (   'Low', 'SYNGENE.NS'),\n",
            "            (  'Open', 'SYNGENE.NS'),\n",
            "            ('Volume', 'SYNGENE.NS')],\n",
            "           names=['Price', 'Ticker'])\n"
          ]
        },
        {
          "output_type": "stream",
          "name": "stderr",
          "text": [
            "[*********************100%***********************]  1 of 1 completed\n",
            "[*********************100%***********************]  1 of 1 completed\n",
            "[*********************100%***********************]  1 of 1 completed\n"
          ]
        },
        {
          "output_type": "stream",
          "name": "stdout",
          "text": [
            "MultiIndex([( 'Close', 'TATACHEM.NS'),\n",
            "            (  'High', 'TATACHEM.NS'),\n",
            "            (   'Low', 'TATACHEM.NS'),\n",
            "            (  'Open', 'TATACHEM.NS'),\n",
            "            ('Volume', 'TATACHEM.NS')],\n",
            "           names=['Price', 'Ticker'])\n",
            "MultiIndex([( 'Close', 'PAYTM.NS'),\n",
            "            (  'High', 'PAYTM.NS'),\n",
            "            (   'Low', 'PAYTM.NS'),\n",
            "            (  'Open', 'PAYTM.NS'),\n",
            "            ('Volume', 'PAYTM.NS')],\n",
            "           names=['Price', 'Ticker'])\n",
            "MultiIndex([( 'Close', 'LAURUSLABS.NS'),\n",
            "            (  'High', 'LAURUSLABS.NS'),\n",
            "            (   'Low', 'LAURUSLABS.NS'),\n",
            "            (  'Open', 'LAURUSLABS.NS'),\n",
            "            ('Volume', 'LAURUSLABS.NS')],\n",
            "           names=['Price', 'Ticker'])\n"
          ]
        },
        {
          "output_type": "stream",
          "name": "stderr",
          "text": [
            "[*********************100%***********************]  1 of 1 completed\n",
            "[*********************100%***********************]  1 of 1 completed\n"
          ]
        },
        {
          "output_type": "stream",
          "name": "stdout",
          "text": [
            "MultiIndex([( 'Close', 'LALPATHLAB.NS'),\n",
            "            (  'High', 'LALPATHLAB.NS'),\n",
            "            (   'Low', 'LALPATHLAB.NS'),\n",
            "            (  'Open', 'LALPATHLAB.NS'),\n",
            "            ('Volume', 'LALPATHLAB.NS')],\n",
            "           names=['Price', 'Ticker'])\n",
            "MultiIndex([( 'Close', 'PEL.NS'),\n",
            "            (  'High', 'PEL.NS'),\n",
            "            (   'Low', 'PEL.NS'),\n",
            "            (  'Open', 'PEL.NS'),\n",
            "            ('Volume', 'PEL.NS')],\n",
            "           names=['Price', 'Ticker'])\n"
          ]
        },
        {
          "output_type": "stream",
          "name": "stderr",
          "text": [
            "[*********************100%***********************]  1 of 1 completed\n",
            "[*********************100%***********************]  1 of 1 completed\n"
          ]
        },
        {
          "output_type": "stream",
          "name": "stdout",
          "text": [
            "MultiIndex([( 'Close', 'ZEEL.NS'),\n",
            "            (  'High', 'ZEEL.NS'),\n",
            "            (   'Low', 'ZEEL.NS'),\n",
            "            (  'Open', 'ZEEL.NS'),\n",
            "            ('Volume', 'ZEEL.NS')],\n",
            "           names=['Price', 'Ticker'])\n",
            "MultiIndex([( 'Close', 'UNITDSPR.NS'),\n",
            "            (  'High', 'UNITDSPR.NS'),\n",
            "            (   'Low', 'UNITDSPR.NS'),\n",
            "            (  'Open', 'UNITDSPR.NS'),\n",
            "            ('Volume', 'UNITDSPR.NS')],\n",
            "           names=['Price', 'Ticker'])\n",
            "Error analyzing RELIANCE.NS: 'Adj Close'\n",
            "Error analyzing TCS.NS: 'Adj Close'\n",
            "Error analyzing HDFCBANK.NS: 'Adj Close'\n",
            "Error analyzing BHARTIARTL.NS: 'Adj Close'\n",
            "Error analyzing ICICIBANK.NS: 'Adj Close'\n",
            "Error analyzing SBIN.NS: 'Adj Close'\n",
            "Error analyzing INFY.NS: 'Adj Close'\n",
            "Error analyzing LICI.NS: 'Adj Close'\n",
            "Error analyzing HINDUNILVR.NS: 'Adj Close'\n",
            "Error analyzing ITC.NS: 'Adj Close'\n",
            "Error analyzing LT.NS: 'Adj Close'\n",
            "Error analyzing BAJFINANCE.NS: 'Adj Close'\n",
            "Error analyzing MARUTI.NS: 'Adj Close'\n",
            "Error analyzing HCLTECH.NS: 'Adj Close'\n",
            "Error analyzing ADANIENT.NS: 'Adj Close'\n",
            "Error analyzing AXISBANK.NS: 'Adj Close'\n",
            "Error analyzing SUNPHARMA.NS: 'Adj Close'\n",
            "Error analyzing TATAMOTORS.NS: 'Adj Close'\n",
            "Error analyzing TATAMTRDVR.NS: 'Adj Close'\n",
            "Error analyzing M&M.NS: 'Adj Close'\n",
            "Error analyzing NTPC.NS: 'Adj Close'\n",
            "Error analyzing KOTAKBANK.NS: 'Adj Close'\n",
            "Error analyzing ONGC.NS: 'Adj Close'\n",
            "Error analyzing HAL.NS: 'Adj Close'\n",
            "Error analyzing DMART.NS: 'Adj Close'\n",
            "Error analyzing TITAN.NS: 'Adj Close'\n",
            "Error analyzing ULTRACEMCO.NS: 'Adj Close'\n",
            "Error analyzing ADANIPORTS.NS: 'Adj Close'\n",
            "Error analyzing ADANIPOWER.NS: 'Adj Close'\n",
            "Error analyzing ADANIGREEN.NS: 'Adj Close'\n",
            "Error analyzing COALINDIA.NS: 'Adj Close'\n",
            "Error analyzing POWERGRID.NS: 'Adj Close'\n",
            "Error analyzing ASIANPAINT.NS: 'Adj Close'\n",
            "Error analyzing BAJAJ-AUTO.NS: 'Adj Close'\n",
            "Error analyzing WIPRO.NS: 'Adj Close'\n",
            "Error analyzing BAJAJFINSV.NS: 'Adj Close'\n",
            "Error analyzing SIEMENS.NS: 'Adj Close'\n",
            "Error analyzing NESTLEIND.NS: 'Adj Close'\n",
            "Error analyzing IOC.NS: 'Adj Close'\n",
            "Error analyzing IRFC.NS: 'Adj Close'\n",
            "Error analyzing JIOFIN.NS: 'Adj Close'\n",
            "Error analyzing TATASTEEL.NS: 'Adj Close'\n",
            "Error analyzing JSWSTEEL.NS: 'Adj Close'\n",
            "Error analyzing DLF.NS: 'Adj Close'\n",
            "Error analyzing BEL.NS: 'Adj Close'\n",
            "Error analyzing VBL.NS: 'Adj Close'\n",
            "Error analyzing TRENT.NS: 'Adj Close'\n",
            "Error analyzing VEDL.NS: 'Adj Close'\n",
            "Error analyzing ABB.NS: 'Adj Close'\n",
            "Error analyzing INDIGO.NS: 'Adj Close'\n",
            "Error analyzing ZOMATO.NS: 'Adj Close'\n",
            "Error analyzing GRASIM.NS: 'Adj Close'\n",
            "Error analyzing PFC.NS: 'Adj Close'\n",
            "Error analyzing PIDILITIND.NS: 'Adj Close'\n",
            "Error analyzing AMBUJACEM.NS: 'Adj Close'\n",
            "Error analyzing HINDALCO.NS: 'Adj Close'\n",
            "Error analyzing LTIM.NS: 'Adj Close'\n",
            "Error analyzing GODREJCP.NS: 'Adj Close'\n",
            "Error analyzing SBILIFE.NS: 'Adj Close'\n",
            "Error analyzing LODHA.NS: 'Adj Close'\n",
            "Error analyzing TATAPOWER.NS: 'Adj Close'\n",
            "Error analyzing BANKBARODA.NS: 'Adj Close'\n",
            "Error analyzing GAIL.NS: 'Adj Close'\n",
            "Error analyzing PNB.NS: 'Adj Close'\n",
            "Error analyzing TECHM.NS: 'Adj Close'\n",
            "Error analyzing BRITANNIA.NS: 'Adj Close'\n",
            "Error analyzing RECLTD.NS: 'Adj Close'\n",
            "Error analyzing EICHERMOT.NS: 'Adj Close'\n",
            "Error analyzing BPCL.NS: 'Adj Close'\n",
            "Error analyzing HDFCLIFE.NS: 'Adj Close'\n",
            "Error analyzing CIPLA.NS: 'Adj Close'\n",
            "Error analyzing DIVISLAB.NS: 'Adj Close'\n",
            "Error analyzing HAVELLS.NS: 'Adj Close'\n",
            "Error analyzing INDUSINDBK.NS: 'Adj Close'\n",
            "Error analyzing TVSMOTOR.NS: 'Adj Close'\n",
            "Error analyzing ADANIENSOL.NS: 'Adj Close'\n",
            "Error analyzing CHOLAFIN.NS: 'Adj Close'\n",
            "Error analyzing UNIONBANK.NS: 'Adj Close'\n",
            "Error analyzing HEROMOTOCO.NS: 'Adj Close'\n",
            "Error analyzing JSWENERGY.NS: 'Adj Close'\n",
            "Error analyzing DABUR.NS: 'Adj Close'\n",
            "Error analyzing TATACONSUM.NS: 'Adj Close'\n",
            "Error analyzing CANBK.NS: 'Adj Close'\n",
            "Error analyzing ATGL.NS: 'Adj Close'\n",
            "Error analyzing ZYDUSLIFE.NS: 'Adj Close'\n",
            "Error analyzing MOTHERSON.NS: 'Adj Close'\n",
            "Error analyzing IDEA.NS: 'Adj Close'\n",
            "Error analyzing JINDALSTEL.NS: 'Adj Close'\n",
            "Error analyzing NHPC.NS: 'Adj Close'\n",
            "Error analyzing POLYCAB.NS: 'Adj Close'\n",
            "Error analyzing CGPOWER.NS: 'Adj Close'\n",
            "Error analyzing DRREDDY.NS: 'Adj Close'\n",
            "Error analyzing CUMMINSIND.NS: 'Adj Close'\n",
            "Error analyzing BHEL.NS: 'Adj Close'\n",
            "Error analyzing TORNTPHARM.NS: 'Adj Close'\n",
            "Error analyzing SHREECEM.NS: 'Adj Close'\n",
            "Error analyzing SHRIRAMFIN.NS: 'Adj Close'\n",
            "Error analyzing INDUSTOWER.NS: 'Adj Close'\n",
            "Error analyzing BAJAJHLDNG.NS: 'Adj Close'\n",
            "Error analyzing IDBI.NS: 'Adj Close'\n",
            "Error analyzing BOSCHLTD.NS: 'Adj Close'\n",
            "Error analyzing APOLLOHOSP.NS: 'Adj Close'\n",
            "Error analyzing MANKIND.NS: 'Adj Close'\n",
            "Error analyzing MARICO.NS: 'Adj Close'\n",
            "Error analyzing INDHOTEL.NS: 'Adj Close'\n",
            "Error analyzing ICICIPRULI.NS: 'Adj Close'\n",
            "Error analyzing HDFCAMC.NS: 'Adj Close'\n",
            "Error analyzing ICICIGI.NS: 'Adj Close'\n",
            "Error analyzing COLPAL.NS: 'Adj Close'\n",
            "Error analyzing NAUKRI.NS: 'Adj Close'\n",
            "Error analyzing MAXHEALTH.NS: 'Adj Close'\n",
            "Error analyzing GODREJPROP.NS: 'Adj Close'\n",
            "Error analyzing IRCTC.NS: 'Adj Close'\n",
            "Error analyzing RVNL.NS: 'Adj Close'\n",
            "Error analyzing TIINDIA.NS: 'Adj Close'\n",
            "Error analyzing NMDC.NS: 'Adj Close'\n",
            "Error analyzing LUPIN.NS: 'Adj Close'\n",
            "Error analyzing HINDPETRO.NS: 'Adj Close'\n",
            "Error analyzing AUROPHARMA.NS: 'Adj Close'\n",
            "Error analyzing BHARATFORG.NS: 'Adj Close'\n",
            "Error analyzing SUPREMEIND.NS: 'Adj Close'\n",
            "Error analyzing OFSS.NS: 'Adj Close'\n",
            "Error analyzing YESBANK.NS: 'Adj Close'\n",
            "Error analyzing INDIANB.NS: 'Adj Close'\n",
            "Error analyzing TORNTPOWER.NS: 'Adj Close'\n",
            "Error analyzing PRESTIGE.NS: 'Adj Close'\n",
            "Error analyzing OBEROIRLTY.NS: 'Adj Close'\n",
            "Error analyzing SRF.NS: 'Adj Close'\n",
            "Error analyzing SBICARD.NS: 'Adj Close'\n",
            "Error analyzing ASHOKLEY.NS: 'Adj Close'\n",
            "Error analyzing SUZLON.NS: 'Adj Close'\n",
            "Error analyzing OIL.NS: 'Adj Close'\n",
            "Error analyzing CONCOR.NS: 'Adj Close'\n",
            "Error analyzing MAZDOCK.NS: 'Adj Close'\n",
            "Error analyzing SAIL.NS: 'Adj Close'\n",
            "Error analyzing BALKRISIND.NS: 'Adj Close'\n",
            "Error analyzing ABCAPITAL.NS: 'Adj Close'\n",
            "Error analyzing DIXON.NS: 'Adj Close'\n",
            "Error analyzing PERSISTENT.NS: 'Adj Close'\n",
            "Error analyzing ALKEM.NS: 'Adj Close'\n",
            "Error analyzing JSWINFRA.NS: 'Adj Close'\n",
            "Error analyzing POLICYBZR.NS: 'Adj Close'\n",
            "Error analyzing ASTRAL.NS: 'Adj Close'\n",
            "Error analyzing BERGEPAINT.NS: 'Adj Close'\n",
            "Error analyzing PIIND.NS: 'Adj Close'\n",
            "Error analyzing BANKINDIA.NS: 'Adj Close'\n",
            "Error analyzing IDFCFIRSTB.NS: 'Adj Close'\n",
            "Error analyzing MRF.NS: 'Adj Close'\n",
            "Error analyzing BDL.NS: 'Adj Close'\n",
            "Error analyzing SJVN.NS: 'Adj Close'\n",
            "Error analyzing TATACOMM.NS: 'Adj Close'\n",
            "Error analyzing PATANJALI.NS: 'Adj Close'\n",
            "Error analyzing LTTS.NS: 'Adj Close'\n",
            "Error analyzing AUBANK.NS: 'Adj Close'\n",
            "Error analyzing NYKAA.NS: 'Adj Close'\n",
            "Error analyzing VOLTAS.NS: 'Adj Close'\n",
            "Error analyzing MAHABANK.NS: 'Adj Close'\n",
            "Error analyzing ACC.NS: 'Adj Close'\n",
            "Error analyzing MPHASIS.NS: 'Adj Close'\n",
            "Error analyzing FACT.NS: 'Adj Close'\n",
            "Error analyzing PETRONET.NS: 'Adj Close'\n",
            "Error analyzing APLAPOLLO.NS: 'Adj Close'\n",
            "Error analyzing TATAELXSI.NS: 'Adj Close'\n",
            "Error analyzing ESCORTS.NS: 'Adj Close'\n",
            "Error analyzing TATATECH.NS: 'Adj Close'\n",
            "Error analyzing PAGEIND.NS: 'Adj Close'\n",
            "Error analyzing KALYANKJIL.NS: 'Adj Close'\n",
            "Error analyzing LTF.NS: 'Adj Close'\n",
            "Error analyzing KPITTECH.NS: 'Adj Close'\n",
            "Error analyzing UPL.NS: 'Adj Close'\n",
            "Error analyzing GUJGASLTD.NS: 'Adj Close'\n",
            "Error analyzing BIOCON.NS: 'Adj Close'\n",
            "Error analyzing FEDERALBNK.NS: 'Adj Close'\n",
            "Error analyzing SONACOMS.NS: 'Adj Close'\n",
            "Error analyzing LICHSGFIN.NS: 'Adj Close'\n",
            "Error analyzing BSE.NS: 'Adj Close'\n",
            "Error analyzing COFORGE.NS: 'Adj Close'\n",
            "Error analyzing POONAWALLA.NS: 'Adj Close'\n",
            "Error analyzing FORTIS.NS: 'Adj Close'\n",
            "Error analyzing M&MFIN.NS: 'Adj Close'\n",
            "Error analyzing JUBLFOOD.NS: 'Adj Close'\n",
            "Error analyzing DALBHARAT.NS: 'Adj Close'\n",
            "Error analyzing ABFRL.NS: 'Adj Close'\n",
            "Error analyzing IGL.NS: 'Adj Close'\n",
            "Error analyzing MFSL.NS: 'Adj Close'\n",
            "Error analyzing BANDHANBNK.NS: 'Adj Close'\n",
            "Error analyzing DEEPAKNTR.NS: 'Adj Close'\n",
            "Error analyzing APOLLOTYRE.NS: 'Adj Close'\n",
            "Error analyzing GLAND.NS: 'Adj Close'\n",
            "Error analyzing IPCALAB.NS: 'Adj Close'\n",
            "Error analyzing DELHIVERY.NS: 'Adj Close'\n",
            "Error analyzing SUNTV.NS: 'Adj Close'\n",
            "Error analyzing SYNGENE.NS: 'Adj Close'\n",
            "Error analyzing TATACHEM.NS: 'Adj Close'\n",
            "Error analyzing PAYTM.NS: 'Adj Close'\n",
            "Error analyzing LAURUSLABS.NS: 'Adj Close'\n",
            "Error analyzing LALPATHLAB.NS: 'Adj Close'\n",
            "Error analyzing PEL.NS: 'Adj Close'\n",
            "Error analyzing ZEEL.NS: 'Adj Close'\n",
            "Error analyzing UNITDSPR.NS: 'Adj Close'\n"
          ]
        },
        {
          "output_type": "error",
          "ename": "KeyError",
          "evalue": "'Return_6M'",
          "traceback": [
            "\u001b[0;31m---------------------------------------------------------------------------\u001b[0m",
            "\u001b[0;31mKeyError\u001b[0m                                  Traceback (most recent call last)",
            "\u001b[0;32m<ipython-input-4-bd64ca28d895>\u001b[0m in \u001b[0;36m<cell line: 0>\u001b[0;34m()\u001b[0m\n\u001b[1;32m    104\u001b[0m \u001b[0;34m\u001b[0m\u001b[0m\n\u001b[1;32m    105\u001b[0m \u001b[0;31m# Round off returns to 1 decimal place\u001b[0m\u001b[0;34m\u001b[0m\u001b[0;34m\u001b[0m\u001b[0m\n\u001b[0;32m--> 106\u001b[0;31m \u001b[0mdf_summary\u001b[0m\u001b[0;34m[\u001b[0m\u001b[0;34m'Return_6M'\u001b[0m\u001b[0;34m]\u001b[0m \u001b[0;34m=\u001b[0m \u001b[0mdf_summary\u001b[0m\u001b[0;34m[\u001b[0m\u001b[0;34m'Return_6M'\u001b[0m\u001b[0;34m]\u001b[0m\u001b[0;34m.\u001b[0m\u001b[0mround\u001b[0m\u001b[0;34m(\u001b[0m\u001b[0;36m1\u001b[0m\u001b[0;34m)\u001b[0m\u001b[0;34m\u001b[0m\u001b[0;34m\u001b[0m\u001b[0m\n\u001b[0m\u001b[1;32m    107\u001b[0m \u001b[0mdf_summary\u001b[0m\u001b[0;34m[\u001b[0m\u001b[0;34m'Return_3M'\u001b[0m\u001b[0;34m]\u001b[0m \u001b[0;34m=\u001b[0m \u001b[0mdf_summary\u001b[0m\u001b[0;34m[\u001b[0m\u001b[0;34m'Return_3M'\u001b[0m\u001b[0;34m]\u001b[0m\u001b[0;34m.\u001b[0m\u001b[0mround\u001b[0m\u001b[0;34m(\u001b[0m\u001b[0;36m1\u001b[0m\u001b[0;34m)\u001b[0m\u001b[0;34m\u001b[0m\u001b[0;34m\u001b[0m\u001b[0m\n\u001b[1;32m    108\u001b[0m \u001b[0mdf_summary\u001b[0m\u001b[0;34m[\u001b[0m\u001b[0;34m'Return_1M'\u001b[0m\u001b[0;34m]\u001b[0m \u001b[0;34m=\u001b[0m \u001b[0mdf_summary\u001b[0m\u001b[0;34m[\u001b[0m\u001b[0;34m'Return_1M'\u001b[0m\u001b[0;34m]\u001b[0m\u001b[0;34m.\u001b[0m\u001b[0mround\u001b[0m\u001b[0;34m(\u001b[0m\u001b[0;36m1\u001b[0m\u001b[0;34m)\u001b[0m\u001b[0;34m\u001b[0m\u001b[0;34m\u001b[0m\u001b[0m\n",
            "\u001b[0;32m/usr/local/lib/python3.11/dist-packages/pandas/core/frame.py\u001b[0m in \u001b[0;36m__getitem__\u001b[0;34m(self, key)\u001b[0m\n\u001b[1;32m   4100\u001b[0m             \u001b[0;32mif\u001b[0m \u001b[0mself\u001b[0m\u001b[0;34m.\u001b[0m\u001b[0mcolumns\u001b[0m\u001b[0;34m.\u001b[0m\u001b[0mnlevels\u001b[0m \u001b[0;34m>\u001b[0m \u001b[0;36m1\u001b[0m\u001b[0;34m:\u001b[0m\u001b[0;34m\u001b[0m\u001b[0;34m\u001b[0m\u001b[0m\n\u001b[1;32m   4101\u001b[0m                 \u001b[0;32mreturn\u001b[0m \u001b[0mself\u001b[0m\u001b[0;34m.\u001b[0m\u001b[0m_getitem_multilevel\u001b[0m\u001b[0;34m(\u001b[0m\u001b[0mkey\u001b[0m\u001b[0;34m)\u001b[0m\u001b[0;34m\u001b[0m\u001b[0;34m\u001b[0m\u001b[0m\n\u001b[0;32m-> 4102\u001b[0;31m             \u001b[0mindexer\u001b[0m \u001b[0;34m=\u001b[0m \u001b[0mself\u001b[0m\u001b[0;34m.\u001b[0m\u001b[0mcolumns\u001b[0m\u001b[0;34m.\u001b[0m\u001b[0mget_loc\u001b[0m\u001b[0;34m(\u001b[0m\u001b[0mkey\u001b[0m\u001b[0;34m)\u001b[0m\u001b[0;34m\u001b[0m\u001b[0;34m\u001b[0m\u001b[0m\n\u001b[0m\u001b[1;32m   4103\u001b[0m             \u001b[0;32mif\u001b[0m \u001b[0mis_integer\u001b[0m\u001b[0;34m(\u001b[0m\u001b[0mindexer\u001b[0m\u001b[0;34m)\u001b[0m\u001b[0;34m:\u001b[0m\u001b[0;34m\u001b[0m\u001b[0;34m\u001b[0m\u001b[0m\n\u001b[1;32m   4104\u001b[0m                 \u001b[0mindexer\u001b[0m \u001b[0;34m=\u001b[0m \u001b[0;34m[\u001b[0m\u001b[0mindexer\u001b[0m\u001b[0;34m]\u001b[0m\u001b[0;34m\u001b[0m\u001b[0;34m\u001b[0m\u001b[0m\n",
            "\u001b[0;32m/usr/local/lib/python3.11/dist-packages/pandas/core/indexes/range.py\u001b[0m in \u001b[0;36mget_loc\u001b[0;34m(self, key)\u001b[0m\n\u001b[1;32m    415\u001b[0m                 \u001b[0;32mraise\u001b[0m \u001b[0mKeyError\u001b[0m\u001b[0;34m(\u001b[0m\u001b[0mkey\u001b[0m\u001b[0;34m)\u001b[0m \u001b[0;32mfrom\u001b[0m \u001b[0merr\u001b[0m\u001b[0;34m\u001b[0m\u001b[0;34m\u001b[0m\u001b[0m\n\u001b[1;32m    416\u001b[0m         \u001b[0;32mif\u001b[0m \u001b[0misinstance\u001b[0m\u001b[0;34m(\u001b[0m\u001b[0mkey\u001b[0m\u001b[0;34m,\u001b[0m \u001b[0mHashable\u001b[0m\u001b[0;34m)\u001b[0m\u001b[0;34m:\u001b[0m\u001b[0;34m\u001b[0m\u001b[0;34m\u001b[0m\u001b[0m\n\u001b[0;32m--> 417\u001b[0;31m             \u001b[0;32mraise\u001b[0m \u001b[0mKeyError\u001b[0m\u001b[0;34m(\u001b[0m\u001b[0mkey\u001b[0m\u001b[0;34m)\u001b[0m\u001b[0;34m\u001b[0m\u001b[0;34m\u001b[0m\u001b[0m\n\u001b[0m\u001b[1;32m    418\u001b[0m         \u001b[0mself\u001b[0m\u001b[0;34m.\u001b[0m\u001b[0m_check_indexing_error\u001b[0m\u001b[0;34m(\u001b[0m\u001b[0mkey\u001b[0m\u001b[0;34m)\u001b[0m\u001b[0;34m\u001b[0m\u001b[0;34m\u001b[0m\u001b[0m\n\u001b[1;32m    419\u001b[0m         \u001b[0;32mraise\u001b[0m \u001b[0mKeyError\u001b[0m\u001b[0;34m(\u001b[0m\u001b[0mkey\u001b[0m\u001b[0;34m)\u001b[0m\u001b[0;34m\u001b[0m\u001b[0;34m\u001b[0m\u001b[0m\n",
            "\u001b[0;31mKeyError\u001b[0m: 'Return_6M'"
          ]
        }
      ]
    }
  ]
}